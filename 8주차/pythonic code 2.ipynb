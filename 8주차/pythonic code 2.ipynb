{
 "cells": [
  {
   "cell_type": "code",
   "execution_count": 1,
   "id": "e104c4fb",
   "metadata": {},
   "outputs": [],
   "source": [
    "# 9-1\n",
    "def f(x,y):\n",
    "    return x ** y\n",
    "\n",
    "f = lambda x, y : x ** y"
   ]
  },
  {
   "cell_type": "code",
   "execution_count": 3,
   "id": "d45259c0",
   "metadata": {},
   "outputs": [
    {
     "data": {
      "text/plain": [
       "[1, 4, 9, 16, 25]"
      ]
     },
     "execution_count": 3,
     "metadata": {},
     "output_type": "execute_result"
    }
   ],
   "source": [
    "# 9-2\n",
    "ex = [1,2,3,4,5]\n",
    "#[value ** 2 for value in ex]\n",
    "\n",
    "f = lambda x : x ** 2\n",
    "list(map(f, ex))"
   ]
  },
  {
   "cell_type": "code",
   "execution_count": 5,
   "id": "3b38fb1d",
   "metadata": {},
   "outputs": [
    {
     "data": {
      "text/plain": [
       "3628800"
      ]
     },
     "execution_count": 5,
     "metadata": {},
     "output_type": "execute_result"
    }
   ],
   "source": [
    "# 9-3\n",
    "from functools import reduce\n",
    "x = 10\n",
    "reduce(lambda x, y: x * y, list(range(x, 0, -1)))"
   ]
  },
  {
   "cell_type": "code",
   "execution_count": 6,
   "id": "292aaa49",
   "metadata": {},
   "outputs": [
    {
     "name": "stdout",
     "output_type": "stream",
     "text": [
      "True\n",
      "False\n"
     ]
    }
   ],
   "source": [
    "# 9 - 7\n",
    "def size_check(*vectors):\n",
    "    return len(set([len(i) for i in vectors])) == 1\n",
    "\n",
    "v1 = [[1,2,3],[3,4,5],[5,6,7]]\n",
    "v2 = [[1,2,3],[3,4,5],[5,6,7,8]]\n",
    "\n",
    "print(size_check(*v1))\n",
    "print(size_check(*v2))"
   ]
  },
  {
   "cell_type": "code",
   "execution_count": 7,
   "id": "42ecff50",
   "metadata": {},
   "outputs": [
    {
     "data": {
      "text/plain": [
       "[5, 10, 15, 20]"
      ]
     },
     "execution_count": 7,
     "metadata": {},
     "output_type": "execute_result"
    }
   ],
   "source": [
    "# 9-8\n",
    "def scalar_vector_product(alpha, vec):\n",
    "    return [alpha * t for t in vec]\n",
    "\n",
    "scalar_vector_product(5,[1,2,3,4])"
   ]
  },
  {
   "cell_type": "code",
   "execution_count": 8,
   "id": "4eef1d48",
   "metadata": {},
   "outputs": [
    {
     "data": {
      "text/plain": [
       "[[4, 9], [7, 4]]"
      ]
     },
     "execution_count": 8,
     "metadata": {},
     "output_type": "execute_result"
    }
   ],
   "source": [
    "# 9-9\n",
    "def matrix_addition(*matrix):\n",
    "    return [[sum(row) for row in zip(*t)] for t in zip(*matrix)]\n",
    "    \n",
    "matrix_x = [[2,5],[2,1]]\n",
    "matrix_y = [[2,4],[5,3]]\n",
    "matrix_addition(matrix_x, matrix_y)"
   ]
  },
  {
   "cell_type": "code",
   "execution_count": 9,
   "id": "82006341",
   "metadata": {},
   "outputs": [
    {
     "name": "stdout",
     "output_type": "stream",
     "text": [
      "[-1, -1]\n",
      "[-13, -6]\n"
     ]
    }
   ],
   "source": [
    "# 9 - 10\n",
    "def vector_subtraction(*vector):\n",
    "    return [value[0] - sum(value[1:]) for value in zip(*vector)]\n",
    "print(vector_subtraction([1,3],[2,4]))\n",
    "print(vector_subtraction([1,5],[10,4],[4,7]))"
   ]
  }
 ],
 "metadata": {
  "kernelspec": {
   "display_name": "Python 3",
   "language": "python",
   "name": "python3"
  },
  "language_info": {
   "codemirror_mode": {
    "name": "ipython",
    "version": 3
   },
   "file_extension": ".py",
   "mimetype": "text/x-python",
   "name": "python",
   "nbconvert_exporter": "python",
   "pygments_lexer": "ipython3",
   "version": "3.8.8"
  }
 },
 "nbformat": 4,
 "nbformat_minor": 5
}
