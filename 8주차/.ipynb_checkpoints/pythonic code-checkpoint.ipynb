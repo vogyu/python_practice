{
 "cells": [
  {
   "cell_type": "markdown",
   "id": "fb939d34",
   "metadata": {},
   "source": [
    "# 문자열 분리 및 결합"
   ]
  },
  {
   "cell_type": "code",
   "execution_count": 1,
   "id": "c1ac9501",
   "metadata": {},
   "outputs": [
    {
     "name": "stdout",
     "output_type": "stream",
     "text": [
      "python  jquery  javascript\n"
     ]
    }
   ],
   "source": [
    "# split : 문자열 분리\n",
    "example = 'python, jquery, javascript'\n",
    "a, b, c = example.split(',')\n",
    "print(a,b,c)"
   ]
  },
  {
   "cell_type": "code",
   "execution_count": 2,
   "id": "8dc0b1ca",
   "metadata": {},
   "outputs": [
    {
     "name": "stdout",
     "output_type": "stream",
     "text": [
      "redbluegreenyellow\n"
     ]
    }
   ],
   "source": [
    "# join : 문자열 결합\n",
    "colors = ['red','blue','green','yellow']\n",
    "result = ''.join(colors)\n",
    "print(result)"
   ]
  },
  {
   "cell_type": "code",
   "execution_count": 3,
   "id": "2f3f98e8",
   "metadata": {},
   "outputs": [
    {
     "name": "stdout",
     "output_type": "stream",
     "text": [
      "red, blue, green, yellow\n"
     ]
    }
   ],
   "source": [
    "result = ', '.join(colors)\n",
    "print(result)"
   ]
  },
  {
   "cell_type": "markdown",
   "id": "48c0a90b",
   "metadata": {},
   "source": [
    "# List Comprehension"
   ]
  },
  {
   "cell_type": "code",
   "execution_count": 4,
   "id": "6ba60b5d",
   "metadata": {},
   "outputs": [
    {
     "name": "stdout",
     "output_type": "stream",
     "text": [
      "[0, 10, 2, 10, 4, 10, 6, 10, 8, 10]\n"
     ]
    }
   ],
   "source": [
    "# 10이하의 짝수 생성\n",
    "result = [i if i %2 == 0 else 10 for i in range(10)]\n",
    "print(result)"
   ]
  },
  {
   "cell_type": "code",
   "execution_count": 5,
   "id": "f81ccc51",
   "metadata": {},
   "outputs": [
    {
     "name": "stdout",
     "output_type": "stream",
     "text": [
      "['AD', 'AE', 'AA', 'BD', 'BE', 'BA', 'CD', 'CE', 'CA']\n"
     ]
    }
   ],
   "source": [
    "# 중첩 반복문\n",
    "word1 = 'ABC'\n",
    "word2 = 'DEA'\n",
    "result = [i+j for i in word1 for j in word2]\n",
    "print(result)"
   ]
  },
  {
   "cell_type": "code",
   "execution_count": 6,
   "id": "17ae2c94",
   "metadata": {},
   "outputs": [
    {
     "name": "stdout",
     "output_type": "stream",
     "text": [
      "['AD', 'AE', 'BD', 'BE', 'BA', 'CD', 'CE', 'CA']\n"
     ]
    }
   ],
   "source": [
    "# 중첩 반복문 with filtering\n",
    "result = [i + j for i in word1 for j in word2 if not(i == j)]\n",
    "print(result)"
   ]
  },
  {
   "cell_type": "code",
   "execution_count": 7,
   "id": "16946bfe",
   "metadata": {},
   "outputs": [
    {
     "name": "stdout",
     "output_type": "stream",
     "text": [
      "[['AD', 'BD', 'CD'], ['AE', 'BE', 'CE'], ['AA', 'BA', 'CA']]\n"
     ]
    }
   ],
   "source": [
    "# 이차원 리스트 - word2의 j가 고정\n",
    "result = [[i + j for i in word1] for j in word2]\n",
    "print(result)"
   ]
  },
  {
   "cell_type": "code",
   "execution_count": 9,
   "id": "1315de40",
   "metadata": {},
   "outputs": [
    {
     "name": "stdout",
     "output_type": "stream",
     "text": [
      "[['DA', 'EA', 'AA'], ['DB', 'EB', 'AB'], ['DC', 'EC', 'AC']]\n"
     ]
    }
   ],
   "source": [
    "# 이차원 리스트 - word1을 고정하고 싶다면?\n",
    "result =  [[i + j for i in word2] for j in word1]\n",
    "print(result)"
   ]
  },
  {
   "cell_type": "code",
   "execution_count": 16,
   "id": "564134af",
   "metadata": {},
   "outputs": [
    {
     "name": "stdout",
     "output_type": "stream",
     "text": [
      "7.8289289474487305\n"
     ]
    }
   ],
   "source": [
    "# 벡터와 스칼라의 곱\n",
    "# 8-1 Loop (일반 반복문 + 리스트)\n",
    "import time\n",
    "\n",
    "start = time.time()\n",
    "\n",
    "def scalar_vector_product(scalar, vector):\n",
    "    result = []\n",
    "    for value in vector:\n",
    "        result.append(scalar * value)\n",
    "    return result\n",
    "\n",
    "iteration_max = 10000\n",
    "\n",
    "vector = list(range(iteration_max))\n",
    "scalar = 2\n",
    "\n",
    "for _ in range(iteration_max):\n",
    "    scalar_vector_product(scalar,vector)\n",
    "    \n",
    "end = time.time()\n",
    "print(end-start)"
   ]
  },
  {
   "cell_type": "code",
   "execution_count": 17,
   "id": "2fb8ecbb",
   "metadata": {},
   "outputs": [
    {
     "name": "stdout",
     "output_type": "stream",
     "text": [
      "7.983047008514404\n"
     ]
    }
   ],
   "source": [
    "# 벡터와 스칼라의 곱\n",
    "# 8- 2 List comprehension\n",
    "import time\n",
    "\n",
    "start = time.time()\n",
    "\n",
    "iteration_max = 10000\n",
    "\n",
    "vetor = list(range(iteration_max))\n",
    "scalar = 2\n",
    "\n",
    "for _ in range(iteration_max):\n",
    "    [scalar * value for value in range(iteration_max)]\n",
    "    \n",
    "end = time.time()\n",
    "print(end-start)"
   ]
  },
  {
   "cell_type": "markdown",
   "id": "b79ce2c6",
   "metadata": {},
   "source": [
    "# emuerate\n",
    "인덱스를 붙여 리스트 값 추출"
   ]
  },
  {
   "cell_type": "code",
   "execution_count": 19,
   "id": "2eb6120e",
   "metadata": {},
   "outputs": [
    {
     "name": "stdout",
     "output_type": "stream",
     "text": [
      "0 tic\n",
      "1 tac\n",
      "2 toe\n"
     ]
    }
   ],
   "source": [
    "for i, v in enumerate(['tic', 'tac','toe']):\n",
    "    print(i,v)"
   ]
  },
  {
   "cell_type": "code",
   "execution_count": 21,
   "id": "06f51beb",
   "metadata": {},
   "outputs": [
    {
     "name": "stdout",
     "output_type": "stream",
     "text": [
      "{0: 'TEAMLAB', 1: 'is', 2: 'an', 3: 'academic', 4: 'institute', 5: 'located', 6: 'in', 7: 'South', 8: 'Korea'}\n"
     ]
    }
   ],
   "source": [
    "dic = {i:j for i, j in enumerate(\n",
    "    'TEAMLAB is an academic institute located in South Korea'.split())}\n",
    "print(dic)"
   ]
  },
  {
   "cell_type": "markdown",
   "id": "cbfaf29d",
   "metadata": {},
   "source": [
    "# Zip\n",
    "두 그룹의 요소들을 서로 엮음"
   ]
  },
  {
   "cell_type": "code",
   "execution_count": 24,
   "id": "62bf550f",
   "metadata": {},
   "outputs": [
    {
     "name": "stdout",
     "output_type": "stream",
     "text": [
      "a1 b1\n",
      "a2 b2\n",
      "a3 b3\n"
     ]
    }
   ],
   "source": [
    "alist = ['a1', 'a2', 'a3']\n",
    "blist = ['b1', 'b2', 'b3']\n",
    "for a, b in zip(alist,blist):\n",
    "    print(a, b)"
   ]
  },
  {
   "cell_type": "code",
   "execution_count": 25,
   "id": "725e25bd",
   "metadata": {},
   "outputs": [
    {
     "name": "stdout",
     "output_type": "stream",
     "text": [
      "[('a1', 'b1'), ('a2', 'b2'), ('a3', 'b3')]\n"
     ]
    }
   ],
   "source": [
    "ablist = list(zip(alist, blist))\n",
    "print(ablist)"
   ]
  },
  {
   "cell_type": "code",
   "execution_count": 27,
   "id": "517233d3",
   "metadata": {},
   "outputs": [
    {
     "name": "stdout",
     "output_type": "stream",
     "text": [
      "(1, 10, 100) (2, 20, 200) (3, 30, 300)\n"
     ]
    }
   ],
   "source": [
    "a, b, c = zip((1,2,3), (10,20,30), (100,200,300))\n",
    "print(a,b,c)"
   ]
  },
  {
   "cell_type": "code",
   "execution_count": 28,
   "id": "84350a6f",
   "metadata": {},
   "outputs": [
    {
     "data": {
      "text/plain": [
       "[6, 60, 600]"
      ]
     },
     "execution_count": 28,
     "metadata": {},
     "output_type": "execute_result"
    }
   ],
   "source": [
    "[sum(x) for x in zip(a,b,c)]"
   ]
  },
  {
   "cell_type": "code",
   "execution_count": 29,
   "id": "66f70b4e",
   "metadata": {},
   "outputs": [
    {
     "name": "stdout",
     "output_type": "stream",
     "text": [
      "{1: 'hong', 2: 'gil', 3: 'dong', 4: 'nim'}\n"
     ]
    }
   ],
   "source": [
    "no = [1,2,3,4]\n",
    "name = ['hong','gil','dong','nim']\n",
    "dic = {}\n",
    "\n",
    "for no, name, in zip(no, name):\n",
    "    dic[no] = name\n",
    "    \n",
    "print(dic)"
   ]
  },
  {
   "cell_type": "code",
   "execution_count": 30,
   "id": "84feecf1",
   "metadata": {},
   "outputs": [
    {
     "name": "stdout",
     "output_type": "stream",
     "text": [
      "0 a1 b1\n",
      "1 a2 b2\n",
      "2 a3 b3\n"
     ]
    }
   ],
   "source": [
    "for i , (a,b) in enumerate(zip(alist, blist)):\n",
    "    print(i,a,b)"
   ]
  },
  {
   "cell_type": "markdown",
   "id": "85a8c02f",
   "metadata": {},
   "source": [
    "# lambda 함수\n",
    "익명의 함수"
   ]
  },
  {
   "cell_type": "code",
   "execution_count": 1,
   "id": "4ba571c3",
   "metadata": {},
   "outputs": [
    {
     "name": "stdout",
     "output_type": "stream",
     "text": [
      "5\n"
     ]
    }
   ],
   "source": [
    "f = lambda x, y: x+y\n",
    "print(f(1,4))"
   ]
  },
  {
   "cell_type": "code",
   "execution_count": 3,
   "id": "c434c1eb",
   "metadata": {},
   "outputs": [
    {
     "name": "stdout",
     "output_type": "stream",
     "text": [
      "5\n"
     ]
    }
   ],
   "source": [
    "print((lambda x, y: x+ y)(1,4))"
   ]
  },
  {
   "cell_type": "markdown",
   "id": "21c4e7c2",
   "metadata": {},
   "source": [
    "# map 함수\n",
    "시퀀스 자료형의 요소에 같은 함수 적용\n",
    "map(함수, 시퀀스 자료)"
   ]
  },
  {
   "cell_type": "code",
   "execution_count": 4,
   "id": "74810e28",
   "metadata": {},
   "outputs": [
    {
     "name": "stdout",
     "output_type": "stream",
     "text": [
      "[1, 4, 9, 16, 25]\n"
     ]
    }
   ],
   "source": [
    "ex = [1,2,3,4, 5]\n",
    "f = lambda x: x ** 2\n",
    "print(list(map(f,ex)))"
   ]
  },
  {
   "cell_type": "code",
   "execution_count": 5,
   "id": "d27138eb",
   "metadata": {},
   "outputs": [
    {
     "data": {
      "text/plain": [
       "[1, 4, 9, 16, 25]"
      ]
     },
     "execution_count": 5,
     "metadata": {},
     "output_type": "execute_result"
    }
   ],
   "source": [
    "# 리스트 컴프리헨션\n",
    "[x ** 2 for x in ex]"
   ]
  },
  {
   "cell_type": "code",
   "execution_count": 6,
   "id": "0f97905c",
   "metadata": {},
   "outputs": [
    {
     "data": {
      "text/plain": [
       "[2, 4, 6, 8, 10]"
      ]
     },
     "execution_count": 6,
     "metadata": {},
     "output_type": "execute_result"
    }
   ],
   "source": [
    "# 두 개 이상의 시퀀스 자료형에도 적용 가능\n",
    "f = lambda x, y : x+y\n",
    "list(map(f, ex, ex))"
   ]
  },
  {
   "cell_type": "code",
   "execution_count": 7,
   "id": "138e79d1",
   "metadata": {},
   "outputs": [
    {
     "data": {
      "text/plain": [
       "[2, 4, 6, 8, 10]"
      ]
     },
     "execution_count": 7,
     "metadata": {},
     "output_type": "execute_result"
    }
   ],
   "source": [
    "# 리스트 컴프리헨션\n",
    "[x + y for x, y, in zip(ex,ex)]"
   ]
  },
  {
   "cell_type": "code",
   "execution_count": 8,
   "id": "a49682cb",
   "metadata": {},
   "outputs": [
    {
     "data": {
      "text/plain": [
       "[1, 4, 3, 16, 5]"
      ]
     },
     "execution_count": 8,
     "metadata": {},
     "output_type": "execute_result"
    }
   ],
   "source": [
    "# filtering\n",
    "list(map(lambda x : x ** 2 if x % 2 == 0 else x, ex))"
   ]
  },
  {
   "cell_type": "code",
   "execution_count": 9,
   "id": "d124873e",
   "metadata": {},
   "outputs": [
    {
     "data": {
      "text/plain": [
       "[1, 4, 3, 16, 5]"
      ]
     },
     "execution_count": 9,
     "metadata": {},
     "output_type": "execute_result"
    }
   ],
   "source": [
    "# 리스트 컴프리헨션\n",
    "[x ** 2 if x % 2 == 0 else x for x in  ex]"
   ]
  },
  {
   "cell_type": "markdown",
   "id": "46fe481c",
   "metadata": {},
   "source": [
    "# reduce 함수\n",
    "시퀀스 자료형의 요소에 차례로 함수를 적용하여 결과를 누적/통합\n",
    "reduce(함수, 시퀀스자료, 초기값)"
   ]
  },
  {
   "cell_type": "code",
   "execution_count": 10,
   "id": "03cd60f1",
   "metadata": {},
   "outputs": [
    {
     "name": "stdout",
     "output_type": "stream",
     "text": [
      "15\n"
     ]
    }
   ],
   "source": [
    "from functools import reduce\n",
    "print(reduce(lambda x, y: x + y , [1,2,3,4,5]))"
   ]
  },
  {
   "cell_type": "code",
   "execution_count": 11,
   "id": "a12dc1d4",
   "metadata": {},
   "outputs": [
    {
     "name": "stdout",
     "output_type": "stream",
     "text": [
      "115\n"
     ]
    }
   ],
   "source": [
    "# 초기값 부여\n",
    "print(reduce(lambda x, y: x + y , [1,2,3,4,5], 100))"
   ]
  },
  {
   "cell_type": "code",
   "execution_count": 12,
   "id": "7cdc3a54",
   "metadata": {},
   "outputs": [
    {
     "name": "stdout",
     "output_type": "stream",
     "text": [
      "100\n"
     ]
    }
   ],
   "source": [
    "# 예제 최대값 구하기\n",
    "f = lambda a, b: a if (a > b) else b\n",
    "print(reduce(f, [1,100,2,55]))"
   ]
  },
  {
   "cell_type": "markdown",
   "id": "40b6b3fb",
   "metadata": {},
   "source": [
    "# 별표(*) 사용"
   ]
  },
  {
   "cell_type": "code",
   "execution_count": 13,
   "id": "57388797",
   "metadata": {},
   "outputs": [
    {
     "name": "stdout",
     "output_type": "stream",
     "text": [
      "1 (2, 3, 4, 5, 6)\n",
      "<class 'tuple'>\n"
     ]
    }
   ],
   "source": [
    "# 가변 매개변수\n",
    "def asterisk_test(a, *args):\n",
    "    print(a, args)\n",
    "    print(type(args))\n",
    "    \n",
    "asterisk_test(1,2,3,4,5,6)"
   ]
  },
  {
   "cell_type": "code",
   "execution_count": 14,
   "id": "241ad7ab",
   "metadata": {},
   "outputs": [
    {
     "name": "stdout",
     "output_type": "stream",
     "text": [
      "1 {'b': 2, 'c': 3, 'd': 4, 'e': 5, 'f': 6}\n",
      "<class 'dict'>\n"
     ]
    }
   ],
   "source": [
    "# 키워드 가변 매개변수\n",
    "def asterisk_test(a, **kargs):\n",
    "    print(a, kargs)\n",
    "    print(type(kargs))\n",
    "    \n",
    "asterisk_test(1, b=2, c=3, d=4, e= 5, f = 6)"
   ]
  },
  {
   "cell_type": "code",
   "execution_count": 16,
   "id": "1d721869",
   "metadata": {},
   "outputs": [
    {
     "name": "stdout",
     "output_type": "stream",
     "text": [
      "1 2 3 4 5 6\n",
      "<class 'tuple'>\n"
     ]
    }
   ],
   "source": [
    "# 언패킹\n",
    "def asterisk_test(a, args):\n",
    "    print(a, * args)\n",
    "    print(type(args))\n",
    "    \n",
    "asterisk_test(1,(2,3,4,5,6))"
   ]
  },
  {
   "cell_type": "code",
   "execution_count": 18,
   "id": "b147b592",
   "metadata": {},
   "outputs": [
    {
     "name": "stdout",
     "output_type": "stream",
     "text": [
      "1 (2, 3, 4, 5, 6)\n",
      "<class 'tuple'>\n"
     ]
    }
   ],
   "source": [
    "def asterisk_test(a, *args):\n",
    "    print(a, args)\n",
    "    print(type(args))\n",
    "    \n",
    "asterisk_test(1,*(2,3,4,5,6))"
   ]
  },
  {
   "cell_type": "code",
   "execution_count": 20,
   "id": "4da68443",
   "metadata": {},
   "outputs": [
    {
     "name": "stdout",
     "output_type": "stream",
     "text": [
      "[1, 2] [3, 4] [5, 6]\n"
     ]
    }
   ],
   "source": [
    "# 튜플의 언패킹\n",
    "a, b, c = ([1,2],[3,4],[5,6])\n",
    "print(a,b,c)"
   ]
  },
  {
   "cell_type": "code",
   "execution_count": 21,
   "id": "b067b0c9",
   "metadata": {},
   "outputs": [
    {
     "name": "stdout",
     "output_type": "stream",
     "text": [
      "[1, 2] [3, 4] [5, 6]\n"
     ]
    }
   ],
   "source": [
    "# asterisk의 사용으로 언패킹\n",
    "data = ([1,2],[3,4],[5,6])\n",
    "print(*data)"
   ]
  },
  {
   "cell_type": "code",
   "execution_count": 22,
   "id": "a7b53ebb",
   "metadata": {},
   "outputs": [
    {
     "name": "stdout",
     "output_type": "stream",
     "text": [
      "(1, 3, 5)\n",
      "9\n",
      "(2, 4, 6)\n",
      "12\n"
     ]
    }
   ],
   "source": [
    "# zip 함수와 함게 사용\n",
    "for data in zip(*[[1,2],[3,4],[5,6]]):\n",
    "    print(data)\n",
    "    print(sum(data))"
   ]
  },
  {
   "cell_type": "code",
   "execution_count": 23,
   "id": "0afb8af7",
   "metadata": {},
   "outputs": [
    {
     "name": "stdout",
     "output_type": "stream",
     "text": [
      "10 1 2 3\n"
     ]
    }
   ],
   "source": [
    "# 딕셔너리의 언패킹\n",
    "def asterisk_test(a,b,c,d):\n",
    "    print(a,b,c,d)\n",
    "    \n",
    "data = {'b':1, 'c':2, 'd':3}\n",
    "asterisk_test(10, **data)"
   ]
  },
  {
   "cell_type": "code",
   "execution_count": 24,
   "id": "f5fbca3e",
   "metadata": {},
   "outputs": [
    {
     "name": "stdout",
     "output_type": "stream",
     "text": [
      "5\n"
     ]
    }
   ],
   "source": [
    "# 다른예제\n",
    "def add(a=0, b=0):\n",
    "    return a + b\n",
    "\n",
    "d = {'a':2, 'b':3}\n",
    "print(add(**d))"
   ]
  },
  {
   "cell_type": "code",
   "execution_count": 25,
   "id": "7e485418",
   "metadata": {},
   "outputs": [
    {
     "name": "stdout",
     "output_type": "stream",
     "text": [
      "arg3: 3\n",
      "arg2: two\n",
      "arg1: 1\n"
     ]
    }
   ],
   "source": [
    "# 또 다른 예제\n",
    "def test(arg1, arg2, arg3):\n",
    "    print('arg3:', arg3)\n",
    "    print('arg2:', arg2)\n",
    "    print('arg1:', arg1)\n",
    "    \n",
    "kwargs = {'arg3':3, 'arg2':'two', 'arg1':1}\n",
    "test(**kwargs)\n",
    "    "
   ]
  },
  {
   "cell_type": "code",
   "execution_count": null,
   "id": "d56d980d",
   "metadata": {},
   "outputs": [],
   "source": []
  }
 ],
 "metadata": {
  "kernelspec": {
   "display_name": "Python 3",
   "language": "python",
   "name": "python3"
  },
  "language_info": {
   "codemirror_mode": {
    "name": "ipython",
    "version": 3
   },
   "file_extension": ".py",
   "mimetype": "text/x-python",
   "name": "python",
   "nbconvert_exporter": "python",
   "pygments_lexer": "ipython3",
   "version": "3.8.8"
  }
 },
 "nbformat": 4,
 "nbformat_minor": 5
}
