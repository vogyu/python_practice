{
 "cells": [
  {
   "cell_type": "markdown",
   "id": "72987f50",
   "metadata": {},
   "source": [
    "## 가시성 예제"
   ]
  },
  {
   "cell_type": "code",
   "execution_count": 1,
   "id": "5ab7a2e6",
   "metadata": {},
   "outputs": [],
   "source": [
    "class Box(object):\n",
    "    def __init__(self,name):\n",
    "        self.name = name\n",
    "        self.__items = []\n",
    "        \n",
    "    def add_item(self,item):\n",
    "        self.__items.append(item)\n",
    "        print(\"아이템 추가\")\n",
    "    \n",
    "    def get_number_of_items(self):\n",
    "        return len(self.__items)"
   ]
  },
  {
   "cell_type": "code",
   "execution_count": 2,
   "id": "9cd3e2ed",
   "metadata": {},
   "outputs": [
    {
     "name": "stdout",
     "output_type": "stream",
     "text": [
      "아이템 추가\n",
      "아이템 추가\n",
      "Box\n",
      "2\n"
     ]
    }
   ],
   "source": [
    "box = Box(\"Box\")\n",
    "box.add_item(\"Item1\")\n",
    "box.add_item(\"Item2\")\n",
    "print(box.name)\n",
    "print(box.get_number_of_items())"
   ]
  },
  {
   "cell_type": "code",
   "execution_count": 3,
   "id": "30e8dedb",
   "metadata": {},
   "outputs": [
    {
     "ename": "AttributeError",
     "evalue": "'Box' object has no attribute '__items'",
     "output_type": "error",
     "traceback": [
      "\u001b[1;31m---------------------------------------------------------------------------\u001b[0m",
      "\u001b[1;31mAttributeError\u001b[0m                            Traceback (most recent call last)",
      "\u001b[1;32m<ipython-input-3-69d979dabfe4>\u001b[0m in \u001b[0;36m<module>\u001b[1;34m\u001b[0m\n\u001b[1;32m----> 1\u001b[1;33m \u001b[0mprint\u001b[0m\u001b[1;33m(\u001b[0m\u001b[0mbox\u001b[0m\u001b[1;33m.\u001b[0m\u001b[0m__items\u001b[0m\u001b[1;33m)\u001b[0m\u001b[1;33m\u001b[0m\u001b[1;33m\u001b[0m\u001b[0m\n\u001b[0m",
      "\u001b[1;31mAttributeError\u001b[0m: 'Box' object has no attribute '__items'"
     ]
    }
   ],
   "source": [
    "print(box.__items) # 숨겨져서 오류 뜸"
   ]
  },
  {
   "cell_type": "markdown",
   "id": "f01f10b7",
   "metadata": {},
   "source": [
    "# 클래스 상속, 메소드 오버라이딩 예제\n",
    "* Vehicle 클래스를 상속받아 Car 클래스와 Truck 클래스 생성\n",
    "* Car 클래스와 Truck 클래스는 up_speed 메소드를 오버라이딩\n",
    "* Car 클래스는 속도가 240 초과되면 240으로 조정\n",
    "* Truck 클래스는 속도가 100 초과되면 100으로 조정"
   ]
  },
  {
   "cell_type": "code",
   "execution_count": 9,
   "id": "f16b8b9f",
   "metadata": {},
   "outputs": [],
   "source": [
    "class Vehicle(object):\n",
    "    speed = 0\n",
    "    def up_speed(self,value):\n",
    "        self.speed += value\n",
    "        \n",
    "    def down_speed(self, value):\n",
    "        self.speed -= value\n",
    "        \n",
    "    def print_speed(self):\n",
    "        print(\"Speed\", str(self.speed))\n",
    "        \n",
    "class Car(Vehicle):\n",
    "    def up_speed(self,value):\n",
    "        self.speed += value\n",
    "        if self.speed > 240:\n",
    "            self.speed = 240\n",
    "            \n",
    "class Truck(Vehicle):\n",
    "    def up_speed(self,value):\n",
    "        self.speed += value\n",
    "        if self.speed > 180:\n",
    "            self.speed = 180"
   ]
  },
  {
   "cell_type": "code",
   "execution_count": 12,
   "id": "b599dc91",
   "metadata": {},
   "outputs": [
    {
     "name": "stdout",
     "output_type": "stream",
     "text": [
      "Speed 240\n",
      "Speed 180\n"
     ]
    }
   ],
   "source": [
    "car = Car()\n",
    "car.up_speed(300)\n",
    "car.print_speed()\n",
    "\n",
    "truck = Truck()\n",
    "truck.up_speed(200)\n",
    "truck.print_speed()"
   ]
  }
 ],
 "metadata": {
  "kernelspec": {
   "display_name": "Python 3",
   "language": "python",
   "name": "python3"
  },
  "language_info": {
   "codemirror_mode": {
    "name": "ipython",
    "version": 3
   },
   "file_extension": ".py",
   "mimetype": "text/x-python",
   "name": "python",
   "nbconvert_exporter": "python",
   "pygments_lexer": "ipython3",
   "version": "3.8.8"
  }
 },
 "nbformat": 4,
 "nbformat_minor": 5
}
