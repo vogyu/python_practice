{
 "cells": [
  {
   "cell_type": "code",
   "execution_count": 1,
   "id": "babb17ae",
   "metadata": {},
   "outputs": [
    {
     "name": "stdout",
     "output_type": "stream",
     "text": [
      "Tell me your age?\n",
      "24\n",
      "Welcome to the Club\n"
     ]
    }
   ],
   "source": [
    "# 코드 4-1\n",
    "print(\"Tell me your age?\")\n",
    "myage = int(input())\n",
    "\n",
    "if myage < 30:\n",
    "    print(\"Welcome to the Club\")\n",
    "else:\n",
    "    print(\"oh! No, You ar not accepted\")"
   ]
  },
  {
   "cell_type": "code",
   "execution_count": 2,
   "id": "538e14f3",
   "metadata": {},
   "outputs": [
    {
     "name": "stdout",
     "output_type": "stream",
     "text": [
      "Enter your score:70\n",
      "D\n"
     ]
    }
   ],
   "source": [
    "# 코드 4-2\n",
    "score = int(input(\"Enter your score:\"))\n",
    "\n",
    "if score >= 90:\n",
    "    grade = 'A'\n",
    "    \n",
    "if score >= 80:\n",
    "    grade = 'B'\n",
    "    \n",
    "if score >= 70:\n",
    "    grade = 'C'\n",
    "    \n",
    "if score >= 60:\n",
    "    grade = 'D'\n",
    "    \n",
    "if score < 60:\n",
    "    grade = 'F'\n",
    "\n",
    "print(grade)"
   ]
  },
  {
   "cell_type": "code",
   "execution_count": 3,
   "id": "423b53a6",
   "metadata": {},
   "outputs": [
    {
     "name": "stdout",
     "output_type": "stream",
     "text": [
      "Enter your score:78\n",
      "C\n"
     ]
    }
   ],
   "source": [
    "# 코드 4-3\n",
    "score = int(input(\"Enter your score:\"))\n",
    "\n",
    "if score >= 90: grade ='A'\n",
    "elif score >= 80: grade = 'B'\n",
    "elif score >= 70: grade = 'C'\n",
    "elif score >= 60: grade = 'D'\n",
    "else: grade = 'F'\n",
    "    \n",
    "print(grade)"
   ]
  },
  {
   "cell_type": "code",
   "execution_count": 5,
   "id": "84c31c5d",
   "metadata": {},
   "outputs": [
    {
     "name": "stdout",
     "output_type": "stream",
     "text": [
      "당신이 태어난 연도를 입력하세요.\n",
      "2020\n",
      "학생이 아닙니다.\n"
     ]
    }
   ],
   "source": [
    "# 코드 4-4 (Lab)\n",
    "print(\"당신이 태어난 연도를 입력하세요.\")\n",
    "birth_year = input()\n",
    "age = 2021 - int(birth_year) + 1\n",
    "\n",
    "if age <= 26 and age >= 20:\n",
    "    print(\"대학생\")\n",
    "elif age <= 20 and age >= 17:\n",
    "    print(\"고등학생\")\n",
    "elif age <= 17 and age >= 14:\n",
    "    print(\"중학생\")\n",
    "elif age <= 14 and age >= 8:\n",
    "    print(\"초등학생\")\n",
    "else:\n",
    "    print(\"학생이 아닙니다.\")"
   ]
  },
  {
   "cell_type": "code",
   "execution_count": null,
   "id": "952269f7",
   "metadata": {},
   "outputs": [],
   "source": []
  }
 ],
 "metadata": {
  "kernelspec": {
   "display_name": "Python 3",
   "language": "python",
   "name": "python3"
  },
  "language_info": {
   "codemirror_mode": {
    "name": "ipython",
    "version": 3
   },
   "file_extension": ".py",
   "mimetype": "text/x-python",
   "name": "python",
   "nbconvert_exporter": "python",
   "pygments_lexer": "ipython3",
   "version": "3.8.8"
  }
 },
 "nbformat": 4,
 "nbformat_minor": 5
}
