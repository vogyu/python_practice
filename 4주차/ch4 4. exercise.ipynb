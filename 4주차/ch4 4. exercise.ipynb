{
 "cells": [
  {
   "cell_type": "markdown",
   "id": "80f934e2",
   "metadata": {},
   "source": [
    "# 조건부 표현식\n",
    " 한 줄로 조건식을 사용한 표현"
   ]
  },
  {
   "cell_type": "code",
   "execution_count": 3,
   "id": "10449313",
   "metadata": {},
   "outputs": [
    {
     "name": "stdout",
     "output_type": "stream",
     "text": [
      "pass\n"
     ]
    }
   ],
   "source": [
    "score = 75\n",
    "msg = \"pass\" if score >= 70 else \"fail\""
   ]
  },
  {
   "cell_type": "markdown",
   "id": "23dadd80",
   "metadata": {},
   "source": [
    "# if - pass\n",
    "조건문은 있지만 실행할 문장이 없는 경우, 오류가 발생하지 않도록 무시하고 넘어가는 기능"
   ]
  },
  {
   "cell_type": "code",
   "execution_count": 4,
   "id": "f7455709",
   "metadata": {},
   "outputs": [
    {
     "name": "stdout",
     "output_type": "stream",
     "text": [
      "10\n"
     ]
    }
   ],
   "source": [
    "if 10 > 5:\n",
    "    print(10)\n",
    "else: \n",
    "    pass"
   ]
  },
  {
   "cell_type": "markdown",
   "id": "1b547a78",
   "metadata": {},
   "source": [
    "# 3장 연습문제"
   ]
  },
  {
   "cell_type": "code",
   "execution_count": 1,
   "id": "92d65d75",
   "metadata": {},
   "outputs": [
    {
     "name": "stdout",
     "output_type": "stream",
     "text": [
      "['Hankkok', 'is', 'academic', 'located', 'South Korea']\n"
     ]
    }
   ],
   "source": [
    "# 10\n",
    "\n",
    "list_a = ['Hankkok', 'University','is','an','academic','institute','located','in','South Korea']\n",
    "list_b = []\n",
    "\n",
    "for i in range(len(list_a)):\n",
    "    if i % 2 != 1:\n",
    "        list_b.append(list_a[i])\n",
    "print(list_b)"
   ]
  },
  {
   "cell_type": "markdown",
   "id": "d0c1d6f2",
   "metadata": {},
   "source": [
    "# 4장 연습문제"
   ]
  },
  {
   "cell_type": "code",
   "execution_count": 5,
   "id": "19e68d38",
   "metadata": {},
   "outputs": [],
   "source": [
    "# 1 틀린문제 고치기\n",
    "def calculator(N):\n",
    "    if n % 2 == 0:\n",
    "        result = 1\n",
    "        for i in range(1, N):\n",
    "            result = result * i\n",
    "    else:\n",
    "        result = 0\n",
    "        for i in range(1,N):\n",
    "            result = result + 1\n",
    "    return result"
   ]
  },
  {
   "cell_type": "code",
   "execution_count": 9,
   "id": "647166bf",
   "metadata": {},
   "outputs": [],
   "source": [
    "# 수정된 답\n",
    "def calculator(N):\n",
    "    if N % 2 == 0:\n",
    "        result = 1\n",
    "        for i in range(1, N+1):\n",
    "            result = result * i\n",
    "    else:\n",
    "        result = 0\n",
    "        for i in range(1,N+1):\n",
    "            result = result + i\n",
    "    return result"
   ]
  },
  {
   "cell_type": "code",
   "execution_count": 10,
   "id": "df9cc327",
   "metadata": {},
   "outputs": [
    {
     "name": "stdout",
     "output_type": "stream",
     "text": [
      "24 15\n"
     ]
    }
   ],
   "source": [
    "print(calculator(4), calculator(5))"
   ]
  },
  {
   "cell_type": "code",
   "execution_count": 13,
   "id": "f7b6d2d0",
   "metadata": {},
   "outputs": [
    {
     "name": "stdout",
     "output_type": "stream",
     "text": [
      "Strike: 1 Ball: 2\n"
     ]
    }
   ],
   "source": [
    "# 13\n",
    "a = \"369\"\n",
    "b = \"396\"\n",
    "\n",
    "strike = 0\n",
    "ball = 0\n",
    "\n",
    "for number in a:\n",
    "    if b.count(number) == 1:\n",
    "        if b.find(number) == a.find(number):\n",
    "            strike += 1\n",
    "        else:\n",
    "            ball += 1\n",
    "            \n",
    "print(\"Strike:\", strike, \"Ball:\", ball)"
   ]
  },
  {
   "cell_type": "markdown",
   "id": "ef126ecb",
   "metadata": {},
   "source": [
    "# string.count(x)\n",
    "string 문자열 x가 몇 개 포함되어 있는지 계산"
   ]
  },
  {
   "cell_type": "markdown",
   "id": "44ac2684",
   "metadata": {},
   "source": [
    "#  string.find()\n",
    "string 문자열 x가 몇 번 인덱스에 있는지 찾음"
   ]
  },
  {
   "cell_type": "code",
   "execution_count": null,
   "id": "3f5bcb22",
   "metadata": {},
   "outputs": [],
   "source": []
  }
 ],
 "metadata": {
  "kernelspec": {
   "display_name": "Python 3",
   "language": "python",
   "name": "python3"
  },
  "language_info": {
   "codemirror_mode": {
    "name": "ipython",
    "version": 3
   },
   "file_extension": ".py",
   "mimetype": "text/x-python",
   "name": "python",
   "nbconvert_exporter": "python",
   "pygments_lexer": "ipython3",
   "version": "3.8.8"
  }
 },
 "nbformat": 4,
 "nbformat_minor": 5
}
