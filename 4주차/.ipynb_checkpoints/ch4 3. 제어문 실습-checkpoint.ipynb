{
 "cells": [
  {
   "cell_type": "code",
   "execution_count": 1,
   "id": "ebab55a3",
   "metadata": {},
   "outputs": [
    {
     "name": "stdout",
     "output_type": "stream",
     "text": [
      "uoy evol I \n"
     ]
    }
   ],
   "source": [
    "# 코드 4-17 문자열 역순 출력\n",
    "sentence = \"I love you\"\n",
    "reverse_sentence = ' '\n",
    "for char in sentence:\n",
    "    reverse_sentence = char + reverse_sentence\n",
    "print(reverse_sentence)"
   ]
  },
  {
   "cell_type": "code",
   "execution_count": null,
   "id": "8941e9e9",
   "metadata": {},
   "outputs": [],
   "source": [
    "# 코드 4-19 LAB : 숫자 찾기 게임\n",
    "import random\n",
    "guess_number = random.randint(1,100)\n",
    "print(\"숫자를 맞혀 보세요. (1~100)\")\n",
    "user_input = int(input())\n",
    "\n",
    "while(user_input is not guess_number):\n",
    "    if user_input > guess_number:\n",
    "        print(\"숫자가 너무 큽니다.\")\n",
    "    else:\n",
    "        print(\"숫자가 너무 작습니다.\")\n",
    "    user_input = int(input())\n",
    "else:\n",
    "    print(\"정답입니다.\",\"입력한 숫자는\", user_input,\"입니다.\")"
   ]
  },
  {
   "cell_type": "code",
   "execution_count": null,
   "id": "78405280",
   "metadata": {},
   "outputs": [],
   "source": [
    "# 코드 4- 18 십진수를 이진수로 변환\n",
    "decimal = 10\n",
    "result = ' '\n",
    "while(decimal > 0):\n",
    "    remainder = decimal % 2\n",
    "    decimal = decimal // 2\n",
    "    result = str(remainder) + result\n",
    "print(result)"
   ]
  },
  {
   "cell_type": "code",
   "execution_count": 3,
   "id": "ac2c7601",
   "metadata": {},
   "outputs": [
    {
     "name": "stderr",
     "output_type": "stream",
     "text": [
      "<>:4: SyntaxWarning: \"is not\" with a literal. Did you mean \"!=\"?\n",
      "<>:4: SyntaxWarning: \"is not\" with a literal. Did you mean \"!=\"?\n",
      "<ipython-input-3-c36986d7824a>:4: SyntaxWarning: \"is not\" with a literal. Did you mean \"!=\"?\n",
      "  while(x is not 0):\n"
     ]
    },
    {
     "name": "stdout",
     "output_type": "stream",
     "text": [
      "구구단 몇 단을 계산할까요(1~9)?\n",
      "3\n",
      "구구단3단을 계산합니다.\n",
      "3 x 1 = 3\n",
      "3 x 2 = 6\n",
      "3 x 3 = 9\n",
      "3 x 4 = 12\n",
      "3 x 5 = 15\n",
      "3 x 6 = 18\n",
      "3 x 7 = 21\n",
      "3 x 8 = 24\n",
      "3 x 9 = 27\n",
      "구구단 몇단을 계산할까요(1~9)?\n",
      "6\n",
      "구구단6단을 계산합니다.\n",
      "6 x 1 = 6\n",
      "6 x 2 = 12\n",
      "6 x 3 = 18\n",
      "6 x 4 = 24\n",
      "6 x 5 = 30\n",
      "6 x 6 = 36\n",
      "6 x 7 = 42\n",
      "6 x 8 = 48\n",
      "6 x 9 = 54\n",
      "구구단 몇단을 계산할까요(1~9)?\n",
      "5\n",
      "구구단5단을 계산합니다.\n",
      "5 x 1 = 5\n",
      "5 x 2 = 10\n",
      "5 x 3 = 15\n",
      "5 x 4 = 20\n",
      "5 x 5 = 25\n",
      "5 x 6 = 30\n",
      "5 x 7 = 35\n",
      "5 x 8 = 40\n",
      "5 x 9 = 45\n",
      "구구단 몇단을 계산할까요(1~9)?\n",
      "0\n",
      "구구단 게임을 종료합니다.\n"
     ]
    }
   ],
   "source": [
    "# 코드 4-20 Lab : 연속적인 구구단 계산기\n",
    "print(\"구구단 몇 단을 계산할까요(1~9)?\")\n",
    "x=1\n",
    "while(x is not 0):\n",
    "    x = int(input())\n",
    "    if x==0: break\n",
    "    if not(1 <= x <= 9):\n",
    "        print(\"잘못 입력했습니다. 1부터 9사이 숫자를 입력하세요\")\n",
    "        continue\n",
    "    else:\n",
    "        print(\"구구단\" + str(x) + \"단을 계산합니다.\")\n",
    "        for i in range(1,10):\n",
    "            print(str(x) + \" x \" + str(i) + \" = \" + str(x*i))\n",
    "        print(\"구구단 몇단을 계산할까요(1~9)?\")\n",
    "print(\"구구단 게임을 종료합니다.\")"
   ]
  },
  {
   "cell_type": "code",
   "execution_count": 6,
   "id": "96b500c8",
   "metadata": {},
   "outputs": [
    {
     "name": "stdout",
     "output_type": "stream",
     "text": [
      "[47.0, 74.0, 51.0, 60.0, 90.0]\n"
     ]
    }
   ],
   "source": [
    "# 코드 4-21 Lab : 평균 구하기\n",
    "kor_score = [49,80,20,100,80]\n",
    "math_score = [43, 60,85,30,90]\n",
    "eng_score = [49,82,48,50,100]\n",
    "midterm_score = [kor_score, math_score, eng_score]\n",
    "\n",
    "student_score = [0,0,0,0,0]\n",
    "i = 0\n",
    "\n",
    "for subject in midterm_score:\n",
    "    for score in subject:\n",
    "        student_score[i] += score\n",
    "        i += 1\n",
    "    i = 0\n",
    "else:\n",
    "    a,b,c,d,e, = student_score\n",
    "    student_average = [a/3, b/3, c/3, d/3, e/3]\n",
    "    print(student_average)"
   ]
  },
  {
   "cell_type": "code",
   "execution_count": null,
   "id": "97cf9b02",
   "metadata": {},
   "outputs": [],
   "source": []
  }
 ],
 "metadata": {
  "kernelspec": {
   "display_name": "Python 3",
   "language": "python",
   "name": "python3"
  },
  "language_info": {
   "codemirror_mode": {
    "name": "ipython",
    "version": 3
   },
   "file_extension": ".py",
   "mimetype": "text/x-python",
   "name": "python",
   "nbconvert_exporter": "python",
   "pygments_lexer": "ipython3",
   "version": "3.8.8"
  }
 },
 "nbformat": 4,
 "nbformat_minor": 5
}
