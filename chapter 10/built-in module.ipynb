{
 "cells": [
  {
   "cell_type": "markdown",
   "id": "f6ac58d0",
   "metadata": {},
   "source": [
    "# 파이썬 내장 모듈"
   ]
  },
  {
   "cell_type": "markdown",
   "id": "8843de35",
   "metadata": {},
   "source": [
    "# 시간 모듈"
   ]
  },
  {
   "cell_type": "code",
   "execution_count": 1,
   "id": "111a8d73",
   "metadata": {},
   "outputs": [
    {
     "name": "stdout",
     "output_type": "stream",
     "text": [
      "['_STRUCT_TM_ITEMS', '__doc__', '__loader__', '__name__', '__package__', '__spec__', 'altzone', 'asctime', 'ctime', 'daylight', 'get_clock_info', 'gmtime', 'localtime', 'mktime', 'monotonic', 'monotonic_ns', 'perf_counter', 'perf_counter_ns', 'process_time', 'process_time_ns', 'sleep', 'strftime', 'strptime', 'struct_time', 'thread_time', 'thread_time_ns', 'time', 'time_ns', 'timezone', 'tzname']\n"
     ]
    }
   ],
   "source": [
    "import time\n",
    "print(dir(time))"
   ]
  },
  {
   "cell_type": "code",
   "execution_count": 3,
   "id": "94b3d3cf",
   "metadata": {},
   "outputs": [
    {
     "name": "stdout",
     "output_type": "stream",
     "text": [
      "<module 'time' (built-in)>\n",
      "1636703741.1896875\n",
      "time.struct_time(tm_year=2021, tm_mon=11, tm_mday=12, tm_hour=7, tm_min=55, tm_sec=41, tm_wday=4, tm_yday=316, tm_isdst=0)\n",
      "2021년 11월 12일\n"
     ]
    }
   ],
   "source": [
    "print(time)\n",
    "print(time.time())\n",
    "\n",
    "now = time.gmtime(time.time())\n",
    "print(now)\n",
    "\n",
    "year = str(now.tm_year)\n",
    "month = str(now.tm_mon)\n",
    "day = str(now.tm_mday)\n",
    "print(year + \"년\", month + \"월\", day + \"일\")"
   ]
  },
  {
   "cell_type": "markdown",
   "id": "c0782c44",
   "metadata": {},
   "source": [
    "# 날짜시간 모듈 datetime의 date 클래스 예제"
   ]
  },
  {
   "cell_type": "code",
   "execution_count": 4,
   "id": "c133d017",
   "metadata": {},
   "outputs": [
    {
     "name": "stdout",
     "output_type": "stream",
     "text": [
      "<class 'datetime.date'>\n",
      "2000-01-01\n",
      "2010-01-01\n",
      "2021-11-12\n",
      "2021년 11월 12일 금요일\n"
     ]
    }
   ],
   "source": [
    "from datetime import date\n",
    "print(date)\n",
    "print(date(2000,1,1))\n",
    "print(date(year = 2010, month = 1, day = 1))\n",
    "print(date.today())\n",
    "\n",
    "today = date.today()\n",
    "year = str(today.year)\n",
    "month = str(today.month)\n",
    "day = str(today.day)\n",
    "weekday = \"월화수목금토일\"[today.weekday()]\n",
    "print(\"{0}년 {1}월 {2}일 {3}요일\".format(year,month,day,weekday))"
   ]
  },
  {
   "cell_type": "markdown",
   "id": "67e19da6",
   "metadata": {},
   "source": [
    "# 통계모듈"
   ]
  },
  {
   "cell_type": "code",
   "execution_count": 5,
   "id": "f948918f",
   "metadata": {},
   "outputs": [
    {
     "name": "stdout",
     "output_type": "stream",
     "text": [
      "74.0\n",
      "68.9\n",
      "19.688970403643648\n",
      "387.65555555555557\n"
     ]
    }
   ],
   "source": [
    "from statistics import *\n",
    "values = [38,44,67,47,82,67,92,89,81,82]\n",
    "print(median(values))\n",
    "print(mean(values))\n",
    "print(stdev(values))\n",
    "print(variance(values))"
   ]
  },
  {
   "cell_type": "markdown",
   "id": "b1a6a914",
   "metadata": {},
   "source": [
    "# 랜덤모듈"
   ]
  },
  {
   "cell_type": "code",
   "execution_count": 6,
   "id": "cfe7b958",
   "metadata": {},
   "outputs": [
    {
     "name": "stdout",
     "output_type": "stream",
     "text": [
      "0.5586234404852247\n",
      "9\n",
      "0\n"
     ]
    }
   ],
   "source": [
    "from random import *\n",
    "print(random())\n",
    "print(randint(1,10))\n",
    "print(randrange(0,10,2))"
   ]
  },
  {
   "cell_type": "code",
   "execution_count": 7,
   "id": "86e74697",
   "metadata": {},
   "outputs": [
    {
     "name": "stdout",
     "output_type": "stream",
     "text": [
      "[10, 20, 30, 40, 50]\n",
      "50\n",
      "[30, 50]\n",
      "[40, 50, 30, 20, 10]\n"
     ]
    }
   ],
   "source": [
    "li = [10,20,30,40,50]\n",
    "print(li)\n",
    "print(choice(li))\n",
    "print(sample(li, 2))\n",
    "shuffle(li)\n",
    "print(li)"
   ]
  },
  {
   "cell_type": "markdown",
   "id": "408a2725",
   "metadata": {},
   "source": [
    "# 수학모듈(math)"
   ]
  },
  {
   "cell_type": "code",
   "execution_count": 8,
   "id": "14521b66",
   "metadata": {},
   "outputs": [
    {
     "name": "stdout",
     "output_type": "stream",
     "text": [
      "6\n",
      "12\n",
      "1024.0\n",
      "3.1622776601683795\n"
     ]
    }
   ],
   "source": [
    "from math import *\n",
    "print(factorial(3))\n",
    "print(gcd(12,24))\n",
    "print(pow(2, 10))\n",
    "print(sqrt(10))"
   ]
  },
  {
   "cell_type": "code",
   "execution_count": null,
   "id": "8ea64489",
   "metadata": {},
   "outputs": [],
   "source": []
  }
 ],
 "metadata": {
  "kernelspec": {
   "display_name": "my_project",
   "language": "python",
   "name": "my_project"
  },
  "language_info": {
   "codemirror_mode": {
    "name": "ipython",
    "version": 3
   },
   "file_extension": ".py",
   "mimetype": "text/x-python",
   "name": "python",
   "nbconvert_exporter": "python",
   "pygments_lexer": "ipython3",
   "version": "3.8.8"
  }
 },
 "nbformat": 4,
 "nbformat_minor": 5
}
