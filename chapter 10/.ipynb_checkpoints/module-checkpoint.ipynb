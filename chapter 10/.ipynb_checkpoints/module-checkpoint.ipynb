{
 "cells": [
  {
   "cell_type": "markdown",
   "id": "33e60efd",
   "metadata": {},
   "source": [
    "# 모듈(Module) ##pdf에서 복붙하기"
   ]
  },
  {
   "cell_type": "code",
   "execution_count": 6,
   "id": "3ac25a18",
   "metadata": {},
   "outputs": [
    {
     "name": "stdout",
     "output_type": "stream",
     "text": [
      "Overwriting fah_converter.py\n"
     ]
    }
   ],
   "source": [
    "%%writefile fah_converter.py\n",
    "def converter_c_to_f(celcius_value):\n",
    "    return celcius_value * 9.0 / 5 + 32"
   ]
  },
  {
   "cell_type": "code",
   "execution_count": 7,
   "id": "4dd76ae0",
   "metadata": {},
   "outputs": [
    {
     "name": "stdout",
     "output_type": "stream",
     "text": [
      " E 드라이브의 볼륨: 새 볼륨\n",
      " 볼륨 일련 번호: C475-428A\n",
      "\n",
      " E:\\python\\chapter 10 디렉터리\n",
      "\n",
      "2021-11-12  오후 04:09    <DIR>          .\n",
      "2021-11-12  오후 04:09    <DIR>          ..\n",
      "2021-11-12  오후 03:16    <DIR>          .ipynb_checkpoints\n",
      "2021-11-12  오후 04:05    <DIR>          __pycache__\n",
      "2021-11-12  오후 04:10                79 fah_converter.py\n",
      "2021-11-12  오후 04:09             4,268 Untitled.ipynb\n",
      "               2개 파일               4,347 바이트\n",
      "               4개 디렉터리  114,412,519,424 바이트 남음\n"
     ]
    }
   ],
   "source": [
    "ls"
   ]
  },
  {
   "cell_type": "code",
   "execution_count": 8,
   "id": "3d168185",
   "metadata": {},
   "outputs": [],
   "source": [
    "import fah_converter"
   ]
  },
  {
   "cell_type": "code",
   "execution_count": 9,
   "id": "cbc1945f",
   "metadata": {},
   "outputs": [
    {
     "name": "stdout",
     "output_type": "stream",
     "text": [
      "Enter a celsius value:\n",
      "20\n",
      "That's 68.0 degrees Fahrenheit.\n"
     ]
    }
   ],
   "source": [
    "print(\"Enter a celsius value:\")\n",
    "celsius = float(input())\n",
    "fahrenheit = fah_converter.converter_c_to_f(celsius)\n",
    "print(\"That's\", fahrenheit, \"degrees Fahrenheit.\")"
   ]
  },
  {
   "cell_type": "markdown",
   "id": "23c27e6f",
   "metadata": {},
   "source": [
    "# 네임스페이스(Namespace)\n",
    "* 모듈 호출의 범위 지정\n",
    "\n",
    "## 모듈 이름에 alias를 생성하여 모듈의 이름을 바꿔 사용"
   ]
  },
  {
   "cell_type": "code",
   "execution_count": 19,
   "id": "a518ff29",
   "metadata": {},
   "outputs": [
    {
     "name": "stdout",
     "output_type": "stream",
     "text": [
      "106.88000000000001\n"
     ]
    }
   ],
   "source": [
    "import fah_converter as fah\n",
    "\n",
    "print(fah.converter_c_to_f(41.6))"
   ]
  },
  {
   "cell_type": "code",
   "execution_count": 13,
   "id": "d0921551",
   "metadata": {},
   "outputs": [
    {
     "name": "stdout",
     "output_type": "stream",
     "text": [
      "0.8265541352173285\n",
      "6\n"
     ]
    }
   ],
   "source": [
    "import random as rd\n",
    "\n",
    "print(rd.random())\n",
    "print(rd.randrange(0,10,2))"
   ]
  },
  {
   "cell_type": "markdown",
   "id": "fa264f84",
   "metadata": {},
   "source": [
    "### from 구문을 사용하여 묘듈에서 특정 함수 또는 클래스만 호출"
   ]
  },
  {
   "cell_type": "code",
   "execution_count": 20,
   "id": "27ec1531",
   "metadata": {},
   "outputs": [
    {
     "name": "stdout",
     "output_type": "stream",
     "text": [
      "106.88000000000001\n"
     ]
    }
   ],
   "source": [
    "from fah_converter import converter_c_to_f\n",
    "\n",
    "print(converter_c_to_f(41.6))"
   ]
  },
  {
   "cell_type": "markdown",
   "id": "a1f7e035",
   "metadata": {},
   "source": [
    "# *를 사용하여"
   ]
  },
  {
   "cell_type": "code",
   "execution_count": 17,
   "id": "7a4fe61c",
   "metadata": {},
   "outputs": [
    {
     "name": "stdout",
     "output_type": "stream",
     "text": [
      "0.013984837746093715\n",
      "6\n"
     ]
    }
   ],
   "source": [
    "from random import *\n",
    "\n",
    "print(random())\n",
    "print(randrange(0,10,2))"
   ]
  },
  {
   "cell_type": "markdown",
   "id": "1bc2d4d5",
   "metadata": {},
   "source": [
    "### [minilab] 계산기 모듈"
   ]
  },
  {
   "cell_type": "code",
   "execution_count": 22,
   "id": "05b896e4",
   "metadata": {},
   "outputs": [
    {
     "name": "stdout",
     "output_type": "stream",
     "text": [
      "Overwriting calculator.py\n"
     ]
    }
   ],
   "source": [
    "%%writefile calculator.py\n",
    "\n",
    "def add(a,b):\n",
    "    return a + b\n",
    "\n",
    "def sub(a,b):\n",
    "    return a - b\n",
    "\n",
    "def div(a,b):\n",
    "    return a / b\n",
    "\n",
    "def mul(a,b):\n",
    "    return a * b\n",
    "\n",
    "def mod(a,b):\n",
    "    return a % b"
   ]
  },
  {
   "cell_type": "code",
   "execution_count": 24,
   "id": "85cea35c",
   "metadata": {},
   "outputs": [],
   "source": [
    "from calculator import *"
   ]
  },
  {
   "cell_type": "code",
   "execution_count": 29,
   "id": "9d5700e8",
   "metadata": {},
   "outputs": [
    {
     "name": "stdout",
     "output_type": "stream",
     "text": [
      "8\n",
      "-2\n",
      "0.6\n",
      "15\n",
      "3\n"
     ]
    }
   ],
   "source": [
    "print(add(3,5))\n",
    "print(sub(3,5))\n",
    "print(div(3,5))\n",
    "print(mul(3,5))\n",
    "print(mod(3,5))"
   ]
  },
  {
   "cell_type": "markdown",
   "id": "17bfffda",
   "metadata": {},
   "source": [
    "# [참고] 셀 명령어"
   ]
  },
  {
   "cell_type": "code",
   "execution_count": 31,
   "id": "846d78c2",
   "metadata": {},
   "outputs": [
    {
     "data": {
      "text/plain": [
       "'E:\\\\python\\\\chapter 10'"
      ]
     },
     "execution_count": 31,
     "metadata": {},
     "output_type": "execute_result"
    }
   ],
   "source": [
    "pwd"
   ]
  },
  {
   "cell_type": "code",
   "execution_count": 33,
   "id": "509ea1db",
   "metadata": {},
   "outputs": [
    {
     "name": "stdout",
     "output_type": "stream",
     "text": [
      "Variable           Type                          Data/Info\n",
      "----------------------------------------------------------\n",
      "Random             type                          <class 'random.Random'>\n",
      "SystemRandom       type                          <class 'random.SystemRandom'>\n",
      "add                function                      <function add at 0x0000015B07D7D5E0>\n",
      "betavariate        method                        <bound method Random.beta<...>t at 0x0000015B03FF25C0>>\n",
      "celsius            float                         20.0\n",
      "choice             method                        <bound method Random.choi<...>t at 0x0000015B03FF25C0>>\n",
      "choices            method                        <bound method Random.choi<...>t at 0x0000015B03FF25C0>>\n",
      "converter_c_to_f   function                      <function converter_c_to_f at 0x0000015B07D7D550>\n",
      "div                function                      <function div at 0x0000015B07E294C0>\n",
      "expovariate        method                        <bound method Random.expo<...>t at 0x0000015B03FF25C0>>\n",
      "fah                module                        <module 'fah_converter' f<...>er 10\\\\fah_converter.py'>\n",
      "fah_converter      module                        <module 'fah_converter' f<...>er 10\\\\fah_converter.py'>\n",
      "fahrenheit         float                         68.0\n",
      "gammavariate       method                        <bound method Random.gamm<...>t at 0x0000015B03FF25C0>>\n",
      "gauss              method                        <bound method Random.gaus<...>t at 0x0000015B03FF25C0>>\n",
      "getrandbits        builtin_function_or_method    <built-in method getrandb<...>ct at 0x0000015B03FF25C0>\n",
      "getstate           method                        <bound method Random.gets<...>t at 0x0000015B03FF25C0>>\n",
      "lognormvariate     method                        <bound method Random.logn<...>t at 0x0000015B03FF25C0>>\n",
      "mod                function                      <function mod at 0x0000015B07E29F70>\n",
      "mul                function                      <function mul at 0x0000015B07E29310>\n",
      "normalvariate      method                        <bound method Random.norm<...>t at 0x0000015B03FF25C0>>\n",
      "paretovariate      method                        <bound method Random.pare<...>t at 0x0000015B03FF25C0>>\n",
      "randint            method                        <bound method Random.rand<...>t at 0x0000015B03FF25C0>>\n",
      "random             builtin_function_or_method    <built-in method random o<...>ct at 0x0000015B03FF25C0>\n",
      "randrange          method                        <bound method Random.rand<...>t at 0x0000015B03FF25C0>>\n",
      "rd                 module                        <module 'random' from 'E:<...>aconda3\\\\lib\\\\random.py'>\n",
      "sample             method                        <bound method Random.samp<...>t at 0x0000015B03FF25C0>>\n",
      "seed               method                        <bound method Random.seed<...>t at 0x0000015B03FF25C0>>\n",
      "setstate           method                        <bound method Random.sets<...>t at 0x0000015B03FF25C0>>\n",
      "shuffle            method                        <bound method Random.shuf<...>t at 0x0000015B03FF25C0>>\n",
      "sub                function                      <function sub at 0x0000015B07E29CA0>\n",
      "triangular         method                        <bound method Random.tria<...>t at 0x0000015B03FF25C0>>\n",
      "uniform            method                        <bound method Random.unif<...>t at 0x0000015B03FF25C0>>\n",
      "vonmisesvariate    method                        <bound method Random.vonm<...>t at 0x0000015B03FF25C0>>\n",
      "weibullvariate     method                        <bound method Random.weib<...>t at 0x0000015B03FF25C0>>\n"
     ]
    }
   ],
   "source": [
    "whos"
   ]
  },
  {
   "cell_type": "markdown",
   "id": "c42c65de",
   "metadata": {},
   "source": [
    "# 패키지\n",
    "## 패키지 생성"
   ]
  },
  {
   "cell_type": "code",
   "execution_count": 34,
   "id": "66589122",
   "metadata": {},
   "outputs": [],
   "source": [
    "!mkdir roboadvisor\n",
    "!mkdir roboadvisor\\crawling\n",
    "!mkdir roboadvisor\\database\n",
    "!mkdir roboadvisor\\analysis"
   ]
  },
  {
   "cell_type": "code",
   "execution_count": 35,
   "id": "22280106",
   "metadata": {},
   "outputs": [
    {
     "name": "stdout",
     "output_type": "stream",
     "text": [
      " E 드라이브의 볼륨: 새 볼륨\n",
      " 볼륨 일련 번호: C475-428A\n",
      "\n",
      " E:\\python\\chapter 10 디렉터리\n",
      "\n",
      "2021-11-12  오후 04:39    <DIR>          .\n",
      "2021-11-12  오후 04:39    <DIR>          ..\n",
      "2021-11-12  오후 04:28    <DIR>          .ipynb_checkpoints\n",
      "2021-11-12  오후 04:34    <DIR>          __pycache__\n",
      "2021-11-12  오후 04:34               175 calculator.py\n",
      "2021-11-12  오후 04:10                79 fah_converter.py\n",
      "2021-11-12  오후 04:39            10,945 module.ipynb\n",
      "2021-11-12  오후 04:39    <DIR>          roboadvisor\n",
      "               3개 파일              11,199 바이트\n",
      "               5개 디렉터리  114,412,511,232 바이트 남음\n"
     ]
    }
   ],
   "source": [
    "ls"
   ]
  },
  {
   "cell_type": "code",
   "execution_count": 37,
   "id": "18a8419a",
   "metadata": {},
   "outputs": [
    {
     "name": "stdout",
     "output_type": "stream",
     "text": [
      " E 드라이브의 볼륨: 새 볼륨\n",
      " 볼륨 일련 번호: C475-428A\n",
      "\n",
      " E:\\python\\chapter 10\\roboadvisor 디렉터리\n",
      "\n",
      "2021-11-12  오후 04:39    <DIR>          .\n",
      "2021-11-12  오후 04:39    <DIR>          ..\n",
      "2021-11-12  오후 04:39    <DIR>          analysis\n",
      "2021-11-12  오후 04:39    <DIR>          crawling\n",
      "2021-11-12  오후 04:39    <DIR>          database\n",
      "               0개 파일                   0 바이트\n",
      "               5개 디렉터리  114,412,511,232 바이트 남음\n"
     ]
    }
   ],
   "source": [
    "ls roboadvisor"
   ]
  },
  {
   "cell_type": "code",
   "execution_count": 38,
   "id": "1b484efe",
   "metadata": {},
   "outputs": [
    {
     "name": "stdout",
     "output_type": "stream",
     "text": [
      "Writing roboadvisor\\crawling\\parser.py\n"
     ]
    }
   ],
   "source": [
    "%%writefile roboadvisor\\crawling\\parser.py\n",
    "def parser_test():\n",
    "    print('paser')"
   ]
  },
  {
   "cell_type": "code",
   "execution_count": 40,
   "id": "6b4b76a1",
   "metadata": {},
   "outputs": [
    {
     "name": "stdout",
     "output_type": "stream",
     "text": [
      "Overwriting roboadvisor\\crawling\\scrap.py\n"
     ]
    }
   ],
   "source": [
    "%%writefile roboadvisor\\crawling\\scrap.py\n",
    "def scrap_test():\n",
    "    print('scrap')"
   ]
  },
  {
   "cell_type": "code",
   "execution_count": 43,
   "id": "e8bb06f5",
   "metadata": {},
   "outputs": [
    {
     "name": "stdout",
     "output_type": "stream",
     "text": [
      "Overwriting roboadvisor\\analysis\\series.py\n"
     ]
    }
   ],
   "source": [
    "%%writefile roboadvisor\\analysis\\series.py\n",
    "def series_test():\n",
    "    print('series')"
   ]
  },
  {
   "cell_type": "code",
   "execution_count": 44,
   "id": "1045160d",
   "metadata": {},
   "outputs": [
    {
     "name": "stdout",
     "output_type": "stream",
     "text": [
      "Writing roboadvisor\\analysis\\statics.py\n"
     ]
    }
   ],
   "source": [
    "%%writefile roboadvisor\\analysis\\statics.py\n",
    "def statics_test():\n",
    "    print('statics')"
   ]
  },
  {
   "cell_type": "code",
   "execution_count": 45,
   "id": "a144b0be",
   "metadata": {},
   "outputs": [
    {
     "name": "stdout",
     "output_type": "stream",
     "text": [
      "Writing roboadvisor\\database\\connection.py\n"
     ]
    }
   ],
   "source": [
    "%%writefile roboadvisor\\database\\connection.py\n",
    "def connection_test():\n",
    "    print('connection')"
   ]
  },
  {
   "cell_type": "code",
   "execution_count": 46,
   "id": "e5a0f6dd",
   "metadata": {},
   "outputs": [
    {
     "name": "stdout",
     "output_type": "stream",
     "text": [
      "Writing roboadvisor\\database\\query.py\n"
     ]
    }
   ],
   "source": [
    "%%writefile roboadvisor\\database\\query.py\n",
    "def query_test():\n",
    "    print('query')"
   ]
  },
  {
   "cell_type": "code",
   "execution_count": 53,
   "id": "b9d7f3a3",
   "metadata": {},
   "outputs": [
    {
     "name": "stdout",
     "output_type": "stream",
     "text": [
      "Writing roboadvisor\\analysis\\__init__.py\n"
     ]
    }
   ],
   "source": [
    "%%writefile roboadvisor\\analysis\\__init__.py\n",
    "from . import series\n",
    "from . import statics\n",
    "\n",
    "__all__ = ['series','statics']"
   ]
  },
  {
   "cell_type": "code",
   "execution_count": 54,
   "id": "93862b37",
   "metadata": {},
   "outputs": [
    {
     "name": "stdout",
     "output_type": "stream",
     "text": [
      "Writing roboadvisor\\crawling\\__init__.py\n"
     ]
    }
   ],
   "source": [
    "%%writefile roboadvisor\\crawling\\__init__.py\n",
    "from . import parser\n",
    "from . import scrap\n",
    "\n",
    "__all__ = ['parser','scrap']"
   ]
  },
  {
   "cell_type": "code",
   "execution_count": 55,
   "id": "751d2aad",
   "metadata": {},
   "outputs": [
    {
     "name": "stdout",
     "output_type": "stream",
     "text": [
      "Writing roboadvisor\\database\\__init__.py\n"
     ]
    }
   ],
   "source": [
    "%%writefile roboadvisor\\database\\__init__.py\n",
    "from . import connection\n",
    "from . import query\n",
    "\n",
    "__all__ = ['connection','query']"
   ]
  },
  {
   "cell_type": "markdown",
   "id": "58273ae0",
   "metadata": {},
   "source": [
    "### __main__.py"
   ]
  },
  {
   "cell_type": "code",
   "execution_count": 56,
   "id": "3817d596",
   "metadata": {},
   "outputs": [
    {
     "name": "stdout",
     "output_type": "stream",
     "text": [
      "Overwriting roboadvisor\\__main__.py\n"
     ]
    }
   ],
   "source": [
    "%%writefile roboadvisor\\__main__.py\n",
    "\n",
    "from analysis.series import series_test\n",
    "from crawling.parser import parser-test\n",
    "\n",
    "if __name__ == '__main__':\n",
    "    series_test()\n",
    "    parser_test()"
   ]
  },
  {
   "cell_type": "code",
   "execution_count": 57,
   "id": "8b1e9267",
   "metadata": {},
   "outputs": [
    {
     "name": "stderr",
     "output_type": "stream",
     "text": [
      "Traceback (most recent call last):\n",
      "  File \"E:\\Users\\bo\\anaconda3\\lib\\runpy.py\", line 187, in _run_module_as_main\n",
      "    mod_name, mod_spec, code = _get_main_module_details(_Error)\n",
      "  File \"E:\\Users\\bo\\anaconda3\\lib\\runpy.py\", line 221, in _get_main_module_details\n",
      "    return _get_module_details(main_name)\n",
      "  File \"E:\\Users\\bo\\anaconda3\\lib\\runpy.py\", line 155, in _get_module_details\n",
      "    code = loader.get_code(mod_name)\n",
      "  File \"<frozen importlib._bootstrap_external>\", line 916, in get_code\n",
      "  File \"<frozen importlib._bootstrap_external>\", line 846, in source_to_code\n",
      "  File \"<frozen importlib._bootstrap>\", line 219, in _call_with_frames_removed\n",
      "  File \"roboadvisor\\__main__.py\", line 3\n",
      "    from crawling.parser import parser-test\n",
      "                                      ^\n",
      "SyntaxError: invalid syntax\n"
     ]
    }
   ],
   "source": [
    "!python roboadvisor"
   ]
  },
  {
   "cell_type": "code",
   "execution_count": null,
   "id": "7eef758e",
   "metadata": {},
   "outputs": [],
   "source": []
  }
 ],
 "metadata": {
  "kernelspec": {
   "display_name": "Python 3",
   "language": "python",
   "name": "python3"
  },
  "language_info": {
   "codemirror_mode": {
    "name": "ipython",
    "version": 3
   },
   "file_extension": ".py",
   "mimetype": "text/x-python",
   "name": "python",
   "nbconvert_exporter": "python",
   "pygments_lexer": "ipython3",
   "version": "3.8.8"
  }
 },
 "nbformat": 4,
 "nbformat_minor": 5
}
