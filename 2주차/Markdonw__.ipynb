{
 "cells": [
  {
   "cell_type": "markdown",
   "id": "8d14a8e8",
   "metadata": {},
   "source": [
    "## 제목 (Heading)\n",
    "## Heading 2\n",
    "### Heading 3\n",
    "#### Heading 4\n",
    "##### Heading 5\n",
    "###### Heading 6\n"
   ]
  },
  {
   "cell_type": "markdown",
   "id": "9535e0d5",
   "metadata": {},
   "source": [
    "# 수평선\n",
    "---"
   ]
  },
  {
   "cell_type": "markdown",
   "id": "777eccc3",
   "metadata": {},
   "source": [
    "# 목록(list) 구성\n",
    "1. 첫째\n",
    "2. 둘째\n",
    "3. 셋째\n",
    "\n",
    "* 1단계\n",
    "    + 2단계\n",
    "        - 3단계"
   ]
  },
  {
   "cell_type": "markdown",
   "id": "45197c18",
   "metadata": {},
   "source": [
    "# 폰트 스타일(Font style)\n",
    "**bold**\n",
    "__bold__\n",
    "*italic*\n",
    "_italic_\n",
    "<u>underbar</u>\n",
    "~~strike~~"
   ]
  },
  {
   "cell_type": "markdown",
   "id": "9ff87885",
   "metadata": {},
   "source": [
    "# 링크\n",
    "* 유형 1('설명어' 를 클릭하면 URL로 이동) : [jupyter notebook](https://jupyter.org/ \"마우스를 올려 놓으면 말풍선이 나옵니다\")\n",
    "* 유형 2(URL을 보여주고 클릭하면 연결) : <https://jupyter.org/>"
   ]
  },
  {
   "cell_type": "markdown",
   "id": "8a6a99ff",
   "metadata": {},
   "source": [
    "# 이미지\n",
    "* 유형 1 (이미지 삽입) : ![이미지](https://www.google.co.kr/images/branding/googlelogo/1x/googlelogo_color_272x92dp.png \"구글로고\")\n",
    "* 유형 2 (이미지 크기 조절, HTML 태그로 처리) : <img src=\"https://www.google.co.kr/images/branding/googlelogo/1x/googlelogo_color_272x92dp.png\" width=\"100\">\n",
    "* 유형 3 (이미지에 링크 걸기) : [![이미지](https://www.google.co.kr/images/branding/googlelogo/1x/googlelogo_color_272x92dp.png)](https://www.google.co.kr/?gws_rd=ssl)"
   ]
  },
  {
   "cell_type": "markdown",
   "id": "324f4fac",
   "metadata": {},
   "source": [
    "# 표(table)\n",
    "| |Grade|Note|\n",
    "|:---:|---:|:---|\n",
    "|Tom|A|Excellent|\n",
    "|Kevin|C|Try harder"
   ]
  },
  {
   "cell_type": "markdown",
   "id": "e6ffb241",
   "metadata": {},
   "source": [
    "# 코드 블록\n",
    "소스 코드, 외부 인용 자료 블록 처리 등\n",
    "```python\n",
    "str1 = \"Hello, python!\"\n",
    "print(str1)\n",
    ">>> Hello, python!\n",
    "```"
   ]
  }
 ],
 "metadata": {
  "kernelspec": {
   "display_name": "Python 3",
   "language": "python",
   "name": "python3"
  },
  "language_info": {
   "codemirror_mode": {
    "name": "ipython",
    "version": 3
   },
   "file_extension": ".py",
   "mimetype": "text/x-python",
   "name": "python",
   "nbconvert_exporter": "python",
   "pygments_lexer": "ipython3",
   "version": "3.8.8"
  }
 },
 "nbformat": 4,
 "nbformat_minor": 5
}
