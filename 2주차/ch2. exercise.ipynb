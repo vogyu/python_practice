{
 "cells": [
  {
   "cell_type": "code",
   "execution_count": 1,
   "id": "7929ffc0",
   "metadata": {},
   "outputs": [
    {
     "name": "stdout",
     "output_type": "stream",
     "text": [
      "True False\n"
     ]
    }
   ],
   "source": [
    "#1\n",
    "a = 777\n",
    "b = 777\n",
    "print(a==b, a is b)"
   ]
  },
  {
   "cell_type": "code",
   "execution_count": 2,
   "id": "e75f0e69",
   "metadata": {},
   "outputs": [
    {
     "name": "stdout",
     "output_type": "stream",
     "text": [
      "섭씨온도:32\n",
      "섭씨온도: 32.0 화씨온도: 89.6\n"
     ]
    }
   ],
   "source": [
    "#4 \n",
    "c = float(input(\"섭씨온도:\"))\n",
    "f = ((9/5) * c) + 32\n",
    "print(\"섭씨온도:\", c, \"화씨온도:\", f)"
   ]
  },
  {
   "cell_type": "code",
   "execution_count": 1,
   "id": "cc874a62",
   "metadata": {},
   "outputs": [
    {
     "name": "stdout",
     "output_type": "stream",
     "text": [
      "3.53.53.53.5\n"
     ]
    }
   ],
   "source": [
    "#6\n",
    "a = \"3.5\"\n",
    "b = 4\n",
    "print(a * b)"
   ]
  },
  {
   "cell_type": "code",
   "execution_count": 4,
   "id": "ec164bb8",
   "metadata": {},
   "outputs": [
    {
     "name": "stdout",
     "output_type": "stream",
     "text": [
      "3.51.5\n"
     ]
    }
   ],
   "source": [
    "#9 \n",
    "a = \"3.5\"\n",
    "b = \"1.5\"\n",
    "print(a+b)"
   ]
  },
  {
   "cell_type": "code",
   "execution_count": 5,
   "id": "d4a78073",
   "metadata": {},
   "outputs": [
    {
     "name": "stdout",
     "output_type": "stream",
     "text": [
      "27.0\n"
     ]
    }
   ],
   "source": [
    "#10\n",
    "a = \"3\"\n",
    "b = float(a)\n",
    "print(b ** int(a))"
   ]
  },
  {
   "cell_type": "code",
   "execution_count": 7,
   "id": "5adf9cd9",
   "metadata": {},
   "outputs": [
    {
     "ename": "SyntaxError",
     "evalue": "unexpected EOF while parsing (<ipython-input-7-b52c780a3058>, line 4)",
     "output_type": "error",
     "traceback": [
      "\u001b[1;36m  File \u001b[1;32m\"<ipython-input-7-b52c780a3058>\"\u001b[1;36m, line \u001b[1;32m4\u001b[0m\n\u001b[1;33m    print(type(float(a) / float(b))\u001b[0m\n\u001b[1;37m                                   ^\u001b[0m\n\u001b[1;31mSyntaxError\u001b[0m\u001b[1;31m:\u001b[0m unexpected EOF while parsing\n"
     ]
    }
   ],
   "source": [
    "#12\n",
    "a = '20'\n",
    "b = '4'"
   ]
  },
  {
   "cell_type": "code",
   "execution_count": 10,
   "id": "53abf86a",
   "metadata": {},
   "outputs": [
    {
     "name": "stdout",
     "output_type": "stream",
     "text": [
      "1.0 * 5\n",
      "3.60.5\n"
     ]
    }
   ],
   "source": [
    "# 15\n",
    "print(\"1.0 * 5\")\n",
    "print(\"3.6\" + \"0.5\")"
   ]
  },
  {
   "cell_type": "code",
   "execution_count": null,
   "id": "4975c033",
   "metadata": {},
   "outputs": [],
   "source": []
  },
  {
   "cell_type": "code",
   "execution_count": null,
   "id": "0d64c72a",
   "metadata": {},
   "outputs": [],
   "source": []
  },
  {
   "cell_type": "code",
   "execution_count": null,
   "id": "38739263",
   "metadata": {},
   "outputs": [],
   "source": []
  }
 ],
 "metadata": {
  "kernelspec": {
   "display_name": "Python 3",
   "language": "python",
   "name": "python3"
  },
  "language_info": {
   "codemirror_mode": {
    "name": "ipython",
    "version": 3
   },
   "file_extension": ".py",
   "mimetype": "text/x-python",
   "name": "python",
   "nbconvert_exporter": "python",
   "pygments_lexer": "ipython3",
   "version": "3.8.8"
  }
 },
 "nbformat": 4,
 "nbformat_minor": 5
}
