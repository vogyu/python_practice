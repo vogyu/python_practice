{
 "cells": [
  {
   "cell_type": "code",
   "execution_count": 1,
   "id": "16d4775c",
   "metadata": {},
   "outputs": [
    {
     "name": "stdout",
     "output_type": "stream",
     "text": [
      "55\n",
      "18\n",
      "150\n",
      "6.0\n"
     ]
    }
   ],
   "source": [
    "# 사칙연산\n",
    "print(25+30)\n",
    "print(30 - 12)\n",
    "print(50 *3 )\n",
    "print(30 / 5)"
   ]
  },
  {
   "cell_type": "code",
   "execution_count": 2,
   "id": "e565a092",
   "metadata": {},
   "outputs": [
    {
     "name": "stdout",
     "output_type": "stream",
     "text": [
      "729\n",
      "243\n"
     ]
    }
   ],
   "source": [
    "print(3 * 3 * 3* 3* 3* 3)\n",
    "print(3 ** 5)"
   ]
  },
  {
   "cell_type": "code",
   "execution_count": 3,
   "id": "457bdb8d",
   "metadata": {},
   "outputs": [
    {
     "name": "stdout",
     "output_type": "stream",
     "text": [
      "3\n",
      "1\n"
     ]
    }
   ],
   "source": [
    "# 나눗셈의 몫과 나머지\n",
    "print(7 // 2)\n",
    "print(7 % 2)"
   ]
  },
  {
   "cell_type": "code",
   "execution_count": 4,
   "id": "118e60cd",
   "metadata": {},
   "outputs": [
    {
     "name": "stdout",
     "output_type": "stream",
     "text": [
      "2\n"
     ]
    }
   ],
   "source": [
    "# 증가 연산, 감소 연산\n",
    "a = 1\n",
    "a = a+1\n",
    "print(a)"
   ]
  },
  {
   "cell_type": "code",
   "execution_count": 5,
   "id": "69958e67",
   "metadata": {},
   "outputs": [
    {
     "name": "stdout",
     "output_type": "stream",
     "text": [
      "3\n"
     ]
    }
   ],
   "source": [
    "a += 1\n",
    "print(a)"
   ]
  },
  {
   "cell_type": "code",
   "execution_count": 6,
   "id": "542e2279",
   "metadata": {},
   "outputs": [
    {
     "name": "stdout",
     "output_type": "stream",
     "text": [
      "1\n"
     ]
    }
   ],
   "source": [
    "a = a-1\n",
    "a -= 1\n",
    "print(a)"
   ]
  },
  {
   "cell_type": "code",
   "execution_count": 8,
   "id": "08695405",
   "metadata": {},
   "outputs": [],
   "source": [
    "# 논리 연산 : and, or, not\n",
    "t, f = True, False"
   ]
  },
  {
   "cell_type": "code",
   "execution_count": 9,
   "id": "e9de0e6c",
   "metadata": {},
   "outputs": [
    {
     "name": "stdout",
     "output_type": "stream",
     "text": [
      "True\n",
      "False\n",
      "False\n"
     ]
    }
   ],
   "source": [
    "# and : 논리 AND, 둘다 참일 때 참\n",
    "print(t and t)\n",
    "print(t and f)\n",
    "print(f and f)"
   ]
  },
  {
   "cell_type": "code",
   "execution_count": 10,
   "id": "999f992f",
   "metadata": {},
   "outputs": [
    {
     "name": "stdout",
     "output_type": "stream",
     "text": [
      "True\n",
      "True\n",
      "False\n"
     ]
    }
   ],
   "source": [
    "# or : 논리 OR, 둘 중 하나가 참이면 참\n",
    "print(t or t)\n",
    "print(t or f)\n",
    "print(f or f)"
   ]
  },
  {
   "cell_type": "code",
   "execution_count": 11,
   "id": "60fe1c02",
   "metadata": {},
   "outputs": [
    {
     "name": "stdout",
     "output_type": "stream",
     "text": [
      "False\n",
      "True\n"
     ]
    }
   ],
   "source": [
    "# not : 논리 NOT, 논리 상태 반전\n",
    "print(not t)\n",
    "print(not f)"
   ]
  },
  {
   "cell_type": "code",
   "execution_count": 12,
   "id": "74de1c20",
   "metadata": {},
   "outputs": [
    {
     "name": "stdout",
     "output_type": "stream",
     "text": [
      "True\n",
      "True\n",
      "False\n"
     ]
    }
   ],
   "source": [
    "# 비교 연산 : ==, !=, >, >=, <, <=\n",
    "print(5 > 2)\n",
    "print(7 == 7)\n",
    "print(7 != 7)"
   ]
  },
  {
   "cell_type": "code",
   "execution_count": 13,
   "id": "4cec9bf3",
   "metadata": {},
   "outputs": [
    {
     "name": "stdout",
     "output_type": "stream",
     "text": [
      "True\n",
      "False\n",
      "True\n"
     ]
    },
    {
     "name": "stderr",
     "output_type": "stream",
     "text": [
      "<>:3: SyntaxWarning: \"is\" with a literal. Did you mean \"==\"?\n",
      "<>:4: SyntaxWarning: \"is not\" with a literal. Did you mean \"!=\"?\n",
      "<>:3: SyntaxWarning: \"is\" with a literal. Did you mean \"==\"?\n",
      "<>:4: SyntaxWarning: \"is not\" with a literal. Did you mean \"!=\"?\n",
      "<ipython-input-13-a21d72783f3f>:3: SyntaxWarning: \"is\" with a literal. Did you mean \"==\"?\n",
      "  print(1 is 1.0)\n",
      "<ipython-input-13-a21d72783f3f>:4: SyntaxWarning: \"is not\" with a literal. Did you mean \"!=\"?\n",
      "  print(1 is not 1.0)\n"
     ]
    }
   ],
   "source": [
    "# 객체 비교 : is, is not\n",
    "print(1 == 1.0) # 값의 비교\n",
    "print(1 is 1.0)\n",
    "print(1 is not 1.0)"
   ]
  },
  {
   "cell_type": "code",
   "execution_count": null,
   "id": "93efa835",
   "metadata": {},
   "outputs": [],
   "source": []
  }
 ],
 "metadata": {
  "kernelspec": {
   "display_name": "Python 3",
   "language": "python",
   "name": "python3"
  },
  "language_info": {
   "codemirror_mode": {
    "name": "ipython",
    "version": 3
   },
   "file_extension": ".py",
   "mimetype": "text/x-python",
   "name": "python",
   "nbconvert_exporter": "python",
   "pygments_lexer": "ipython3",
   "version": "3.8.8"
  }
 },
 "nbformat": 4,
 "nbformat_minor": 5
}
