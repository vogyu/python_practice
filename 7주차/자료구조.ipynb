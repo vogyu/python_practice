{
 "cells": [
  {
   "cell_type": "markdown",
   "id": "7097072d",
   "metadata": {},
   "source": [
    "# stack"
   ]
  },
  {
   "cell_type": "code",
   "execution_count": 2,
   "id": "b66268aa",
   "metadata": {},
   "outputs": [
    {
     "data": {
      "text/plain": [
       "[1, 2, 3, 4, 5, 10]"
      ]
     },
     "execution_count": 2,
     "metadata": {},
     "output_type": "execute_result"
    }
   ],
   "source": [
    "a = [1,2,3,4,5]\n",
    "a.append(10)\n",
    "a"
   ]
  },
  {
   "cell_type": "code",
   "execution_count": 4,
   "id": "a6829d46",
   "metadata": {},
   "outputs": [
    {
     "data": {
      "text/plain": [
       "[1, 2, 3, 4, 5, 10, 20, 20]"
      ]
     },
     "execution_count": 4,
     "metadata": {},
     "output_type": "execute_result"
    }
   ],
   "source": [
    "a.append(20)\n",
    "a"
   ]
  },
  {
   "cell_type": "code",
   "execution_count": 5,
   "id": "f30d9a2e",
   "metadata": {},
   "outputs": [
    {
     "data": {
      "text/plain": [
       "20"
      ]
     },
     "execution_count": 5,
     "metadata": {},
     "output_type": "execute_result"
    }
   ],
   "source": [
    "a.pop()"
   ]
  },
  {
   "cell_type": "code",
   "execution_count": 6,
   "id": "90b17546",
   "metadata": {},
   "outputs": [
    {
     "data": {
      "text/plain": [
       "20"
      ]
     },
     "execution_count": 6,
     "metadata": {},
     "output_type": "execute_result"
    }
   ],
   "source": [
    "a.pop()"
   ]
  },
  {
   "cell_type": "code",
   "execution_count": 7,
   "id": "945b2b43",
   "metadata": {},
   "outputs": [
    {
     "name": "stdout",
     "output_type": "stream",
     "text": [
      "Input a word:PYTHON\n",
      "['P', 'Y', 'T', 'H', 'O', 'N']\n",
      "['N', 'O', 'H', 'T', 'Y', 'P']\n",
      "NOHTYP\n"
     ]
    }
   ],
   "source": [
    "# 7-1 stack\n",
    "word = input(\"Input a word:\")\n",
    "word_list = list(word)\n",
    "print(word_list)\n",
    "\n",
    "result = []\n",
    "for _ in range(len(word_list)):\n",
    "    result.append(word_list.pop())\n",
    "    \n",
    "print(result)\n",
    "print(word[::-1])"
   ]
  },
  {
   "cell_type": "markdown",
   "id": "9982b269",
   "metadata": {},
   "source": [
    "# Queue"
   ]
  },
  {
   "cell_type": "code",
   "execution_count": 8,
   "id": "4313c755",
   "metadata": {},
   "outputs": [
    {
     "data": {
      "text/plain": [
       "[1, 2, 3, 4, 5, 10, 20]"
      ]
     },
     "execution_count": 8,
     "metadata": {},
     "output_type": "execute_result"
    }
   ],
   "source": [
    "a = [1,2,3,4,5]\n",
    "a.append(10)\n",
    "a.append(20)\n",
    "a"
   ]
  },
  {
   "cell_type": "code",
   "execution_count": 9,
   "id": "5bc80d06",
   "metadata": {},
   "outputs": [
    {
     "data": {
      "text/plain": [
       "1"
      ]
     },
     "execution_count": 9,
     "metadata": {},
     "output_type": "execute_result"
    }
   ],
   "source": [
    "a.pop(0)"
   ]
  },
  {
   "cell_type": "code",
   "execution_count": 10,
   "id": "a8068153",
   "metadata": {},
   "outputs": [
    {
     "data": {
      "text/plain": [
       "2"
      ]
     },
     "execution_count": 10,
     "metadata": {},
     "output_type": "execute_result"
    }
   ],
   "source": [
    "a.pop(0)"
   ]
  },
  {
   "cell_type": "markdown",
   "id": "ab4599d4",
   "metadata": {},
   "source": [
    "# tuple\n",
    "* 리스트와 유사하지만 변경 불가능한 자료 구조\n",
    "* () 를 사용하여 정의"
   ]
  },
  {
   "cell_type": "code",
   "execution_count": 12,
   "id": "9d630e72",
   "metadata": {},
   "outputs": [
    {
     "name": "stdout",
     "output_type": "stream",
     "text": [
      "(1, 2, 3, 1, 2, 3) (1, 2, 3, 1, 2, 3)\n"
     ]
    },
    {
     "data": {
      "text/plain": [
       "3"
      ]
     },
     "execution_count": 12,
     "metadata": {},
     "output_type": "execute_result"
    }
   ],
   "source": [
    "t = (1,2,3)\n",
    "print(t + t, t*2)\n",
    "len(t)"
   ]
  },
  {
   "cell_type": "code",
   "execution_count": 13,
   "id": "22745801",
   "metadata": {},
   "outputs": [
    {
     "data": {
      "text/plain": [
       "2"
      ]
     },
     "execution_count": 13,
     "metadata": {},
     "output_type": "execute_result"
    }
   ],
   "source": [
    "t[1]"
   ]
  },
  {
   "cell_type": "code",
   "execution_count": 14,
   "id": "7b536802",
   "metadata": {},
   "outputs": [
    {
     "ename": "TypeError",
     "evalue": "'tuple' object does not support item assignment",
     "output_type": "error",
     "traceback": [
      "\u001b[1;31m---------------------------------------------------------------------------\u001b[0m",
      "\u001b[1;31mTypeError\u001b[0m                                 Traceback (most recent call last)",
      "\u001b[1;32m<ipython-input-14-c53026d12066>\u001b[0m in \u001b[0;36m<module>\u001b[1;34m\u001b[0m\n\u001b[1;32m----> 1\u001b[1;33m \u001b[0mt\u001b[0m\u001b[1;33m[\u001b[0m\u001b[1;36m1\u001b[0m\u001b[1;33m]\u001b[0m \u001b[1;33m=\u001b[0m \u001b[1;36m5\u001b[0m\u001b[1;33m\u001b[0m\u001b[1;33m\u001b[0m\u001b[0m\n\u001b[0m",
      "\u001b[1;31mTypeError\u001b[0m: 'tuple' object does not support item assignment"
     ]
    }
   ],
   "source": [
    "t[1] = 5 ##에러"
   ]
  },
  {
   "cell_type": "markdown",
   "id": "ddc15fb7",
   "metadata": {},
   "source": [
    "# tuple indexing"
   ]
  },
  {
   "cell_type": "code",
   "execution_count": 16,
   "id": "1468d6e8",
   "metadata": {},
   "outputs": [
    {
     "name": "stdout",
     "output_type": "stream",
     "text": [
      "1 2\n"
     ]
    }
   ],
   "source": [
    "print(t[0], t[-2])"
   ]
  },
  {
   "cell_type": "markdown",
   "id": "e89fc489",
   "metadata": {},
   "source": [
    "# nested tuple indexing"
   ]
  },
  {
   "cell_type": "code",
   "execution_count": 18,
   "id": "8827d434",
   "metadata": {},
   "outputs": [
    {
     "name": "stdout",
     "output_type": "stream",
     "text": [
      "(1, 2, 3, ('one', 'Two', 'Three'))\n",
      "('one', 'Two', 'Three')\n",
      "Two\n"
     ]
    }
   ],
   "source": [
    "t = (1,2,3,('one','Two','Three'))\n",
    "print(t)\n",
    "print(t[3])\n",
    "print(t[3][1])"
   ]
  },
  {
   "cell_type": "markdown",
   "id": "e4042114",
   "metadata": {},
   "source": [
    "# Set\n",
    "* 데이터 중복을 허용하지 않는 자료 구조\n",
    "* 순서가 없는 데이터 집합\n",
    "* 인덱싱 불가"
   ]
  },
  {
   "cell_type": "code",
   "execution_count": 20,
   "id": "3dce3417",
   "metadata": {},
   "outputs": [
    {
     "name": "stdout",
     "output_type": "stream",
     "text": [
      "{1, 2, 3}\n",
      "{4, 5, 6}\n"
     ]
    }
   ],
   "source": [
    "s1 = set([1,2,3,1,2,3])\n",
    "s2 = {4,5,6}\n",
    "print(s1)\n",
    "print(s2)"
   ]
  },
  {
   "cell_type": "code",
   "execution_count": 22,
   "id": "81a5eb28",
   "metadata": {},
   "outputs": [
    {
     "data": {
      "text/plain": [
       "{1, 2, 3}"
      ]
     },
     "execution_count": 22,
     "metadata": {},
     "output_type": "execute_result"
    }
   ],
   "source": [
    "s1.add(1)\n",
    "s1"
   ]
  },
  {
   "cell_type": "code",
   "execution_count": 23,
   "id": "9fc6e4b2",
   "metadata": {},
   "outputs": [
    {
     "data": {
      "text/plain": [
       "{2, 3}"
      ]
     },
     "execution_count": 23,
     "metadata": {},
     "output_type": "execute_result"
    }
   ],
   "source": [
    "s1.remove(1)\n",
    "s1"
   ]
  },
  {
   "cell_type": "code",
   "execution_count": 24,
   "id": "1d6f4f10",
   "metadata": {},
   "outputs": [
    {
     "data": {
      "text/plain": [
       "{1, 2, 3, 4, 5, 6, 7}"
      ]
     },
     "execution_count": 24,
     "metadata": {},
     "output_type": "execute_result"
    }
   ],
   "source": [
    "s1.update([1,4,5,6,7])\n",
    "s1"
   ]
  },
  {
   "cell_type": "code",
   "execution_count": 25,
   "id": "c9550ef2",
   "metadata": {},
   "outputs": [
    {
     "data": {
      "text/plain": [
       "{1, 2, 4, 5, 6, 7}"
      ]
     },
     "execution_count": 25,
     "metadata": {},
     "output_type": "execute_result"
    }
   ],
   "source": [
    "s1.discard(3)\n",
    "s1"
   ]
  },
  {
   "cell_type": "code",
   "execution_count": 27,
   "id": "0a1fbb15",
   "metadata": {},
   "outputs": [
    {
     "data": {
      "text/plain": [
       "set()"
      ]
     },
     "execution_count": 27,
     "metadata": {},
     "output_type": "execute_result"
    }
   ],
   "source": [
    "s1.clear()\n",
    "s1"
   ]
  },
  {
   "cell_type": "markdown",
   "id": "632871b7",
   "metadata": {},
   "source": [
    "## set operators, methods\n",
    "* 교집합 : &, intersection()\n",
    "* 합집합 : |, union()\n",
    "* 차집합 : -, difference()\n",
    "* 대칭차 : ^, symmetric_difference()"
   ]
  },
  {
   "cell_type": "code",
   "execution_count": 28,
   "id": "5410bc23",
   "metadata": {},
   "outputs": [
    {
     "name": "stdout",
     "output_type": "stream",
     "text": [
      "{10, 20, 30}\n",
      "{40, 50, 30}\n"
     ]
    }
   ],
   "source": [
    "s1 = {10,20,20,30}\n",
    "s2 = {30,30,40,50}\n",
    "print(s1)\n",
    "print(s2)"
   ]
  },
  {
   "cell_type": "code",
   "execution_count": 29,
   "id": "5b2e4a62",
   "metadata": {},
   "outputs": [
    {
     "name": "stdout",
     "output_type": "stream",
     "text": [
      "{30}\n",
      "{50, 20, 40, 10, 30}\n",
      "{10, 20}\n",
      "{40, 10, 50, 20}\n"
     ]
    }
   ],
   "source": [
    "print(s1 & s2)\n",
    "print(s1 | s2)\n",
    "print(s1 - s2)\n",
    "print(s1 ^ s2)"
   ]
  },
  {
   "cell_type": "code",
   "execution_count": 30,
   "id": "ed8c9b5c",
   "metadata": {},
   "outputs": [
    {
     "name": "stdout",
     "output_type": "stream",
     "text": [
      "{30}\n",
      "{50, 20, 40, 10, 30}\n",
      "{10, 20}\n",
      "{40, 10, 50, 20}\n"
     ]
    }
   ],
   "source": [
    "print(s1.intersection(s2))\n",
    "print(s1.union(s2))\n",
    "print(s1.difference(s2))\n",
    "print(s1.symmetric_difference(s2))"
   ]
  },
  {
   "cell_type": "markdown",
   "id": "0bdb3750",
   "metadata": {},
   "source": [
    "# dictionary\n",
    "* key, value의 쌍으로 구성된 자료 구조\n",
    "* 순서가 없는 데이터\n",
    "* key를 이용하여 value 검색\n",
    "* 동일한 key가 있을 경우 덮어씀"
   ]
  },
  {
   "cell_type": "code",
   "execution_count": 31,
   "id": "7e555a4a",
   "metadata": {},
   "outputs": [
    {
     "name": "stdout",
     "output_type": "stream",
     "text": [
      "{20140012: 'Sungchul', 20140059: 'Jiyoung', 20140058: 'JaeHong'}\n"
     ]
    }
   ],
   "source": [
    "student_info = {20140012:'Sungchul', 20140059:'Jiyoung',20140058:'JaeHong'}\n",
    "print(student_info)"
   ]
  },
  {
   "cell_type": "code",
   "execution_count": 32,
   "id": "88d47881",
   "metadata": {},
   "outputs": [
    {
     "data": {
      "text/plain": [
       "'Sungchul'"
      ]
     },
     "execution_count": 32,
     "metadata": {},
     "output_type": "execute_result"
    }
   ],
   "source": [
    "student_info[20140012]"
   ]
  },
  {
   "cell_type": "code",
   "execution_count": 33,
   "id": "c6db99f6",
   "metadata": {},
   "outputs": [
    {
     "data": {
      "text/plain": [
       "{20140012: 'Janghyueok',\n",
       " 20140059: 'Jiyoung',\n",
       " 20140058: 'JaeHong',\n",
       " 20140039: 'wonchul'}"
      ]
     },
     "execution_count": 33,
     "metadata": {},
     "output_type": "execute_result"
    }
   ],
   "source": [
    "student_info[20140012] = 'Janghyueok'\n",
    "student_info[20140039] = 'wonchul'\n",
    "student_info"
   ]
  },
  {
   "cell_type": "markdown",
   "id": "90c70837",
   "metadata": {},
   "source": [
    "# dictionary methods"
   ]
  },
  {
   "cell_type": "code",
   "execution_count": 34,
   "id": "c8aa7ff5",
   "metadata": {},
   "outputs": [
    {
     "data": {
      "text/plain": [
       "{'America': 1, 'Korea': 82, 'China': 86, 'Japan': 81}"
      ]
     },
     "execution_count": 34,
     "metadata": {},
     "output_type": "execute_result"
    }
   ],
   "source": [
    "country_code = {'America':1, 'Korea':82, 'China':86, 'Japan':81}\n",
    "country_code"
   ]
  },
  {
   "cell_type": "code",
   "execution_count": 35,
   "id": "a26ddd62",
   "metadata": {},
   "outputs": [
    {
     "name": "stdout",
     "output_type": "stream",
     "text": [
      "dict_keys(['America', 'Korea', 'China', 'Japan'])\n",
      "dict_values([1, 82, 86, 81])\n",
      "dict_items([('America', 1), ('Korea', 82), ('China', 86), ('Japan', 81)])\n"
     ]
    }
   ],
   "source": [
    "print(country_code.keys())\n",
    "print(country_code.values())\n",
    "print(country_code.items())"
   ]
  },
  {
   "cell_type": "code",
   "execution_count": 36,
   "id": "06c8fca2",
   "metadata": {},
   "outputs": [
    {
     "data": {
      "text/plain": [
       "True"
      ]
     },
     "execution_count": 36,
     "metadata": {},
     "output_type": "execute_result"
    }
   ],
   "source": [
    "'Korea' in country_code.keys()"
   ]
  },
  {
   "cell_type": "code",
   "execution_count": 37,
   "id": "55616b6c",
   "metadata": {},
   "outputs": [
    {
     "data": {
      "text/plain": [
       "False"
      ]
     },
     "execution_count": 37,
     "metadata": {},
     "output_type": "execute_result"
    }
   ],
   "source": [
    "'German' in country_code.keys()"
   ]
  },
  {
   "cell_type": "code",
   "execution_count": 38,
   "id": "6ab9be50",
   "metadata": {},
   "outputs": [
    {
     "data": {
      "text/plain": [
       "True"
      ]
     },
     "execution_count": 38,
     "metadata": {},
     "output_type": "execute_result"
    }
   ],
   "source": [
    "82 in country_code.values()"
   ]
  },
  {
   "cell_type": "code",
   "execution_count": 39,
   "id": "ffb2cd93",
   "metadata": {},
   "outputs": [
    {
     "data": {
      "text/plain": [
       "False"
      ]
     },
     "execution_count": 39,
     "metadata": {},
     "output_type": "execute_result"
    }
   ],
   "source": [
    "49 in country_code.values()"
   ]
  },
  {
   "cell_type": "markdown",
   "id": "e6372fb7",
   "metadata": {},
   "source": [
    "# collections\n",
    "컨테이너 데이터형"
   ]
  },
  {
   "cell_type": "code",
   "execution_count": 41,
   "id": "d4f5c0c2",
   "metadata": {},
   "outputs": [],
   "source": [
    "from collections import deque, OrderedDict, defaultdict, Counter, namedtuple"
   ]
  },
  {
   "cell_type": "markdown",
   "id": "df4bc2df",
   "metadata": {},
   "source": [
    "# deque\n",
    "양쪽 끝에서 빠르게 추가와 삭제를 할 수 있는 리스트형 컨테이너"
   ]
  },
  {
   "cell_type": "code",
   "execution_count": 42,
   "id": "88ffcb79",
   "metadata": {},
   "outputs": [
    {
     "name": "stdout",
     "output_type": "stream",
     "text": [
      "deque([0, 1, 2, 3, 4])\n"
     ]
    }
   ],
   "source": [
    "deque_list = deque()\n",
    "\n",
    "for i in range(5):\n",
    "    deque_list.append(i)\n",
    "    \n",
    "print(deque_list)"
   ]
  },
  {
   "cell_type": "code",
   "execution_count": 43,
   "id": "0c55fbfd",
   "metadata": {},
   "outputs": [
    {
     "data": {
      "text/plain": [
       "4"
      ]
     },
     "execution_count": 43,
     "metadata": {},
     "output_type": "execute_result"
    }
   ],
   "source": [
    "deque_list.pop()"
   ]
  },
  {
   "cell_type": "code",
   "execution_count": 44,
   "id": "5c1e173c",
   "metadata": {},
   "outputs": [
    {
     "data": {
      "text/plain": [
       "3"
      ]
     },
     "execution_count": 44,
     "metadata": {},
     "output_type": "execute_result"
    }
   ],
   "source": [
    "deque_list.pop()"
   ]
  },
  {
   "cell_type": "code",
   "execution_count": 45,
   "id": "98556934",
   "metadata": {},
   "outputs": [
    {
     "data": {
      "text/plain": [
       "2"
      ]
     },
     "execution_count": 45,
     "metadata": {},
     "output_type": "execute_result"
    }
   ],
   "source": [
    "deque_list.pop()"
   ]
  },
  {
   "cell_type": "code",
   "execution_count": 46,
   "id": "7ee49cd6",
   "metadata": {},
   "outputs": [
    {
     "data": {
      "text/plain": [
       "deque([0, 1])"
      ]
     },
     "execution_count": 46,
     "metadata": {},
     "output_type": "execute_result"
    }
   ],
   "source": [
    "deque_list"
   ]
  },
  {
   "cell_type": "code",
   "execution_count": 47,
   "id": "9e13569c",
   "metadata": {},
   "outputs": [
    {
     "name": "stdout",
     "output_type": "stream",
     "text": [
      "deque([4, 3, 2, 1, 0])\n"
     ]
    }
   ],
   "source": [
    "deque_list = deque()\n",
    "\n",
    "for i in range(5):\n",
    "    deque_list.appendleft(i)\n",
    "    \n",
    "print(deque_list)"
   ]
  },
  {
   "cell_type": "code",
   "execution_count": 48,
   "id": "efa16333",
   "metadata": {},
   "outputs": [
    {
     "data": {
      "text/plain": [
       "deque([1, 0, 4, 3, 2])"
      ]
     },
     "execution_count": 48,
     "metadata": {},
     "output_type": "execute_result"
    }
   ],
   "source": [
    "deque_list.rotate(2)\n",
    "deque_list"
   ]
  },
  {
   "cell_type": "code",
   "execution_count": 49,
   "id": "d3824164",
   "metadata": {},
   "outputs": [
    {
     "data": {
      "text/plain": [
       "deque([4, 3, 2, 1, 0])"
      ]
     },
     "execution_count": 49,
     "metadata": {},
     "output_type": "execute_result"
    }
   ],
   "source": [
    "deque_list.rotate(3)\n",
    "deque_list"
   ]
  },
  {
   "cell_type": "code",
   "execution_count": 50,
   "id": "94133479",
   "metadata": {},
   "outputs": [
    {
     "data": {
      "text/plain": [
       "deque([0, 1, 2, 3, 4])"
      ]
     },
     "execution_count": 50,
     "metadata": {},
     "output_type": "execute_result"
    }
   ],
   "source": [
    "deque(reversed(deque_list))"
   ]
  },
  {
   "cell_type": "code",
   "execution_count": 51,
   "id": "30661f0a",
   "metadata": {},
   "outputs": [
    {
     "data": {
      "text/plain": [
       "deque([4, 3, 2, 1, 0, 5, 6, 7])"
      ]
     },
     "execution_count": 51,
     "metadata": {},
     "output_type": "execute_result"
    }
   ],
   "source": [
    "deque_list.extend([5,6,7])\n",
    "deque_list"
   ]
  },
  {
   "cell_type": "code",
   "execution_count": 52,
   "id": "d2977277",
   "metadata": {},
   "outputs": [
    {
     "data": {
      "text/plain": [
       "deque([9, 8, 4, 3, 2, 1, 0, 5, 6, 7])"
      ]
     },
     "execution_count": 52,
     "metadata": {},
     "output_type": "execute_result"
    }
   ],
   "source": [
    "deque_list.extendleft([8,9])\n",
    "deque_list"
   ]
  },
  {
   "cell_type": "markdown",
   "id": "205b5a73",
   "metadata": {},
   "source": [
    "## OrderedDict\n",
    "항목이 추가된 순서를 기억하는 딕셔너리 서브 클래스"
   ]
  },
  {
   "cell_type": "code",
   "execution_count": 53,
   "id": "f1c3147d",
   "metadata": {},
   "outputs": [
    {
     "name": "stdout",
     "output_type": "stream",
     "text": [
      "x 100\n",
      "l 500\n",
      "y 200\n",
      "z 300\n"
     ]
    }
   ],
   "source": [
    "d = {}\n",
    "d['x'] = 100\n",
    "d['l'] = 500\n",
    "d['y'] = 200\n",
    "d['z'] = 300\n",
    "\n",
    "for k, v in d.items():\n",
    "    print(k,v)"
   ]
  },
  {
   "cell_type": "code",
   "execution_count": 54,
   "id": "70d6a744",
   "metadata": {},
   "outputs": [
    {
     "name": "stdout",
     "output_type": "stream",
     "text": [
      "x 100\n",
      "l 200\n",
      "y 300\n",
      "z 400\n"
     ]
    }
   ],
   "source": [
    "d = OrderedDict()\n",
    "d['x'] = 100\n",
    "d['l'] = 200\n",
    "d['y'] = 300\n",
    "d['z'] = 400\n",
    "\n",
    "for k, v in d.items():\n",
    "    print(k,v)"
   ]
  },
  {
   "cell_type": "code",
   "execution_count": 57,
   "id": "0133fdcc",
   "metadata": {},
   "outputs": [
    {
     "name": "stdout",
     "output_type": "stream",
     "text": [
      "i 400\n",
      "x 100\n",
      "y 200\n",
      "z 300\n"
     ]
    }
   ],
   "source": [
    "def sort_by_key(t):\n",
    "    return t[0]\n",
    "\n",
    "d = dict()\n",
    "d['x'] = 100\n",
    "d['y'] = 200\n",
    "d['z'] = 300\n",
    "d['i'] = 400\n",
    "\n",
    "for k, v in OrderedDict(sorted(d.items(), key=sort_by_key)).items():\n",
    "    print(k,v)"
   ]
  },
  {
   "cell_type": "code",
   "execution_count": 59,
   "id": "e9d131f9",
   "metadata": {},
   "outputs": [
    {
     "data": {
      "text/plain": [
       "[('i', 400), ('x', 100), ('y', 200), ('z', 300)]"
      ]
     },
     "execution_count": 59,
     "metadata": {},
     "output_type": "execute_result"
    }
   ],
   "source": [
    "sorted(d.items(), key=sort_by_key)"
   ]
  },
  {
   "cell_type": "markdown",
   "id": "5d0cce66",
   "metadata": {},
   "source": [
    "## defaultdict\n",
    "누락된 값을 제공하기 위해 팩토리 함수를 호출하는 딕셔너리 서브 클래스"
   ]
  },
  {
   "cell_type": "code",
   "execution_count": 60,
   "id": "5ed40f4a",
   "metadata": {},
   "outputs": [
    {
     "ename": "KeyError",
     "evalue": "'first'",
     "output_type": "error",
     "traceback": [
      "\u001b[1;31m---------------------------------------------------------------------------\u001b[0m",
      "\u001b[1;31mKeyError\u001b[0m                                  Traceback (most recent call last)",
      "\u001b[1;32m<ipython-input-60-3b4ee8f5b4c3>\u001b[0m in \u001b[0;36m<module>\u001b[1;34m\u001b[0m\n\u001b[0;32m      1\u001b[0m \u001b[0md\u001b[0m \u001b[1;33m=\u001b[0m \u001b[0mdict\u001b[0m\u001b[1;33m(\u001b[0m\u001b[1;33m)\u001b[0m\u001b[1;33m\u001b[0m\u001b[1;33m\u001b[0m\u001b[0m\n\u001b[1;32m----> 2\u001b[1;33m \u001b[0mprint\u001b[0m\u001b[1;33m(\u001b[0m\u001b[0md\u001b[0m\u001b[1;33m[\u001b[0m\u001b[1;34m\"first\"\u001b[0m\u001b[1;33m]\u001b[0m\u001b[1;33m)\u001b[0m\u001b[1;33m\u001b[0m\u001b[1;33m\u001b[0m\u001b[0m\n\u001b[0m",
      "\u001b[1;31mKeyError\u001b[0m: 'first'"
     ]
    }
   ],
   "source": [
    "d = dict()\n",
    "print(d[\"first\"])"
   ]
  },
  {
   "cell_type": "code",
   "execution_count": 61,
   "id": "98c211c2",
   "metadata": {},
   "outputs": [
    {
     "name": "stdout",
     "output_type": "stream",
     "text": [
      "0\n"
     ]
    }
   ],
   "source": [
    "d = defaultdict(lambda: 0)\n",
    "print(d[\"first\"])"
   ]
  },
  {
   "cell_type": "code",
   "execution_count": 62,
   "id": "2352c78e",
   "metadata": {},
   "outputs": [
    {
     "name": "stdout",
     "output_type": "stream",
     "text": [
      "dict_items([('yellow', [1, 3]), ('blue', [2, 4]), ('red', [1])])\n"
     ]
    }
   ],
   "source": [
    "# 7-7 : List 를 default_factory로 사용. 키, 값 시퀀스를 리스트의 딕셔너리로 그룹화\n",
    "s = [(\"yellow\",1 ), ('blue', 2), (\"yellow\", 3), ('blue', 4), ('red', 1)]\n",
    "d = defaultdict(list)\n",
    "\n",
    "for k , v in s:\n",
    "    d[k].append(v)\n",
    "    \n",
    "print(d.items())"
   ]
  },
  {
   "cell_type": "code",
   "execution_count": 63,
   "id": "aff060ea",
   "metadata": {},
   "outputs": [
    {
     "name": "stdout",
     "output_type": "stream",
     "text": [
      "dict_items([('yellow', {1, 3}), ('blue', {2, 4}), ('red', {1})])\n"
     ]
    }
   ],
   "source": [
    "# set를 default_factory로 사용, 집합의 딕셔너리 생성\n",
    "s = [(\"yellow\",1 ), ('blue', 2), (\"yellow\", 3), ('blue', 4), ('red', 1)]\n",
    "d = defaultdict(set)\n",
    "\n",
    "for k , v in s:\n",
    "    d[k].add(v)\n",
    "\n",
    "print(d.items())"
   ]
  },
  {
   "cell_type": "markdown",
   "id": "4d5247b8",
   "metadata": {},
   "source": [
    "# Counter\n",
    "시퀀스 자료형의 데이터값의 개수를 세는 딕셔너리 서브 클래스"
   ]
  },
  {
   "cell_type": "code",
   "execution_count": 64,
   "id": "b27b26cf",
   "metadata": {},
   "outputs": [
    {
     "data": {
      "text/plain": [
       "['g', 'a', 'l', 'l', 'a', 'h', 'a', 'd']"
      ]
     },
     "execution_count": 64,
     "metadata": {},
     "output_type": "execute_result"
    }
   ],
   "source": [
    "text = list('gallahad')\n",
    "text"
   ]
  },
  {
   "cell_type": "code",
   "execution_count": 65,
   "id": "4a22dac8",
   "metadata": {},
   "outputs": [
    {
     "data": {
      "text/plain": [
       "Counter({'g': 1, 'a': 3, 'l': 2, 'h': 1, 'd': 1})"
      ]
     },
     "execution_count": 65,
     "metadata": {},
     "output_type": "execute_result"
    }
   ],
   "source": [
    "c = Counter(text)\n",
    "c"
   ]
  },
  {
   "cell_type": "code",
   "execution_count": 66,
   "id": "12dcd63a",
   "metadata": {},
   "outputs": [
    {
     "data": {
      "text/plain": [
       "3"
      ]
     },
     "execution_count": 66,
     "metadata": {},
     "output_type": "execute_result"
    }
   ],
   "source": [
    "c['a']"
   ]
  },
  {
   "cell_type": "markdown",
   "id": "df6f8769",
   "metadata": {},
   "source": [
    "### Counter methods"
   ]
  },
  {
   "cell_type": "code",
   "execution_count": 67,
   "id": "279df86e",
   "metadata": {},
   "outputs": [
    {
     "name": "stdout",
     "output_type": "stream",
     "text": [
      "['a', 'a', 'a', 'a', 'b', 'b']\n"
     ]
    }
   ],
   "source": [
    "# elements() : 각 요소의 개수만큼 리스트형의 결과 출력, 1보다 작으면 무시\n",
    "c = Counter(a=4, b=2, c=0, d=-2)\n",
    "print(list(c.elements()))"
   ]
  },
  {
   "cell_type": "code",
   "execution_count": 68,
   "id": "dcc9cfd8",
   "metadata": {},
   "outputs": [
    {
     "data": {
      "text/plain": [
       "[('a', 5), ('b', 2), ('r', 2)]"
      ]
     },
     "execution_count": 68,
     "metadata": {},
     "output_type": "execute_result"
    }
   ],
   "source": [
    "# most common(n) : 빈도수가 가장 높은 n개의 요소 반환\n",
    "### n을 생략하면 모든요소, 개수가 같은 요소는 처음 발견된 것 순서로\n",
    "Counter('abracadabra').most_common(3)"
   ]
  },
  {
   "cell_type": "code",
   "execution_count": 69,
   "id": "f1f6283a",
   "metadata": {},
   "outputs": [
    {
     "data": {
      "text/plain": [
       "[('a', 5), ('b', 2), ('r', 2), ('c', 1), ('d', 1)]"
      ]
     },
     "execution_count": 69,
     "metadata": {},
     "output_type": "execute_result"
    }
   ],
   "source": [
    "Counter('abracadabra').most_common()"
   ]
  },
  {
   "cell_type": "code",
   "execution_count": 70,
   "id": "7af97cd3",
   "metadata": {},
   "outputs": [
    {
     "name": "stdout",
     "output_type": "stream",
     "text": [
      "Counter({'a': 5, 'b': 4, 'c': 3, 'd': 2})\n",
      "Counter({'a': 3})\n",
      "Counter({'b': 2, 'a': 1})\n",
      "Counter({'a': 4, 'd': 4, 'c': 3, 'b': 2})\n"
     ]
    }
   ],
   "source": [
    "# subtract : 요소의 개수 빼기\n",
    "c = Counter(a=4, b=2, c = 0, d = -2)\n",
    "d = Counter(a=1, b=2, c=3, d = 4)\n",
    "\n",
    "print(c+d)\n",
    "print(c-d)\n",
    "print(c & d)\n",
    "print(c | d)"
   ]
  },
  {
   "cell_type": "markdown",
   "id": "78440448",
   "metadata": {},
   "source": [
    "## named tuple\n",
    "이름 붙은 필드를 갖는 튜플 서브 클래스를 만드는 팩토리 함수"
   ]
  },
  {
   "cell_type": "code",
   "execution_count": 71,
   "id": "925d12e8",
   "metadata": {},
   "outputs": [
    {
     "data": {
      "text/plain": [
       "Point(x=11, y=22)"
      ]
     },
     "execution_count": 71,
     "metadata": {},
     "output_type": "execute_result"
    }
   ],
   "source": [
    "Point = namedtuple('Point', ['x','y'])\n",
    "p = Point(11, y = 22)\n",
    "p "
   ]
  },
  {
   "cell_type": "code",
   "execution_count": 72,
   "id": "8b8ed4cd",
   "metadata": {},
   "outputs": [
    {
     "data": {
      "text/plain": [
       "33"
      ]
     },
     "execution_count": 72,
     "metadata": {},
     "output_type": "execute_result"
    }
   ],
   "source": [
    "p[0] + p[1]"
   ]
  },
  {
   "cell_type": "code",
   "execution_count": 73,
   "id": "68e9127b",
   "metadata": {},
   "outputs": [
    {
     "data": {
      "text/plain": [
       "(11, 22)"
      ]
     },
     "execution_count": 73,
     "metadata": {},
     "output_type": "execute_result"
    }
   ],
   "source": [
    "x, y = p #unpack\n",
    "x, y"
   ]
  },
  {
   "cell_type": "code",
   "execution_count": 74,
   "id": "07f2875f",
   "metadata": {},
   "outputs": [
    {
     "data": {
      "text/plain": [
       "33"
      ]
     },
     "execution_count": 74,
     "metadata": {},
     "output_type": "execute_result"
    }
   ],
   "source": [
    "p.x + p.y"
   ]
  },
  {
   "cell_type": "markdown",
   "id": "d1ff0cdc",
   "metadata": {},
   "source": [
    "# lab : tetmining"
   ]
  },
  {
   "cell_type": "code",
   "execution_count": 79,
   "id": "6b08f6af",
   "metadata": {},
   "outputs": [
    {
     "name": "stdout",
     "output_type": "stream",
     "text": [
      "and 3\n",
      "to 3\n",
      "a 2\n",
      "press 2\n",
      "release 2\n",
      "can 2\n",
      "you 2\n",
      "is 1\n",
      "the 1\n",
      "quickest 1\n",
      "easiest 1\n",
      "way 1\n",
      "get 1\n",
      "free 1\n",
      "publicity. 1\n",
      "if 1\n",
      "well 1\n",
      "written, 1\n",
      "result 1\n",
      "in 1\n",
      "multiple 1\n",
      "published 1\n",
      "articles 1\n",
      "about 1\n",
      "your 1\n",
      "firm 1\n",
      "its 1\n",
      "products. 1\n",
      "that 1\n",
      "mean 1\n",
      "new 1\n",
      "prspects 1\n",
      "contacting 1\n",
      "asking 1\n",
      "sell 1\n",
      "them. 1\n",
      "... 1\n"
     ]
    }
   ],
   "source": [
    "text =  \"\"\"A press release is the quickest and easiest way to get free publicity.\n",
    "If well written, a press release can result in multiple published articles about\n",
    "your firm and its products. And that can mean new prspects contacting you asking you\n",
    "to sell to them. ...\"\"\".lower().split()\n",
    "\n",
    "word_count = defaultdict(lambda: 0)\n",
    "\n",
    "for word in text:\n",
    "    word_count[word] += 1\n",
    "    \n",
    "for i, v in OrderedDict(sorted(word_count.items(), key=lambda t:t[1], reverse= True)). items():\n",
    "    print(i,v)"
   ]
  },
  {
   "cell_type": "code",
   "execution_count": 80,
   "id": "fc1882bd",
   "metadata": {},
   "outputs": [
    {
     "data": {
      "text/plain": [
       "Counter({'a': 2,\n",
       "         'press': 2,\n",
       "         'release': 2,\n",
       "         'is': 1,\n",
       "         'the': 1,\n",
       "         'quickest': 1,\n",
       "         'and': 3,\n",
       "         'easiest': 1,\n",
       "         'way': 1,\n",
       "         'to': 3,\n",
       "         'get': 1,\n",
       "         'free': 1,\n",
       "         'publicity.': 1,\n",
       "         'if': 1,\n",
       "         'well': 1,\n",
       "         'written,': 1,\n",
       "         'can': 2,\n",
       "         'result': 1,\n",
       "         'in': 1,\n",
       "         'multiple': 1,\n",
       "         'published': 1,\n",
       "         'articles': 1,\n",
       "         'about': 1,\n",
       "         'your': 1,\n",
       "         'firm': 1,\n",
       "         'its': 1,\n",
       "         'products.': 1,\n",
       "         'that': 1,\n",
       "         'mean': 1,\n",
       "         'new': 1,\n",
       "         'prspects': 1,\n",
       "         'contacting': 1,\n",
       "         'you': 2,\n",
       "         'asking': 1,\n",
       "         'sell': 1,\n",
       "         'them.': 1,\n",
       "         '...': 1})"
      ]
     },
     "execution_count": 80,
     "metadata": {},
     "output_type": "execute_result"
    }
   ],
   "source": [
    "c = Counter(text)\n",
    "c"
   ]
  },
  {
   "cell_type": "code",
   "execution_count": 82,
   "id": "6148eda3",
   "metadata": {},
   "outputs": [
    {
     "data": {
      "text/plain": [
       "3"
      ]
     },
     "execution_count": 82,
     "metadata": {},
     "output_type": "execute_result"
    }
   ],
   "source": [
    "c['and']"
   ]
  }
 ],
 "metadata": {
  "kernelspec": {
   "display_name": "Python 3",
   "language": "python",
   "name": "python3"
  },
  "language_info": {
   "codemirror_mode": {
    "name": "ipython",
    "version": 3
   },
   "file_extension": ".py",
   "mimetype": "text/x-python",
   "name": "python",
   "nbconvert_exporter": "python",
   "pygments_lexer": "ipython3",
   "version": "3.8.8"
  }
 },
 "nbformat": 4,
 "nbformat_minor": 5
}
