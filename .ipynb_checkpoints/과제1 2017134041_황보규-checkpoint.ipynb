{
 "cells": [
  {
   "cell_type": "markdown",
   "metadata": {},
   "source": [
    "# 1. 10~30 사이의 홀수를 출력하는 프로그램을 작성하시오."
   ]
  },
  {
   "cell_type": "code",
   "execution_count": 4,
   "metadata": {},
   "outputs": [
    {
     "name": "stdout",
     "output_type": "stream",
     "text": [
      "11\n",
      "13\n",
      "15\n",
      "17\n",
      "19\n",
      "21\n",
      "23\n",
      "25\n",
      "27\n",
      "29\n"
     ]
    }
   ],
   "source": [
    "for i in range(10,31):\n",
    "    if(i % 2 == 1):\n",
    "        print(i)"
   ]
  },
  {
   "cell_type": "markdown",
   "metadata": {
    "colab_type": "text",
    "id": "31ATM9vUxJQ0"
   },
   "source": [
    "# 2. 1부터 100 사이의 홀수와 짝수의 누적합을 구하시오."
   ]
  },
  {
   "cell_type": "code",
   "execution_count": 52,
   "metadata": {
    "scrolled": true
   },
   "outputs": [
    {
     "name": "stdout",
     "output_type": "stream",
     "text": [
      "1에서 100까지의 홀수의 합 = 2500\n",
      "1에서 100까지의 짝수의 합 = 2550\n"
     ]
    }
   ],
   "source": [
    "hol_sum = 0\n",
    "jjak_sum = 0\n",
    "i = 1\n",
    "\n",
    "while(i <= 100):\n",
    "    if(i % 2 == 1):\n",
    "        hol_sum = hol_sum + i\n",
    "    elif(i % 2 == 0):\n",
    "        jjak_sum = jjak_sum + i\n",
    "    i = i + 1\n",
    "\n",
    "print('1에서 100까지의 홀수의 합 = %d' %hol_sum)\n",
    "print('1에서 100까지의 짝수의 합 = %d' %jjak_sum)"
   ]
  },
  {
   "cell_type": "markdown",
   "metadata": {
    "colab_type": "text",
    "id": "tl6BsWC-7OOI"
   },
   "source": [
    "# 3. 2부터 100 사이의 소수를 구하는 코드를 작성하시오."
   ]
  },
  {
   "cell_type": "code",
   "execution_count": 24,
   "metadata": {},
   "outputs": [
    {
     "name": "stdout",
     "output_type": "stream",
     "text": [
      "2 3 5 7 11 13 17 19 23 29 31 37 41 43 47 53 59 61 67 71 73 79 83 89 97 "
     ]
    }
   ],
   "source": [
    "flag = 0\n",
    "for i in range(2,101):\n",
    "    flag = 0\n",
    "    for j in range(2, i):\n",
    "        if(i % j == 0 ):\n",
    "            flag = 1\n",
    "            break\n",
    "    if(flag == 0):\n",
    "        print(i, end=\" \")"
   ]
  },
  {
   "cell_type": "markdown",
   "metadata": {
    "colab_type": "text",
    "id": "oCvySvayxyC_"
   },
   "source": [
    "# 4. 2020년이 윤년인지 검사하는 프로그램을 작성하시오.\n",
    "\n",
    "\n",
    "*  400 으로 나누어 떨어지는 해는 윤년이다.\n",
    "*  4로 나누어 떨어지는 해는 윤년이다.\n",
    "*  4로 나누어 떨어지지만 100으로 나누어 떨어지는 해는 윤년이 아니다.\n"
   ]
  },
  {
   "cell_type": "code",
   "execution_count": 25,
   "metadata": {},
   "outputs": [
    {
     "name": "stdout",
     "output_type": "stream",
     "text": [
      "연도를 입력하세요: 2020\n",
      "2020 년은 윤년입니다.\n"
     ]
    }
   ],
   "source": [
    "year = int(input(\"연도를 입력하세요: \"))\n",
    "if(year % 400 == 0 or (year % 4 == 0 and year % 100 != 0)):\n",
    "    print(year, \"년은 윤년입니다.\")\n",
    "else:\n",
    "    print(year, \"년은 윤년이 아닙니다.\")"
   ]
  },
  {
   "cell_type": "markdown",
   "metadata": {
    "colab_type": "text",
    "id": "vNZR8EPUyn2R"
   },
   "source": [
    "# 5. 나이에 따른 입장료를 계산하는 코드를 작성하시오.\n",
    "\n",
    "* 3 ~ 7세     : 1000원\n",
    "* 8 ~ 19세    : 2000원\n",
    "* 20 ~ 64세   : 3000원\n",
    "* 2세이하, 65세 이상 : 0원"
   ]
  },
  {
   "cell_type": "code",
   "execution_count": 50,
   "metadata": {},
   "outputs": [
    {
     "name": "stdout",
     "output_type": "stream",
     "text": [
      "나이를 입력하세요: 65\n",
      "65세의 입장료는 0원입니다.\n"
     ]
    }
   ],
   "source": [
    "total_price = 0\n",
    "age = int(input(\"나이를 입력하세요: \"))\n",
    "if(age >= 3 and age <= 7):\n",
    "    total_price = total_price + 1000\n",
    "elif(age >= 8 and age <= 19):\n",
    "    total_price = total_price + 2000\n",
    "elif(age >= 20 and age <= 64):\n",
    "    total_price = total_price + 3000\n",
    "else:\n",
    "    total_price = total_price\n",
    "\n",
    "print(\"{0}세의 입장료는 {1}원입니다.\".format(age, total_price))"
   ]
  }
 ],
 "metadata": {
  "colab": {
   "authorship_tag": "ABX9TyOxQb4lBEmy+ZBMozaizl++",
   "name": "Coding Quiz #1.ipynb",
   "provenance": []
  },
  "kernelspec": {
   "display_name": "Python 3",
   "language": "python",
   "name": "python3"
  },
  "language_info": {
   "codemirror_mode": {
    "name": "ipython",
    "version": 3
   },
   "file_extension": ".py",
   "mimetype": "text/x-python",
   "name": "python",
   "nbconvert_exporter": "python",
   "pygments_lexer": "ipython3",
   "version": "3.8.8"
  }
 },
 "nbformat": 4,
 "nbformat_minor": 1
}
