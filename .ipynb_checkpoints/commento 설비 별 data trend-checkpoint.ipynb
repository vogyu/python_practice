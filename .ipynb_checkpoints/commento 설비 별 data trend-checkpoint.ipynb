{
 "cells": [
  {
   "cell_type": "code",
   "execution_count": 6,
   "id": "19e9f476",
   "metadata": {},
   "outputs": [
    {
     "data": {
      "text/html": [
       "<div>\n",
       "<style scoped>\n",
       "    .dataframe tbody tr th:only-of-type {\n",
       "        vertical-align: middle;\n",
       "    }\n",
       "\n",
       "    .dataframe tbody tr th {\n",
       "        vertical-align: top;\n",
       "    }\n",
       "\n",
       "    .dataframe thead th {\n",
       "        text-align: right;\n",
       "    }\n",
       "</style>\n",
       "<table border=\"1\" class=\"dataframe\">\n",
       "  <thead>\n",
       "    <tr style=\"text-align: right;\">\n",
       "      <th></th>\n",
       "      <th>Entity</th>\n",
       "      <th>wafer</th>\n",
       "    </tr>\n",
       "  </thead>\n",
       "  <tbody>\n",
       "    <tr>\n",
       "      <th>0</th>\n",
       "      <td>IMP#02</td>\n",
       "      <td>4</td>\n",
       "    </tr>\n",
       "    <tr>\n",
       "      <th>1</th>\n",
       "      <td>IMP#02</td>\n",
       "      <td>1</td>\n",
       "    </tr>\n",
       "    <tr>\n",
       "      <th>2</th>\n",
       "      <td>IMP#02</td>\n",
       "      <td>10</td>\n",
       "    </tr>\n",
       "    <tr>\n",
       "      <th>3</th>\n",
       "      <td>IMP#02</td>\n",
       "      <td>10</td>\n",
       "    </tr>\n",
       "    <tr>\n",
       "      <th>4</th>\n",
       "      <td>IMP#02</td>\n",
       "      <td>10</td>\n",
       "    </tr>\n",
       "    <tr>\n",
       "      <th>...</th>\n",
       "      <td>...</td>\n",
       "      <td>...</td>\n",
       "    </tr>\n",
       "    <tr>\n",
       "      <th>107</th>\n",
       "      <td>IMP#02</td>\n",
       "      <td>4</td>\n",
       "    </tr>\n",
       "    <tr>\n",
       "      <th>108</th>\n",
       "      <td>IMP#02</td>\n",
       "      <td>4</td>\n",
       "    </tr>\n",
       "    <tr>\n",
       "      <th>109</th>\n",
       "      <td>IMP#01</td>\n",
       "      <td>12</td>\n",
       "    </tr>\n",
       "    <tr>\n",
       "      <th>110</th>\n",
       "      <td>IMP#01</td>\n",
       "      <td>10</td>\n",
       "    </tr>\n",
       "    <tr>\n",
       "      <th>111</th>\n",
       "      <td>IMP#01</td>\n",
       "      <td>15</td>\n",
       "    </tr>\n",
       "  </tbody>\n",
       "</table>\n",
       "<p>112 rows × 2 columns</p>\n",
       "</div>"
      ],
      "text/plain": [
       "     Entity  wafer\n",
       "0    IMP#02      4\n",
       "1    IMP#02      1\n",
       "2    IMP#02     10\n",
       "3    IMP#02     10\n",
       "4    IMP#02     10\n",
       "..      ...    ...\n",
       "107  IMP#02      4\n",
       "108  IMP#02      4\n",
       "109  IMP#01     12\n",
       "110  IMP#01     10\n",
       "111  IMP#01     15\n",
       "\n",
       "[112 rows x 2 columns]"
      ]
     },
     "execution_count": 6,
     "metadata": {},
     "output_type": "execute_result"
    }
   ],
   "source": [
    "import pandas as pd\n",
    "data = pd.read_excel(\"4주차 과제 TW raw data_와랑이멘토.xlsx\",skiprows=2,usecols=\"F,G\")\n",
    "data"
   ]
  },
  {
   "cell_type": "code",
   "execution_count": 15,
   "id": "62321c24",
   "metadata": {},
   "outputs": [
    {
     "data": {
      "text/plain": [
       "5     7\n",
       "20    6\n",
       "4     4\n",
       "6     3\n",
       "12    3\n",
       "10    2\n",
       "13    2\n",
       "11    1\n",
       "14    1\n",
       "15    1\n",
       "17    1\n",
       "25    1\n",
       "Name: wafer, dtype: int64"
      ]
     },
     "execution_count": 15,
     "metadata": {},
     "output_type": "execute_result"
    }
   ],
   "source": [
    "data.loc[data[\"Entity\"] == \"IMP#01\", \"wafer\"].value_counts()"
   ]
  },
  {
   "cell_type": "code",
   "execution_count": 17,
   "id": "07229a4e",
   "metadata": {},
   "outputs": [],
   "source": [
    "df = data.loc[data[\"Entity\"] == \"IMP#01\", \"wafer\"].value_counts().rename_axis(\"x\").reset_index(name = \"y\")"
   ]
  },
  {
   "cell_type": "code",
   "execution_count": 18,
   "id": "685a8b65",
   "metadata": {},
   "outputs": [
    {
     "name": "stdout",
     "output_type": "stream",
     "text": [
      "     x  y\n",
      "0    5  7\n",
      "1   20  6\n",
      "2    4  4\n",
      "3    6  3\n",
      "4   12  3\n",
      "5   10  2\n",
      "6   13  2\n",
      "7   11  1\n",
      "8   14  1\n",
      "9   15  1\n",
      "10  17  1\n",
      "11  25  1\n"
     ]
    }
   ],
   "source": [
    "print(df)"
   ]
  },
  {
   "cell_type": "code",
   "execution_count": 16,
   "id": "aaa63087",
   "metadata": {},
   "outputs": [],
   "source": [
    "import matplotlib.pyplot as plt\n",
    "import matplotlib\n",
    "matplotlib.rcParams[\"font.family\"] = \"Malgun Gothic\"\n",
    "matplotlib.rcParams[\"font.size\"] = 15\n",
    "matplotlib.rcParams[\"axes.unicode_minus\"] = False"
   ]
  },
  {
   "cell_type": "code",
   "execution_count": 67,
   "id": "4b683ff0",
   "metadata": {
    "scrolled": true
   },
   "outputs": [
    {
     "data": {
      "image/png": "[encoded data removed]",
      "text/plain": [
       "<Figure size 432x288 with 1 Axes>"
      ]
     },
     "metadata": {
      "needs_background": "light"
     },
     "output_type": "display_data"
    }
   ],
   "source": [
    "plt.scatter(df[\"x\"],df[\"y\"])\n",
    "plt.title(\"웨이퍼 별 개수[IMP#01]\")\n",
    "plt.xticks([4,5,6,10,11,12,13,14,15,17,20,25])\n",
    "plt.xlabel(\"웨이퍼 number\")\n",
    "plt.ylabel(\"개수\")\n",
    "plt.grid()\n",
    "plt.show()"
   ]
  },
  {
   "cell_type": "code",
   "execution_count": 53,
   "id": "23783ca2",
   "metadata": {},
   "outputs": [
    {
     "name": "stdout",
     "output_type": "stream",
     "text": [
      "     x   y\n",
      "0    5  15\n",
      "1   10  11\n",
      "2   13  11\n",
      "3    7   9\n",
      "4    4   8\n",
      "5   17   3\n",
      "6   25   3\n",
      "7   20   2\n",
      "8    1   1\n",
      "9    3   1\n",
      "10  15   1\n",
      "11  18   1\n"
     ]
    }
   ],
   "source": [
    "import pandas as pd\n",
    "data2 = pd.read_excel(\"4주차 과제 TW raw data_와랑이멘토.xlsx\",skiprows=2,usecols=\"F,G\")\n",
    "data2\n",
    "data2.loc[data[\"Entity\"] == \"IMP#02\", \"wafer\"].value_counts()\n",
    "df2 = data2.loc[data[\"Entity\"] == \"IMP#02\", \"wafer\"].value_counts().rename_axis(\"x\").reset_index(name = \"y\")\n",
    "print(df2)"
   ]
  },
  {
   "cell_type": "code",
   "execution_count": 54,
   "id": "037a1a3c",
   "metadata": {},
   "outputs": [],
   "source": [
    "import matplotlib.pyplot as plt\n",
    "import matplotlib\n",
    "matplotlib.rcParams[\"font.family\"] = \"Malgun Gothic\"\n",
    "matplotlib.rcParams[\"font.size\"] = 15\n",
    "matplotlib.rcParams[\"axes.unicode_minus\"] = False"
   ]
  },
  {
   "cell_type": "code",
   "execution_count": 68,
   "id": "d0c02eb1",
   "metadata": {},
   "outputs": [
    {
     "data": {
      "image/png": "[encoded data removed]",
      "text/plain": [
       "<Figure size 432x288 with 1 Axes>"
      ]
     },
     "metadata": {
      "needs_background": "light"
     },
     "output_type": "display_data"
    }
   ],
   "source": [
    "plt.scatter(df2[\"x\"],df2[\"y\"])\n",
    "plt.title(\"웨이퍼 별 개수[IMP#02]\")\n",
    "plt.yticks([1,3,5,7,9,11,13,15])\n",
    "plt.xticks([1,3,4,5,7,10,13,15,17,18,20,25])\n",
    "plt.xlabel(\"웨이퍼 number\")\n",
    "plt.ylabel(\"개수\")\n",
    "plt.grid()\n",
    "plt.show()"
   ]
  },
  {
   "cell_type": "code",
   "execution_count": 63,
   "id": "f62caa34",
   "metadata": {},
   "outputs": [
    {
     "name": "stdout",
     "output_type": "stream",
     "text": [
      "    x  y\n",
      "0   5  4\n",
      "1  17  3\n",
      "2   4  2\n",
      "3  25  2\n",
      "4   1  1\n",
      "5  10  1\n",
      "6  13  1\n"
     ]
    }
   ],
   "source": [
    "import pandas as pd\n",
    "data3 = pd.read_excel(\"4주차 과제 TW raw data_와랑이멘토.xlsx\",skiprows=2,usecols=\"F,G\")\n",
    "data3\n",
    "data3.loc[data[\"Entity\"] == \"IMP#03\", \"wafer\"].value_counts()\n",
    "df3 = data2.loc[data[\"Entity\"] == \"IMP#03\", \"wafer\"].value_counts().rename_axis(\"x\").reset_index(name = \"y\")\n",
    "print(df3)"
   ]
  },
  {
   "cell_type": "code",
   "execution_count": 64,
   "id": "8b9fae98",
   "metadata": {},
   "outputs": [],
   "source": [
    "import matplotlib.pyplot as plt\n",
    "import matplotlib\n",
    "matplotlib.rcParams[\"font.family\"] = \"Malgun Gothic\"\n",
    "matplotlib.rcParams[\"font.size\"] = 15\n",
    "matplotlib.rcParams[\"axes.unicode_minus\"] = False"
   ]
  },
  {
   "cell_type": "code",
   "execution_count": 69,
   "id": "6d1b779e",
   "metadata": {},
   "outputs": [
    {
     "data": {
      "image/png": "[encoded data removed]",
      "text/plain": [
       "<Figure size 432x288 with 1 Axes>"
      ]
     },
     "metadata": {
      "needs_background": "light"
     },
     "output_type": "display_data"
    }
   ],
   "source": [
    "plt.scatter(df3[\"x\"],df3[\"y\"])\n",
    "plt.title(\"웨이퍼 별 개수[IMP#03]\")\n",
    "plt.yticks([1,2,3,4])\n",
    "plt.xticks([1,4,5,10,13,17,25])\n",
    "plt.xlabel(\"웨이퍼 number\")\n",
    "plt.ylabel(\"개수\")\n",
    "plt.grid()\n",
    "plt.show()"
   ]
  }
 ],
 "metadata": {
  "kernelspec": {
   "display_name": "Python 3",
   "language": "python",
   "name": "python3"
  },
  "language_info": {
   "codemirror_mode": {
    "name": "ipython",
    "version": 3
   },
   "file_extension": ".py",
   "mimetype": "text/x-python",
   "name": "python",
   "nbconvert_exporter": "python",
   "pygments_lexer": "ipython3",
   "version": "3.8.8"
  }
 },
 "nbformat": 4,
 "nbformat_minor": 5
}
