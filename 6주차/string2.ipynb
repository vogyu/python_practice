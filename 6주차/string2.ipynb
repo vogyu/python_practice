{
 "cells": [
  {
   "cell_type": "markdown",
   "metadata": {
    "colab_type": "text",
    "id": "E3Cd7WwAxDxm"
   },
   "source": [
    "## 문자열 정의\n"
   ]
  },
  {
   "cell_type": "code",
   "execution_count": 1,
   "metadata": {
    "colab": {},
    "colab_type": "code",
    "executionInfo": {
     "elapsed": 1066,
     "status": "ok",
     "timestamp": 1593480839630,
     "user": {
      "displayName": "Suan Lee",
      "photoUrl": "https://lh3.googleusercontent.com/a-/AOh14Ggrbbtm0GIFbgQl9jEH-C8dVBtk90Lcr33g5Dx5OJo=s64",
      "userId": "05284829446034665596"
     },
     "user_tz": -540
    },
    "id": "YLGtw6y5iHPK"
   },
   "outputs": [
    {
     "name": "stdout",
     "output_type": "stream",
     "text": [
      "String\n",
      "S\n",
      "t\n",
      "r\n",
      "i\n",
      "n\n",
      "g\n"
     ]
    }
   ],
   "source": [
    "s = \"String\"\n",
    "print(s)\n",
    "print(s[0])\n",
    "print(s[1])\n",
    "print(s[2])\n",
    "print(s[3])\n",
    "print(s[4])\n",
    "print(s[5])"
   ]
  },
  {
   "cell_type": "code",
   "execution_count": 3,
   "metadata": {
    "colab": {},
    "colab_type": "code",
    "executionInfo": {
     "elapsed": 1400,
     "status": "ok",
     "timestamp": 1593480839977,
     "user": {
      "displayName": "Suan Lee",
      "photoUrl": "https://lh3.googleusercontent.com/a-/AOh14Ggrbbtm0GIFbgQl9jEH-C8dVBtk90Lcr33g5Dx5OJo=s64",
      "userId": "05284829446034665596"
     },
     "user_tz": -540
    },
    "id": "1t41e-64iKjc"
   },
   "outputs": [
    {
     "name": "stdout",
     "output_type": "stream",
     "text": [
      "문자열\n",
      "문\n",
      "자\n",
      "열\n"
     ]
    }
   ],
   "source": [
    "s = \"문자열\"\n",
    "\n",
    "print(s)\n",
    "print(s[0])\n",
    "print(s[1])\n",
    "print(s[2])"
   ]
  },
  {
   "cell_type": "markdown",
   "metadata": {
    "colab_type": "text",
    "id": "aKsMBDZohTu4"
   },
   "source": [
    "## 문자열 생성\n",
    "\n",
    "* 파이썬에서 문자열은 작은따옴표(') 또는 큰 따옴표(\")로 표현\n"
   ]
  },
  {
   "cell_type": "code",
   "execution_count": 4,
   "metadata": {
    "colab": {},
    "colab_type": "code",
    "executionInfo": {
     "elapsed": 1389,
     "status": "ok",
     "timestamp": 1593480839977,
     "user": {
      "displayName": "Suan Lee",
      "photoUrl": "https://lh3.googleusercontent.com/a-/AOh14Ggrbbtm0GIFbgQl9jEH-C8dVBtk90Lcr33g5Dx5OJo=s64",
      "userId": "05284829446034665596"
     },
     "user_tz": -540
    },
    "id": "qLh1E-1_hxR_"
   },
   "outputs": [
    {
     "name": "stdout",
     "output_type": "stream",
     "text": [
      "Hello\n",
      "파이썬은 재미있다.\n",
      "파이썬은\n",
      "심플하다.\n",
      "파이썬은\n",
      "문자열 처리가\n",
      "뛰어나다\n"
     ]
    }
   ],
   "source": [
    "print(\"Hello\")\n",
    "print('파이썬은 재미있다.')\n",
    "print('''파이썬은\n",
    "심플하다.''')\n",
    "print(\"\"\"파이썬은\n",
    "문자열 처리가\n",
    "뛰어나다\"\"\")"
   ]
  },
  {
   "cell_type": "markdown",
   "metadata": {
    "colab_type": "text",
    "id": "z250OOXBirgb"
   },
   "source": [
    "### 따옴표가 있는 문자열 생성\n",
    "\n",
    "* 문자열에 작은따옴표가 있을 경우, 큰따옴표로 둘러싸서 표현\n",
    "* 문자열에 큰따옴표가 있을 경우, 작은따옴표로 둘러싸서 표현\n",
    "* 이스케이프 코드 \\를 이용하여 작은따옴표(‘)와 큰따옴표(“)를 문자열에 포함"
   ]
  },
  {
   "cell_type": "code",
   "execution_count": 8,
   "metadata": {
    "colab": {},
    "colab_type": "code",
    "executionInfo": {
     "elapsed": 1378,
     "status": "ok",
     "timestamp": 1593480839978,
     "user": {
      "displayName": "Suan Lee",
      "photoUrl": "https://lh3.googleusercontent.com/a-/AOh14Ggrbbtm0GIFbgQl9jEH-C8dVBtk90Lcr33g5Dx5OJo=s64",
      "userId": "05284829446034665596"
     },
     "user_tz": -540
    },
    "id": "JYNKaVT0i0aF"
   },
   "outputs": [
    {
     "name": "stdout",
     "output_type": "stream",
     "text": [
      "Python's built-in string classes.\n",
      "모두가 \"파이썬은 매우 쉽다\"라고 말한다.\n",
      "Python's built-in string classes.\n",
      "모두가 \"파이썬은 매우 쉽다\"라고 말한다.\n"
     ]
    }
   ],
   "source": [
    "string = \"Python's built-in string classes.\"\n",
    "print(string)\n",
    "string = '모두가 \"파이썬은 매우 쉽다\"라고 말한다.'\n",
    "print(string)\n",
    "string = 'Python\\'s built-in string classes.'\n",
    "print(string)\n",
    "string = \"모두가 \\\"파이썬은 매우 쉽다\\\"라고 말한다.\"\n",
    "print(string)"
   ]
  },
  {
   "cell_type": "markdown",
   "metadata": {
    "colab_type": "text",
    "id": "rM5rFj7nnx6Z"
   },
   "source": [
    "### 여러 줄이 있는 문자열 생성\n",
    "\n",
    "* 이스케이프 문자(\\\\n)를 이용하여 여러 줄이 있는 문자열 생성 가능"
   ]
  },
  {
   "cell_type": "code",
   "execution_count": 9,
   "metadata": {
    "colab": {},
    "colab_type": "code",
    "executionInfo": {
     "elapsed": 1369,
     "status": "ok",
     "timestamp": 1593480839978,
     "user": {
      "displayName": "Suan Lee",
      "photoUrl": "https://lh3.googleusercontent.com/a-/AOh14Ggrbbtm0GIFbgQl9jEH-C8dVBtk90Lcr33g5Dx5OJo=s64",
      "userId": "05284829446034665596"
     },
     "user_tz": -540
    },
    "id": "XWqwisIai6ot"
   },
   "outputs": [
    {
     "name": "stdout",
     "output_type": "stream",
     "text": [
      "동해물과 백두산이 마르고 닳도록\n",
      "하느님이 보우하사 우리나라 만세.\n",
      "\n"
     ]
    }
   ],
   "source": [
    "text = \"동해물과 백두산이 마르고 닳도록\\n하느님이 보우하사 우리나라 만세.\\n\"\n",
    "print(text)"
   ]
  },
  {
   "cell_type": "markdown",
   "metadata": {
    "colab_type": "text",
    "id": "IKC5jvDpoGAT"
   },
   "source": [
    "* 작은 따옴표 3개 또는 큰 따옴표 3개를 이용하여 여러 줄이 있는 문자열 생성"
   ]
  },
  {
   "cell_type": "code",
   "execution_count": 10,
   "metadata": {
    "colab": {},
    "colab_type": "code",
    "executionInfo": {
     "elapsed": 1359,
     "status": "ok",
     "timestamp": 1593480839979,
     "user": {
      "displayName": "Suan Lee",
      "photoUrl": "https://lh3.googleusercontent.com/a-/AOh14Ggrbbtm0GIFbgQl9jEH-C8dVBtk90Lcr33g5Dx5OJo=s64",
      "userId": "05284829446034665596"
     },
     "user_tz": -540
    },
    "id": "pgxgO7QwoDH8"
   },
   "outputs": [
    {
     "name": "stdout",
     "output_type": "stream",
     "text": [
      "동해물과 백두산이 마르고 닳도록\n",
      "하느님이 보우하사 우리나라 만세.\n"
     ]
    }
   ],
   "source": [
    "text = \"\"\"동해물과 백두산이 마르고 닳도록\n",
    "하느님이 보우하사 우리나라 만세.\"\"\"\n",
    "print(text)"
   ]
  },
  {
   "cell_type": "markdown",
   "metadata": {
    "colab_type": "text",
    "id": "PzXHy8FxoW5l"
   },
   "source": [
    "\n",
    "\n",
    "---\n",
    "\n"
   ]
  },
  {
   "cell_type": "markdown",
   "metadata": {
    "colab_type": "text",
    "id": "d38eO6_roX5E"
   },
   "source": [
    "## 문자열 연산(String Operators)"
   ]
  },
  {
   "cell_type": "markdown",
   "metadata": {
    "colab_type": "text",
    "id": "SP7ztoZhXRV4"
   },
   "source": [
    "### 문자열 더하기\n",
    "\n",
    "+ 연산자를 사용하여 문자열 연결\n"
   ]
  },
  {
   "cell_type": "code",
   "execution_count": 12,
   "metadata": {
    "colab": {},
    "colab_type": "code",
    "executionInfo": {
     "elapsed": 1350,
     "status": "ok",
     "timestamp": 1593480839980,
     "user": {
      "displayName": "Suan Lee",
      "photoUrl": "https://lh3.googleusercontent.com/a-/AOh14Ggrbbtm0GIFbgQl9jEH-C8dVBtk90Lcr33g5Dx5OJo=s64",
      "userId": "05284829446034665596"
     },
     "user_tz": -540
    },
    "id": "ZuecZ1D2oPnq"
   },
   "outputs": [
    {
     "name": "stdout",
     "output_type": "stream",
     "text": [
      "동해물과 백두산이\n"
     ]
    }
   ],
   "source": [
    "s1 = \"동해물과 \"\n",
    "s2 = \"백두산이\"\n",
    "print(s1 + s2)"
   ]
  },
  {
   "cell_type": "markdown",
   "metadata": {
    "colab_type": "text",
    "id": "0CPt-XMbvjWx"
   },
   "source": [
    "### 문자열 곱하기\n",
    "\n",
    "* \\* 연산자를 사용하여 문자열 반복\n"
   ]
  },
  {
   "cell_type": "code",
   "execution_count": 13,
   "metadata": {
    "colab": {},
    "colab_type": "code",
    "executionInfo": {
     "elapsed": 1340,
     "status": "ok",
     "timestamp": 1593480839980,
     "user": {
      "displayName": "Suan Lee",
      "photoUrl": "https://lh3.googleusercontent.com/a-/AOh14Ggrbbtm0GIFbgQl9jEH-C8dVBtk90Lcr33g5Dx5OJo=s64",
      "userId": "05284829446034665596"
     },
     "user_tz": -540
    },
    "id": "tmpi5CMDolHd"
   },
   "outputs": [
    {
     "name": "stdout",
     "output_type": "stream",
     "text": [
      "string string string \n"
     ]
    }
   ],
   "source": [
    "s = \"string \"\n",
    "print(s * 3)"
   ]
  },
  {
   "cell_type": "markdown",
   "metadata": {
    "colab_type": "text",
    "id": "pjKywfKlvvp5"
   },
   "source": [
    "### 문자열 길이(length)\n",
    "\n",
    "* 문자열 길이를 구하는 `len()` 함수"
   ]
  },
  {
   "cell_type": "code",
   "execution_count": 14,
   "metadata": {
    "colab": {},
    "colab_type": "code",
    "executionInfo": {
     "elapsed": 1332,
     "status": "ok",
     "timestamp": 1593480839981,
     "user": {
      "displayName": "Suan Lee",
      "photoUrl": "https://lh3.googleusercontent.com/a-/AOh14Ggrbbtm0GIFbgQl9jEH-C8dVBtk90Lcr33g5Dx5OJo=s64",
      "userId": "05284829446034665596"
     },
     "user_tz": -540
    },
    "id": "vKff0qQdvtqh"
   },
   "outputs": [
    {
     "name": "stdout",
     "output_type": "stream",
     "text": [
      "7\n",
      "21\n"
     ]
    }
   ],
   "source": [
    "s = \"string \"\n",
    "print(len(s))\n",
    "print(len(s * 3))"
   ]
  },
  {
   "cell_type": "markdown",
   "metadata": {
    "colab_type": "text",
    "id": "QaeVCcgnv_lD"
   },
   "source": [
    "### 문자열 인덱싱(indexing)\n",
    "\n",
    "* 문자열은 리스트처럼 문자 하나하나가 상대적인 주소(offset)를 가짐\n",
    "* 이 주소를 사용해 할당된 값을 가져오는 인덱싱을 사용"
   ]
  },
  {
   "cell_type": "code",
   "execution_count": 15,
   "metadata": {
    "colab": {},
    "colab_type": "code",
    "executionInfo": {
     "elapsed": 1322,
     "status": "ok",
     "timestamp": 1593480839981,
     "user": {
      "displayName": "Suan Lee",
      "photoUrl": "https://lh3.googleusercontent.com/a-/AOh14Ggrbbtm0GIFbgQl9jEH-C8dVBtk90Lcr33g5Dx5OJo=s64",
      "userId": "05284829446034665596"
     },
     "user_tz": -540
    },
    "id": "yuYQOYe3v5iF"
   },
   "outputs": [
    {
     "name": "stdout",
     "output_type": "stream",
     "text": [
      "String\n",
      "S\n",
      "t\n",
      "r\n",
      "i\n",
      "n\n",
      "g\n"
     ]
    }
   ],
   "source": [
    "s = \"String\"\n",
    "print(s)\n",
    "print(s[-6])\n",
    "print(s[-5])\n",
    "print(s[-4])\n",
    "print(s[-3])\n",
    "print(s[-2])\n",
    "print(s[-1])"
   ]
  },
  {
   "cell_type": "markdown",
   "metadata": {
    "colab_type": "text",
    "id": "zcTUuycAw7np"
   },
   "source": [
    "### 문자열 슬라이싱(slicing)\n",
    "\n",
    "* 문자열의 주소를 이용하여 문자열을 조각(부분)을 추출"
   ]
  },
  {
   "cell_type": "code",
   "execution_count": 16,
   "metadata": {
    "colab": {},
    "colab_type": "code",
    "executionInfo": {
     "elapsed": 1313,
     "status": "ok",
     "timestamp": 1593480839982,
     "user": {
      "displayName": "Suan Lee",
      "photoUrl": "https://lh3.googleusercontent.com/a-/AOh14Ggrbbtm0GIFbgQl9jEH-C8dVBtk90Lcr33g5Dx5OJo=s64",
      "userId": "05284829446034665596"
     },
     "user_tz": -540
    },
    "id": "JJUbjwcgw6PG"
   },
   "outputs": [
    {
     "name": "stdout",
     "output_type": "stream",
     "text": [
      "Dr.sun's data-study lab\n",
      "Dr.sun\n",
      "Dr.sun\n",
      "data-study lab\n",
      "data-study lab\n",
      "data-study\n"
     ]
    }
   ],
   "source": [
    "s = \"Dr.sun's data-study lab\"\n",
    "print(s)\n",
    "print(s[0:6])\n",
    "print(s[:6])\n",
    "print(s[9:])\n",
    "print(s[-14:])\n",
    "print(s[-14:-4])"
   ]
  },
  {
   "cell_type": "markdown",
   "metadata": {
    "colab_type": "text",
    "id": "-drrAXi3xY3y"
   },
   "source": [
    "\n",
    "\n",
    "---\n",
    "\n"
   ]
  },
  {
   "cell_type": "markdown",
   "metadata": {
    "colab_type": "text",
    "id": "ZYyzer0TxVll"
   },
   "source": [
    "## 문자열 메소드(String Methods)\n"
   ]
  },
  {
   "cell_type": "markdown",
   "metadata": {
    "colab_type": "text",
    "id": "5VO3DGMAyxHc"
   },
   "source": [
    "### capitalize() / casefold()\n",
    "\n",
    "* 문자열 \"string\"에 대해 `capitalize()`를 실행하면, 첫 문자가 대문자인 \"String\" 문자열로 변환\n",
    "* 문자열 \"String\"에 대해 `casefold()`를 실행하면, 모든 문자가 소문자인 \"string\" 문자열로 변환"
   ]
  },
  {
   "cell_type": "code",
   "execution_count": 17,
   "metadata": {
    "colab": {},
    "colab_type": "code",
    "executionInfo": {
     "elapsed": 1303,
     "status": "ok",
     "timestamp": 1593480839982,
     "user": {
      "displayName": "Suan Lee",
      "photoUrl": "https://lh3.googleusercontent.com/a-/AOh14Ggrbbtm0GIFbgQl9jEH-C8dVBtk90Lcr33g5Dx5OJo=s64",
      "userId": "05284829446034665596"
     },
     "user_tz": -540
    },
    "id": "cXTaqtYbxNb3"
   },
   "outputs": [
    {
     "name": "stdout",
     "output_type": "stream",
     "text": [
      "string\n",
      "String\n",
      "string\n"
     ]
    }
   ],
   "source": [
    "s = \"string\"\n",
    "print(s)\n",
    "s = s.capitalize()\n",
    "print(s)\n",
    "s = s.casefold()\n",
    "print(s)"
   ]
  },
  {
   "cell_type": "markdown",
   "metadata": {
    "colab_type": "text",
    "id": "XE4t6o1f0haA"
   },
   "source": [
    "### count()\n",
    "\n",
    "* 문자열 \"string string\"에 포함된 문자 's'의 갯수를 반환하도록 `count()`를 실행\n",
    "* 문자 's'가 총 2개 존재하므로 2를 반환\n",
    "* 부분 문자열 \"str\"이 몇개인지 반환하는 것도 가능하고, 부분 문자열 \"str\"이 총 2개 존재하므로 2를 반환"
   ]
  },
  {
   "cell_type": "code",
   "execution_count": 18,
   "metadata": {
    "colab": {},
    "colab_type": "code",
    "executionInfo": {
     "elapsed": 1295,
     "status": "ok",
     "timestamp": 1593480839983,
     "user": {
      "displayName": "Suan Lee",
      "photoUrl": "https://lh3.googleusercontent.com/a-/AOh14Ggrbbtm0GIFbgQl9jEH-C8dVBtk90Lcr33g5Dx5OJo=s64",
      "userId": "05284829446034665596"
     },
     "user_tz": -540
    },
    "id": "4o34mT_N0UDY"
   },
   "outputs": [
    {
     "name": "stdout",
     "output_type": "stream",
     "text": [
      "string string\n",
      "2\n",
      "2\n"
     ]
    }
   ],
   "source": [
    "s = \"string string\"\n",
    "print(s)\n",
    "print(s.count('s'))\n",
    "print(s.count('str'))"
   ]
  },
  {
   "cell_type": "markdown",
   "metadata": {
    "colab_type": "text",
    "id": "8k0mftqo0yVe"
   },
   "source": [
    "### find() / rfind()\n",
    "\n",
    "* 문자열 \"string string\"에서 문자 's'의 해당 위치를 `find()`를 통해 반환\n",
    "* 문자열 \"string string\"에서 부분 문자열 \"ing\"의 해당 위치를 `find()`를 통해 반환\n",
    "* 문자열 \"string string\"에서 문자 's'를 해당 위치를 `rfind()`를 통해 오른쪽부터 탐색하여 가장 큰 인덱스를 반환\n",
    "* 문자열 \"string string\"에서 부분 문자열 \"ring\"를 해당 위치를 `rfind()`를 통해 오른쪽부터 탐색하여 가장 큰 인덱스를 반환"
   ]
  },
  {
   "cell_type": "code",
   "execution_count": 19,
   "metadata": {
    "colab": {},
    "colab_type": "code",
    "executionInfo": {
     "elapsed": 1591,
     "status": "ok",
     "timestamp": 1593480840288,
     "user": {
      "displayName": "Suan Lee",
      "photoUrl": "https://lh3.googleusercontent.com/a-/AOh14Ggrbbtm0GIFbgQl9jEH-C8dVBtk90Lcr33g5Dx5OJo=s64",
      "userId": "05284829446034665596"
     },
     "user_tz": -540
    },
    "id": "1TDT5Akz0nQn"
   },
   "outputs": [
    {
     "name": "stdout",
     "output_type": "stream",
     "text": [
      "0\n",
      "3\n",
      "7\n",
      "10\n"
     ]
    }
   ],
   "source": [
    "s = \"string string\"\n",
    "print(s.find('s'))\n",
    "print(s.find('ing'))\n",
    "print(s.rfind('s'))\n",
    "print(s.rfind('ing'))"
   ]
  },
  {
   "cell_type": "markdown",
   "metadata": {
    "colab_type": "text",
    "id": "T9p8ylMq1-u7"
   },
   "source": [
    "### index() / rindex()\n",
    "\n",
    "* 문자열 \"string string\"에서 문자 's'의 해당 위치를 `index()`를 통해 반환\n",
    "* 문자열 \"string string\"에서 부분 문자열 \"ing\"의 해당 위치를 `index()`를 통해 반환\n",
    "* 문자열 \"string string\"에서 문자 's'를 해당 위치를 `rindex()`를 통해 오른쪽부터 탐색하여 가장 큰 인덱스를 반환\n",
    "* 문자열 \"string string\"에서 부분 문자열 \"ring\"를 해당 위치를 `rindex()`를 통해 오른쪽부터 탐색하여 가장 큰 인덱스를 반환\n",
    "* 문자열 \"string string\"에서 문자 'z'를 해당 위치를 `rindex()` 함수를 통해 오른쪽부터 탐색하지만 찾을 수 없어서 'ValueError' 발생"
   ]
  },
  {
   "cell_type": "code",
   "execution_count": 21,
   "metadata": {
    "colab": {},
    "colab_type": "code",
    "executionInfo": {
     "elapsed": 1583,
     "status": "ok",
     "timestamp": 1593480840289,
     "user": {
      "displayName": "Suan Lee",
      "photoUrl": "https://lh3.googleusercontent.com/a-/AOh14Ggrbbtm0GIFbgQl9jEH-C8dVBtk90Lcr33g5Dx5OJo=s64",
      "userId": "05284829446034665596"
     },
     "user_tz": -540
    },
    "id": "tzp-p20519Bv"
   },
   "outputs": [
    {
     "name": "stdout",
     "output_type": "stream",
     "text": [
      "0\n",
      "3\n",
      "7\n",
      "10\n"
     ]
    }
   ],
   "source": [
    "s = \"string string\"\n",
    "print(s.index('s'))\n",
    "print(s.index('ing'))\n",
    "print(s.rindex('s'))\n",
    "print(s.rindex('ing'))\n",
    "#print(s.rindex('z')) 오류"
   ]
  },
  {
   "cell_type": "markdown",
   "metadata": {
    "colab_type": "text",
    "id": "prav01jjje_G"
   },
   "source": [
    "### isalnum()\n",
    "\n",
    "* `isalnum()`은 문자열이 모두 알파벳이나 숫자로 구성되어 있으면 True 반환\n",
    "* 문자열 \"string\"은 알파벳으로 구성 되었으므로 True 반환\n",
    "* 문자열 \"한글\"은 알파벳으로 구성 되어있으므로 True 반환\n",
    "* 문자열 \"!@#\"은 특수기호로 구성 되어있으므로 False 반환\n",
    "* 문자열 \"123\"은 숫자들로 구성 되어있으므로 True 반환"
   ]
  },
  {
   "cell_type": "code",
   "execution_count": 23,
   "metadata": {
    "colab": {},
    "colab_type": "code",
    "executionInfo": {
     "elapsed": 1573,
     "status": "ok",
     "timestamp": 1593480840290,
     "user": {
      "displayName": "Suan Lee",
      "photoUrl": "https://lh3.googleusercontent.com/a-/AOh14Ggrbbtm0GIFbgQl9jEH-C8dVBtk90Lcr33g5Dx5OJo=s64",
      "userId": "05284829446034665596"
     },
     "user_tz": -540
    },
    "id": "6H6gBF44DIke"
   },
   "outputs": [
    {
     "name": "stdout",
     "output_type": "stream",
     "text": [
      "True\n",
      "True\n",
      "True\n",
      "False\n",
      "False\n"
     ]
    }
   ],
   "source": [
    "print(\"string\".isalnum())\n",
    "print(\"한글\".isalnum())\n",
    "print(\"str123\".isalnum())\n",
    "print(\"!@#\".isalnum())\n",
    "print(\"!@#abc\".isalnum())"
   ]
  },
  {
   "cell_type": "markdown",
   "metadata": {
    "colab_type": "text",
    "id": "eHIt6rNFYCGE"
   },
   "source": [
    "### isalpha()\n",
    "\n",
    "* `isalpha()`는 문자열이 모두 알파벳이면 True 반환\n",
    "* 문자열 \"string\"은 알파벳으로 구성 되었으므로 True 반환\n",
    "* 문자열 \"한글\"은 알파벳으로 구성 되어있으므로 True 반환\n",
    "* 문자열 \"!@#\"은 특수기호로 구성 되어있으므로 False 반환\n",
    "* 문자열 \"123\"은 숫자들로 구성 되어있으므로 Flase 반환"
   ]
  },
  {
   "cell_type": "code",
   "execution_count": 24,
   "metadata": {
    "colab": {},
    "colab_type": "code",
    "executionInfo": {
     "elapsed": 1565,
     "status": "ok",
     "timestamp": 1593480840291,
     "user": {
      "displayName": "Suan Lee",
      "photoUrl": "https://lh3.googleusercontent.com/a-/AOh14Ggrbbtm0GIFbgQl9jEH-C8dVBtk90Lcr33g5Dx5OJo=s64",
      "userId": "05284829446034665596"
     },
     "user_tz": -540
    },
    "id": "_dFo8ynlmd_B"
   },
   "outputs": [
    {
     "name": "stdout",
     "output_type": "stream",
     "text": [
      "True\n",
      "True\n",
      "False\n",
      "False\n"
     ]
    }
   ],
   "source": [
    "print(\"string\".isalpha())\n",
    "print(\"한글\".isalpha())\n",
    "print(\"!@#\".isalpha())\n",
    "print(\"123\".isalpha())"
   ]
  },
  {
   "cell_type": "markdown",
   "metadata": {
    "colab_type": "text",
    "id": "_WGNBgfilCZg"
   },
   "source": [
    "### isdecimal()\n",
    "\n",
    "* `isdecimal()`는 문자열의 모든 문자가 10진수 문자이면 True 반환\n",
    "* 문자열 \"123\"은 모두 10진수 문자열이므로 True 반환\n",
    "* 문자열 \"1.23\"은 실수형 문자열이므로 False 반환"
   ]
  },
  {
   "cell_type": "code",
   "execution_count": 25,
   "metadata": {
    "colab": {},
    "colab_type": "code",
    "executionInfo": {
     "elapsed": 1556,
     "status": "ok",
     "timestamp": 1593480840292,
     "user": {
      "displayName": "Suan Lee",
      "photoUrl": "https://lh3.googleusercontent.com/a-/AOh14Ggrbbtm0GIFbgQl9jEH-C8dVBtk90Lcr33g5Dx5OJo=s64",
      "userId": "05284829446034665596"
     },
     "user_tz": -540
    },
    "id": "E2kVKYNHjtlN"
   },
   "outputs": [
    {
     "name": "stdout",
     "output_type": "stream",
     "text": [
      "True\n",
      "False\n"
     ]
    }
   ],
   "source": [
    "print(\"123\".isdecimal())\n",
    "print(\"1.23\".isdecimal())"
   ]
  },
  {
   "cell_type": "markdown",
   "metadata": {
    "colab_type": "text",
    "id": "J0pJ-8T_Yhlx"
   },
   "source": [
    "### isdigit()\n",
    "\n",
    "* `isdigit()`는 문자열의 모든 문자가 숫자일 때 True 반환\n",
    "* 문자열 \"123\"은 모든 문자가 숫자에 해당하므로 True 반환\n",
    "* 문자열 \"1.23\"은 문자 중 숫자에 해당안되는 . 이 존재하여 False"
   ]
  },
  {
   "cell_type": "code",
   "execution_count": 26,
   "metadata": {
    "colab": {},
    "colab_type": "code",
    "executionInfo": {
     "elapsed": 1547,
     "status": "ok",
     "timestamp": 1593480840292,
     "user": {
      "displayName": "Suan Lee",
      "photoUrl": "https://lh3.googleusercontent.com/a-/AOh14Ggrbbtm0GIFbgQl9jEH-C8dVBtk90Lcr33g5Dx5OJo=s64",
      "userId": "05284829446034665596"
     },
     "user_tz": -540
    },
    "id": "oOsCWfMhmjHo"
   },
   "outputs": [
    {
     "name": "stdout",
     "output_type": "stream",
     "text": [
      "True\n",
      "False\n"
     ]
    }
   ],
   "source": [
    "print(\"123\".isdigit())\n",
    "print(\"1.23\".isdigit())"
   ]
  },
  {
   "cell_type": "markdown",
   "metadata": {
    "colab_type": "text",
    "id": "2jPib-Z8ZAlj"
   },
   "source": [
    "### isnumeric()\n",
    "\n",
    "* `isnumeric()`는 문자열의 모든 문자가 수치형일 때 True 반환\n",
    "* 문자열 \"123\"은 모든 문자가 숫자에 해당하므로 True 반환\n",
    "* 문자열 \"1.23\"은 문자 중 수치형에 해당안되는 . 이 존재하여 False"
   ]
  },
  {
   "cell_type": "code",
   "execution_count": 27,
   "metadata": {
    "colab": {},
    "colab_type": "code",
    "executionInfo": {
     "elapsed": 1540,
     "status": "ok",
     "timestamp": 1593480840294,
     "user": {
      "displayName": "Suan Lee",
      "photoUrl": "https://lh3.googleusercontent.com/a-/AOh14Ggrbbtm0GIFbgQl9jEH-C8dVBtk90Lcr33g5Dx5OJo=s64",
      "userId": "05284829446034665596"
     },
     "user_tz": -540
    },
    "id": "J5EsHyjfpidQ"
   },
   "outputs": [
    {
     "name": "stdout",
     "output_type": "stream",
     "text": [
      "True\n",
      "False\n"
     ]
    }
   ],
   "source": [
    "print(\"123\".isnumeric())\n",
    "print(\"1.23\".isnumeric())"
   ]
  },
  {
   "cell_type": "markdown",
   "metadata": {
    "colab_type": "text",
    "id": "krM9QrrEp5TB"
   },
   "source": [
    "### isidentifier()\n",
    "\n",
    "* `isidentifier()`는 문자열이 파이썬에서 사용하는 식별자인 경우 True 반환\n",
    "* 문자열 \"123\"은 식별자로 사용되지 않는 문자열이라서 False 반환\n",
    "* 문자열 \"True\"는 식별자로 사용되기 때문에 True 반환\n",
    "* 문자열 \"print\"는 식별자로 사용되기 때문에 True 반환"
   ]
  },
  {
   "cell_type": "code",
   "execution_count": 28,
   "metadata": {
    "colab": {},
    "colab_type": "code",
    "executionInfo": {
     "elapsed": 1531,
     "status": "ok",
     "timestamp": 1593480840295,
     "user": {
      "displayName": "Suan Lee",
      "photoUrl": "https://lh3.googleusercontent.com/a-/AOh14Ggrbbtm0GIFbgQl9jEH-C8dVBtk90Lcr33g5Dx5OJo=s64",
      "userId": "05284829446034665596"
     },
     "user_tz": -540
    },
    "id": "ir5WknFUpO7r"
   },
   "outputs": [
    {
     "name": "stdout",
     "output_type": "stream",
     "text": [
      "False\n",
      "True\n",
      "True\n"
     ]
    }
   ],
   "source": [
    "print(\"123\".isidentifier())\n",
    "print(\"True\".isidentifier())\n",
    "print(\"print\".isidentifier())"
   ]
  },
  {
   "cell_type": "markdown",
   "metadata": {
    "colab_type": "text",
    "id": "jHm6aRyAlypa"
   },
   "source": [
    "### isspace()\n",
    "\n",
    "* 문자열 \" \"은 문자열 내에 공백 문자가 있어서 True 반환\n",
    "* 문자열 \" 1 \"은 문자열 내에 공백 아닌 문자가 있어서 False 반환"
   ]
  },
  {
   "cell_type": "code",
   "execution_count": 29,
   "metadata": {
    "colab": {},
    "colab_type": "code",
    "executionInfo": {
     "elapsed": 1523,
     "status": "ok",
     "timestamp": 1593480840296,
     "user": {
      "displayName": "Suan Lee",
      "photoUrl": "https://lh3.googleusercontent.com/a-/AOh14Ggrbbtm0GIFbgQl9jEH-C8dVBtk90Lcr33g5Dx5OJo=s64",
      "userId": "05284829446034665596"
     },
     "user_tz": -540
    },
    "id": "x0Nmi2NtqQpI"
   },
   "outputs": [
    {
     "name": "stdout",
     "output_type": "stream",
     "text": [
      "True\n",
      "False\n"
     ]
    }
   ],
   "source": [
    "print(\"  \".isspace())\n",
    "print(\" 1\".isspace())"
   ]
  },
  {
   "cell_type": "markdown",
   "metadata": {
    "colab_type": "text",
    "id": "SG3Odc9fIHpT"
   },
   "source": [
    "### istitle()\n",
    "\n",
    "* 문자열 \"String\"은 문자열 내에 제목과 같이 첫 글자가 대문자여서 True 반환\n",
    "* 문자열 \"STRING\"은 모든 문자가 대문자이기 때문에 False 반환"
   ]
  },
  {
   "cell_type": "code",
   "execution_count": 30,
   "metadata": {
    "colab": {},
    "colab_type": "code",
    "executionInfo": {
     "elapsed": 1513,
     "status": "ok",
     "timestamp": 1593480840297,
     "user": {
      "displayName": "Suan Lee",
      "photoUrl": "https://lh3.googleusercontent.com/a-/AOh14Ggrbbtm0GIFbgQl9jEH-C8dVBtk90Lcr33g5Dx5OJo=s64",
      "userId": "05284829446034665596"
     },
     "user_tz": -540
    },
    "id": "c7eht5HErgrr"
   },
   "outputs": [
    {
     "name": "stdout",
     "output_type": "stream",
     "text": [
      "True\n",
      "False\n"
     ]
    }
   ],
   "source": [
    "print(\"String\".istitle())\n",
    "print(\"STRING\".istitle())"
   ]
  },
  {
   "cell_type": "markdown",
   "metadata": {
    "colab_type": "text",
    "id": "ctZKMIrHI8-A"
   },
   "source": [
    "### islower()\n",
    "\n",
    "* 문자열 \"string\"은 모든 문자가 소문자여서 True 반환\n",
    "* 문자열 \"String\"은 첫 문자가 대문자여서 False 반환"
   ]
  },
  {
   "cell_type": "code",
   "execution_count": 31,
   "metadata": {
    "colab": {},
    "colab_type": "code",
    "executionInfo": {
     "elapsed": 1505,
     "status": "ok",
     "timestamp": 1593480840297,
     "user": {
      "displayName": "Suan Lee",
      "photoUrl": "https://lh3.googleusercontent.com/a-/AOh14Ggrbbtm0GIFbgQl9jEH-C8dVBtk90Lcr33g5Dx5OJo=s64",
      "userId": "05284829446034665596"
     },
     "user_tz": -540
    },
    "id": "xznSyZT9lzp5"
   },
   "outputs": [
    {
     "name": "stdout",
     "output_type": "stream",
     "text": [
      "True\n",
      "False\n"
     ]
    }
   ],
   "source": [
    "print(\"string\".islower())\n",
    "print(\"String\".islower())"
   ]
  },
  {
   "cell_type": "markdown",
   "metadata": {
    "colab_type": "text",
    "id": "KVnECEUXI_MN"
   },
   "source": [
    "### isupper() 함수\n",
    "\n",
    "* 문자열 \"STRING\"은 모든 문자가 대문자여서 True 반환\n",
    "* 문자열 \"String\"은 첫 문자만 대문자여서 False 반환"
   ]
  },
  {
   "cell_type": "code",
   "execution_count": 32,
   "metadata": {
    "colab": {},
    "colab_type": "code",
    "executionInfo": {
     "elapsed": 1496,
     "status": "ok",
     "timestamp": 1593480840298,
     "user": {
      "displayName": "Suan Lee",
      "photoUrl": "https://lh3.googleusercontent.com/a-/AOh14Ggrbbtm0GIFbgQl9jEH-C8dVBtk90Lcr33g5Dx5OJo=s64",
      "userId": "05284829446034665596"
     },
     "user_tz": -540
    },
    "id": "ZAmXy2lCqIbi"
   },
   "outputs": [
    {
     "name": "stdout",
     "output_type": "stream",
     "text": [
      "True\n",
      "False\n"
     ]
    }
   ],
   "source": [
    "print(\"STRING\".isupper())\n",
    "print(\"String\".isupper())"
   ]
  },
  {
   "cell_type": "markdown",
   "metadata": {
    "colab_type": "text",
    "id": "mGdbqGsSr8Ee"
   },
   "source": [
    "### join()\n",
    "\n",
    "* 문자열 \"String\"에 대해서 `join()`으로 공백 문자 ' '를 문자 사이마다 추가한 문자열 \"S t r i n g\"을 반환\n",
    "* 문자열 \"String\"에 대해서 `join()` 으로 공백 문자 '_'를 문자 사이마다 추가한 문자열 \"S_t_r_i_n_g\"을 반환\n",
    "* 문자열 \"String\"에 대해서 `join()` 으로 공백 문자 '|'를 문자 사이마다 추가한 문자열 \"S|t|r|i|n|g\"을 반환"
   ]
  },
  {
   "cell_type": "code",
   "execution_count": 33,
   "metadata": {
    "colab": {},
    "colab_type": "code",
    "executionInfo": {
     "elapsed": 1487,
     "status": "ok",
     "timestamp": 1593480840299,
     "user": {
      "displayName": "Suan Lee",
      "photoUrl": "https://lh3.googleusercontent.com/a-/AOh14Ggrbbtm0GIFbgQl9jEH-C8dVBtk90Lcr33g5Dx5OJo=s64",
      "userId": "05284829446034665596"
     },
     "user_tz": -540
    },
    "id": "A8tTe2l3rwLw"
   },
   "outputs": [
    {
     "name": "stdout",
     "output_type": "stream",
     "text": [
      "S t r i n g\n",
      "S_t_r_i_n_g\n",
      "S|t|r|i|n|g\n"
     ]
    }
   ],
   "source": [
    "s = \"String\"\n",
    "print(' '.join(s))\n",
    "print('_'.join(s))\n",
    "print('|'.join(s))"
   ]
  },
  {
   "cell_type": "markdown",
   "metadata": {
    "colab_type": "text",
    "id": "zDmq0ExIsdtu"
   },
   "source": [
    "### center() / ljust() / rjust()\n",
    "\n",
    "* 문자열 \"String\"에 대해서 `center()`를 사용하여 너비 10에 해당하는 문자열 길이에 가운데 정렬한 문자열 '  String  '로 변환\n",
    "* 문자열 \"String\"에 대해서 `ljust()`를 사용하여 너비 10에 해당하는 문자열 길이에 왼쪽 정렬한 문자열 'String    '로 변환\n",
    "* 문자열 \"String\"에 대해서 `rjust()`를 사용하여 너비 10에 해당하는 문자열 길이에 오른쪽 정렬한 문자열 '    String'로 변환"
   ]
  },
  {
   "cell_type": "code",
   "execution_count": 34,
   "metadata": {
    "colab": {},
    "colab_type": "code",
    "executionInfo": {
     "elapsed": 1477,
     "status": "ok",
     "timestamp": 1593480840299,
     "user": {
      "displayName": "Suan Lee",
      "photoUrl": "https://lh3.googleusercontent.com/a-/AOh14Ggrbbtm0GIFbgQl9jEH-C8dVBtk90Lcr33g5Dx5OJo=s64",
      "userId": "05284829446034665596"
     },
     "user_tz": -540
    },
    "id": "sFA02kX3sf2q"
   },
   "outputs": [
    {
     "name": "stdout",
     "output_type": "stream",
     "text": [
      "'  String  '\n",
      "'String    '\n",
      "'    String'\n"
     ]
    }
   ],
   "source": [
    "print(\"'\" + \"String\".center(10) + \"'\")\n",
    "print(\"'\" + \"String\".ljust(10) + \"'\")\n",
    "print(\"'\" + \"String\".rjust(10) + \"'\")"
   ]
  },
  {
   "cell_type": "markdown",
   "metadata": {
    "colab_type": "text",
    "id": "-iP2QrFn0kWZ"
   },
   "source": [
    "### lower() / upper() / title() / swapcase()\n",
    "\n",
    "* 문자열 \"String\"을 `lower()`를 이용하여 모든 문자가 소문자로 변환된 \"string\" 반환\n",
    "* 문자열 \"String\"을 `upper()`를 이용하여 모든 문자가 대문자로 변환된 \"STRING\" 반환\n",
    "* 문자열 \"string\"을 `title()`를 이용하여 첫 문자가 대문자로 변환된 \"String\" 반환\n",
    "* 문자열 \"String\"을 `swapcase()`를 이용하여 대문자는 소문자로 변환되고 소문자는 대문자로 변환된 \"sTRING\" 반환\n"
   ]
  },
  {
   "cell_type": "code",
   "execution_count": 36,
   "metadata": {
    "colab": {},
    "colab_type": "code",
    "executionInfo": {
     "elapsed": 1469,
     "status": "ok",
     "timestamp": 1593480840300,
     "user": {
      "displayName": "Suan Lee",
      "photoUrl": "https://lh3.googleusercontent.com/a-/AOh14Ggrbbtm0GIFbgQl9jEH-C8dVBtk90Lcr33g5Dx5OJo=s64",
      "userId": "05284829446034665596"
     },
     "user_tz": -540
    },
    "id": "K8JmvhjC0j-e"
   },
   "outputs": [
    {
     "name": "stdout",
     "output_type": "stream",
     "text": [
      "string\n",
      "STRING\n",
      "String\n",
      "sTRING\n"
     ]
    }
   ],
   "source": [
    "print(\"String\".lower())\n",
    "print(\"String\".upper())\n",
    "print(\"String\".title())\n",
    "print(\"String\".swapcase())"
   ]
  },
  {
   "cell_type": "markdown",
   "metadata": {
    "colab_type": "text",
    "id": "oyk35mDo1d2M"
   },
   "source": [
    "### strip() / lstrip() / rstrip()\n",
    "\n",
    "* 양쪽 공백이 포함된 문자열 \"  String  \"을 `strip()`를 통해 공백 제거\n",
    "* 양쪽 공백이 포함된 문자열 \"  String  \"을 `lstrip()`를 통해 왼쪽 공백 제거\n",
    "* 양쪽 공백이 포함된 문자열 \"  String  \"을 `rstrip()`를 통해 오른쪽 공백 제거"
   ]
  },
  {
   "cell_type": "code",
   "execution_count": 37,
   "metadata": {
    "colab": {},
    "colab_type": "code",
    "executionInfo": {
     "elapsed": 1460,
     "status": "ok",
     "timestamp": 1593480840301,
     "user": {
      "displayName": "Suan Lee",
      "photoUrl": "https://lh3.googleusercontent.com/a-/AOh14Ggrbbtm0GIFbgQl9jEH-C8dVBtk90Lcr33g5Dx5OJo=s64",
      "userId": "05284829446034665596"
     },
     "user_tz": -540
    },
    "id": "Y8D90szl1YOa"
   },
   "outputs": [
    {
     "name": "stdout",
     "output_type": "stream",
     "text": [
      "String\n",
      "String   \n",
      "   String\n"
     ]
    }
   ],
   "source": [
    "print(\"   String   \".strip())\n",
    "print(\"   String   \".lstrip())\n",
    "print(\"   String   \".rstrip())"
   ]
  },
  {
   "cell_type": "markdown",
   "metadata": {
    "colab_type": "text",
    "id": "zPLZHaXu7OYj"
   },
   "source": [
    "### partition() / rpartition()\n",
    "\n",
    "* 문자열 \"String\"을 `partition()`를 이용하여 문자 't' 기준으로 분할\n",
    "* 문자열 \"String String\"을 `rpartition()`를 이용하여 마지막 문자 'S'를 기준으로 분할"
   ]
  },
  {
   "cell_type": "code",
   "execution_count": 40,
   "metadata": {
    "colab": {},
    "colab_type": "code",
    "executionInfo": {
     "elapsed": 1451,
     "status": "ok",
     "timestamp": 1593480840301,
     "user": {
      "displayName": "Suan Lee",
      "photoUrl": "https://lh3.googleusercontent.com/a-/AOh14Ggrbbtm0GIFbgQl9jEH-C8dVBtk90Lcr33g5Dx5OJo=s64",
      "userId": "05284829446034665596"
     },
     "user_tz": -540
    },
    "id": "fhmrvPHl4I6Q"
   },
   "outputs": [
    {
     "name": "stdout",
     "output_type": "stream",
     "text": [
      "('S', 't', 'ring String')\n",
      "('String ', 'S', 'tring')\n"
     ]
    }
   ],
   "source": [
    "print(\"String String\".partition('t'))\n",
    "print(\"String String\".rpartition('S'))"
   ]
  },
  {
   "cell_type": "markdown",
   "metadata": {
    "colab_type": "text",
    "id": "8YF_Rheq7fe6"
   },
   "source": [
    "### replace()\n",
    "\n",
    "* 문자열 \"String\"을 `replace()`를 이용해 문자열 \"Str\"을 문자 'R'로 교체"
   ]
  },
  {
   "cell_type": "code",
   "execution_count": 42,
   "metadata": {
    "colab": {},
    "colab_type": "code",
    "executionInfo": {
     "elapsed": 1442,
     "status": "ok",
     "timestamp": 1593480840302,
     "user": {
      "displayName": "Suan Lee",
      "photoUrl": "https://lh3.googleusercontent.com/a-/AOh14Ggrbbtm0GIFbgQl9jEH-C8dVBtk90Lcr33g5Dx5OJo=s64",
      "userId": "05284829446034665596"
     },
     "user_tz": -540
    },
    "id": "nNuELc1q7Wwf"
   },
   "outputs": [
    {
     "name": "stdout",
     "output_type": "stream",
     "text": [
      "Ring\n"
     ]
    }
   ],
   "source": [
    "print(\"String\".replace(\"Str\", \"R\"))"
   ]
  },
  {
   "cell_type": "markdown",
   "metadata": {
    "colab_type": "text",
    "id": "rIP8GXbM7p3w"
   },
   "source": [
    "### split() / rsplit() / splitlines()\n",
    "\n",
    "* 문자열 \"1 2 3\"을 `split()`의 기본 구분자를 이용하여 '1', '2', '3' 으로 구분\n",
    "* 문자열 \"1_2_3\"을 `split()`으로 구분자 '_'를 이용하여 '1', '2', '3' 으로 구분\n",
    "* 문자열 \"1 2 3\"을 `rsplit()`으로 구분자 '_'를 이용하여 오른쪽부터 1번만 구분하여 '1_2', '3' 으로 구분\n",
    "* 문자열 \"123\\n123\\n123\\n\"을 `splitlines()` 함수를 이용하여 라인 단위로 구분하여 '123, '123, '123 반환"
   ]
  },
  {
   "cell_type": "code",
   "execution_count": 43,
   "metadata": {
    "colab": {},
    "colab_type": "code",
    "executionInfo": {
     "elapsed": 1433,
     "status": "ok",
     "timestamp": 1593480840302,
     "user": {
      "displayName": "Suan Lee",
      "photoUrl": "https://lh3.googleusercontent.com/a-/AOh14Ggrbbtm0GIFbgQl9jEH-C8dVBtk90Lcr33g5Dx5OJo=s64",
      "userId": "05284829446034665596"
     },
     "user_tz": -540
    },
    "id": "Ns3ZMQJ17mv7"
   },
   "outputs": [
    {
     "name": "stdout",
     "output_type": "stream",
     "text": [
      "['1', '2', '3']\n",
      "['1', '2', '3']\n",
      "['1_2', '3']\n",
      "['123', '456', '789']\n"
     ]
    }
   ],
   "source": [
    "print(\"1 2 3\".split())\n",
    "print(\"1_2_3\".split('_'))\n",
    "print(\"1_2_3\".rsplit('_',1))\n",
    "print(\"123\\n456\\n789\\n\".splitlines())"
   ]
  },
  {
   "cell_type": "markdown",
   "metadata": {
    "colab_type": "text",
    "id": "tx8dAOPm8DTv"
   },
   "source": [
    "### startswith() / endswith()\n",
    "\n",
    "* 문자열 \"String\"에서 시작 문자가 'S'인지 `startswith()`를 통해 확인\n",
    "* 문자열 \"String\"에서 마지막 문자가 'g'인지 `endswith()`를 통해 확인"
   ]
  },
  {
   "cell_type": "code",
   "execution_count": 2,
   "metadata": {
    "colab": {},
    "colab_type": "code",
    "executionInfo": {
     "elapsed": 1423,
     "status": "ok",
     "timestamp": 1593480840303,
     "user": {
      "displayName": "Suan Lee",
      "photoUrl": "https://lh3.googleusercontent.com/a-/AOh14Ggrbbtm0GIFbgQl9jEH-C8dVBtk90Lcr33g5Dx5OJo=s64",
      "userId": "05284829446034665596"
     },
     "user_tz": -540
    },
    "id": "dNB3Da_x7587"
   },
   "outputs": [
    {
     "name": "stdout",
     "output_type": "stream",
     "text": [
      "True\n",
      "True\n"
     ]
    }
   ],
   "source": [
    "print(\"String\".startswith('S'))\n",
    "print(\"String\".endswith('g'))"
   ]
  },
  {
   "cell_type": "markdown",
   "metadata": {
    "colab_type": "text",
    "id": "OZatwJSe8Svd"
   },
   "source": [
    "### zfill()\n",
    "\n",
    "* 문자열 \"123\"에서 너비 8만큼으로 늘리고 비어있는 부분에 '0'이 채워진 문자열 \"00000123\" 반환"
   ]
  },
  {
   "cell_type": "code",
   "execution_count": 3,
   "metadata": {
    "colab": {},
    "colab_type": "code",
    "executionInfo": {
     "elapsed": 1414,
     "status": "ok",
     "timestamp": 1593480840304,
     "user": {
      "displayName": "Suan Lee",
      "photoUrl": "https://lh3.googleusercontent.com/a-/AOh14Ggrbbtm0GIFbgQl9jEH-C8dVBtk90Lcr33g5Dx5OJo=s64",
      "userId": "05284829446034665596"
     },
     "user_tz": -540
    },
    "id": "rWqlvXJV8MJF"
   },
   "outputs": [
    {
     "name": "stdout",
     "output_type": "stream",
     "text": [
      "00000123\n"
     ]
    }
   ],
   "source": [
    "print(\"123\".zfill(8))"
   ]
  },
  {
   "cell_type": "markdown",
   "metadata": {
    "colab_type": "text",
    "id": "yjsh7OcA8fIu"
   },
   "source": [
    "\n",
    "\n",
    "---\n",
    "\n"
   ]
  },
  {
   "cell_type": "markdown",
   "metadata": {
    "colab_type": "text",
    "id": "Og91a1bd8gd-"
   },
   "source": [
    "## 문자열 서식(String Format)\n"
   ]
  },
  {
   "cell_type": "markdown",
   "metadata": {
    "colab_type": "text",
    "id": "U7QLYGjk8qbO"
   },
   "source": [
    "### 문자열 포맷팅(String Formatting)\n",
    "\n",
    "* 문자열 내에서 서식에 맞추어 특정 값을 삽입 또는 변경\n",
    "* 기호 % 뒤에 있는 값이 문자열 내의 서식에 순서대로 매핑"
   ]
  },
  {
   "cell_type": "code",
   "execution_count": 4,
   "metadata": {
    "colab": {},
    "colab_type": "code",
    "executionInfo": {
     "elapsed": 1404,
     "status": "ok",
     "timestamp": 1593480840304,
     "user": {
      "displayName": "Suan Lee",
      "photoUrl": "https://lh3.googleusercontent.com/a-/AOh14Ggrbbtm0GIFbgQl9jEH-C8dVBtk90Lcr33g5Dx5OJo=s64",
      "userId": "05284829446034665596"
     },
     "user_tz": -540
    },
    "id": "_z3A1Rmu8Wex"
   },
   "outputs": [
    {
     "name": "stdout",
     "output_type": "stream",
     "text": [
      "나는 사과가 2개 있다.\n",
      "나는 사과가 두개 있다.\n",
      "나는 사과가 2개 있다.\n"
     ]
    }
   ],
   "source": [
    "print(\"나는 사과가 %d개 있다.\" %2)\n",
    "print(\"나는 사과가 %s개 있다.\" %\"두\")\n",
    "print(\"나는 %s가 %d개 있다.\" % (\"사과\",2))"
   ]
  },
  {
   "cell_type": "markdown",
   "metadata": {
    "colab_type": "text",
    "id": "PP32b9L3-eVL"
   },
   "source": [
    "### 정렬, 공백, 소수점 포맷\n",
    "\n",
    "* 포맷 문자 앞에 숫자는 길이를 의미\n",
    "* -는 왼쪽 정렬을 의미\n",
    "* 소수점 ‘.’ 뒤에 숫자는 소숫점 이하 개수를 의미"
   ]
  },
  {
   "cell_type": "code",
   "execution_count": 5,
   "metadata": {
    "colab": {},
    "colab_type": "code",
    "executionInfo": {
     "elapsed": 1396,
     "status": "ok",
     "timestamp": 1593480840305,
     "user": {
      "displayName": "Suan Lee",
      "photoUrl": "https://lh3.googleusercontent.com/a-/AOh14Ggrbbtm0GIFbgQl9jEH-C8dVBtk90Lcr33g5Dx5OJo=s64",
      "userId": "05284829446034665596"
     },
     "user_tz": -540
    },
    "id": "uG9qhf2L9K_A"
   },
   "outputs": [
    {
     "name": "stdout",
     "output_type": "stream",
     "text": [
      "   Hello\n",
      "Hello   Python\n",
      "3.14\n",
      "    3.14\n",
      "3.14    \n"
     ]
    }
   ],
   "source": [
    "print(\"%8s\" % \"Hello\")\n",
    "print(\"%-8sPython\" % \"Hello\")\n",
    "print(\"%0.2f\" % 3.141592653857)\n",
    "print(\"%8.2f\" % 3.141592653857)\n",
    "print(\"%-8.2f\" % 3.141592653857)"
   ]
  },
  {
   "cell_type": "markdown",
   "metadata": {
    "colab_type": "text",
    "id": "SrIx3mkM_C8G"
   },
   "source": [
    "### 문자열 format 메소드\n",
    "\n",
    "* 문자열 `format()`의 인덱스를 이용한 고급 포맷팅\n",
    "* 인덱스 번호에 따라 `format()` 함수의 각 값들이 매핑"
   ]
  },
  {
   "cell_type": "code",
   "execution_count": 6,
   "metadata": {
    "colab": {},
    "colab_type": "code",
    "executionInfo": {
     "elapsed": 1388,
     "status": "ok",
     "timestamp": 1593480840306,
     "user": {
      "displayName": "Suan Lee",
      "photoUrl": "https://lh3.googleusercontent.com/a-/AOh14Ggrbbtm0GIFbgQl9jEH-C8dVBtk90Lcr33g5Dx5OJo=s64",
      "userId": "05284829446034665596"
     },
     "user_tz": -540
    },
    "id": "uf469Z6l-6E0"
   },
   "outputs": [
    {
     "name": "stdout",
     "output_type": "stream",
     "text": [
      "나는 사과가 2개 있다.\n",
      "나는 사과가 두개 있다.\n",
      "나는 사과가 2개 있다.\n"
     ]
    }
   ],
   "source": [
    "print(\"나는 사과가 {0}개 있다.\".format(2))\n",
    "print(\"나는 사과가 {0}개 있다.\".format(\"두\"))\n",
    "print(\"나는 {0}가 {1}개 있다.\".format(\"사과\",2))"
   ]
  },
  {
   "cell_type": "markdown",
   "metadata": {
    "colab_type": "text",
    "id": "0pTK7FHW_jIn"
   },
   "source": [
    "* 문자열 `format()` 메소드의 인덱스와 변수 이름을 이용한 포맷팅\n",
    "* 변수 이름 s와 n을 지정하여 \"사과\"와 숫자 2를 매핑"
   ]
  },
  {
   "cell_type": "code",
   "execution_count": 7,
   "metadata": {
    "colab": {},
    "colab_type": "code",
    "executionInfo": {
     "elapsed": 1378,
     "status": "ok",
     "timestamp": 1593480840306,
     "user": {
      "displayName": "Suan Lee",
      "photoUrl": "https://lh3.googleusercontent.com/a-/AOh14Ggrbbtm0GIFbgQl9jEH-C8dVBtk90Lcr33g5Dx5OJo=s64",
      "userId": "05284829446034665596"
     },
     "user_tz": -540
    },
    "id": "Bwx0XnkE_Yvn"
   },
   "outputs": [
    {
     "name": "stdout",
     "output_type": "stream",
     "text": [
      "나는 사과가 2개 있다.\n",
      "나는 사과가 2개 있다.\n"
     ]
    }
   ],
   "source": [
    "print(\"나는 사과가 {n}개 있다.\".format(n=2))\n",
    "print(\"나는 {s}가 {n}개 있다.\".format(s=\"사과\",n=2))"
   ]
  },
  {
   "cell_type": "markdown",
   "metadata": {
    "colab_type": "text",
    "id": "0yErNkKPAA2F"
   },
   "source": [
    "* 문자열 `format()` 함수의 정렬, 공백, 소수점\n"
   ]
  },
  {
   "cell_type": "code",
   "execution_count": 9,
   "metadata": {
    "colab": {},
    "colab_type": "code",
    "executionInfo": {
     "elapsed": 1370,
     "status": "ok",
     "timestamp": 1593480840307,
     "user": {
      "displayName": "Suan Lee",
      "photoUrl": "https://lh3.googleusercontent.com/a-/AOh14Ggrbbtm0GIFbgQl9jEH-C8dVBtk90Lcr33g5Dx5OJo=s64",
      "userId": "05284829446034665596"
     },
     "user_tz": -540
    },
    "id": "Nfi9kAeD_z3p"
   },
   "outputs": [
    {
     "name": "stdout",
     "output_type": "stream",
     "text": [
      "Hello   \n",
      "Hello   \n",
      "   Hello\n",
      " Hello  \n",
      "~Hello~~\n",
      "-Hello--\n",
      "Hello   \n",
      "3.14\n",
      "  3.1416\n"
     ]
    }
   ],
   "source": [
    "print(\"{0:8}\".format(\"Hello\"))\n",
    "print(\"{0:<8}\".format(\"Hello\")) #왼쪽 정렬\n",
    "print(\"{0:>8}\".format(\"Hello\")) #오른쪽 정렬\n",
    "print(\"{0:^8}\".format(\"Hello\")) #가운데 정렬\n",
    "print(\"{0:~^8}\".format(\"Hello\"))\n",
    "print(\"{0:-^8}\".format(\"Hello\"))\n",
    "print(\"{0:8}\".format(\"Hello\"))\n",
    "print(\"{0:0.2f}\".format(3.141592653857))\n",
    "print(\"{0:8.4f}\".format(3.141592653857))"
   ]
  },
  {
   "cell_type": "markdown",
   "metadata": {
    "colab_type": "text",
    "id": "1GS_wR86BmtE"
   },
   "source": [
    "### f 문자열 포맷팅\n",
    "\n",
    "* 문자열 포맷팅을 위해 새롭게 나온 기능으로 문자열 앞에 f를 붙여서 구분\n",
    "* 변수 s와 n에 대해서 문자열에 포함된 이름으로 매핑하여 사용 가능"
   ]
  },
  {
   "cell_type": "code",
   "execution_count": 10,
   "metadata": {
    "colab": {},
    "colab_type": "code",
    "executionInfo": {
     "elapsed": 1362,
     "status": "ok",
     "timestamp": 1593480840308,
     "user": {
      "displayName": "Suan Lee",
      "photoUrl": "https://lh3.googleusercontent.com/a-/AOh14Ggrbbtm0GIFbgQl9jEH-C8dVBtk90Lcr33g5Dx5OJo=s64",
      "userId": "05284829446034665596"
     },
     "user_tz": -540
    },
    "id": "3ffhQ807BYLf"
   },
   "outputs": [
    {
     "name": "stdout",
     "output_type": "stream",
     "text": [
      "나는 사과가 2개 있다.\n",
      "나는 사과가 2개 있다.\n"
     ]
    }
   ],
   "source": [
    "s = \"사과\"\n",
    "n = 2\n",
    "print(f\"나는 사과가 {n}개 있다.\")\n",
    "print(f\"나는 {s}가 {n}개 있다.\")"
   ]
  },
  {
   "cell_type": "markdown",
   "metadata": {
    "colab_type": "text",
    "id": "9zQ6zYkRR_dt"
   },
   "source": [
    "* 기존의 문자열 포맷을 문자열 다음 기호 : 뒤에 표현하여 그대로 사용 가능"
   ]
  },
  {
   "cell_type": "code",
   "execution_count": 12,
   "metadata": {
    "colab": {},
    "colab_type": "code",
    "executionInfo": {
     "elapsed": 1354,
     "status": "ok",
     "timestamp": 1593480840308,
     "user": {
      "displayName": "Suan Lee",
      "photoUrl": "https://lh3.googleusercontent.com/a-/AOh14Ggrbbtm0GIFbgQl9jEH-C8dVBtk90Lcr33g5Dx5OJo=s64",
      "userId": "05284829446034665596"
     },
     "user_tz": -540
    },
    "id": "UOYcnlERBxhy"
   },
   "outputs": [
    {
     "name": "stdout",
     "output_type": "stream",
     "text": [
      "Hello   \n",
      "Hello   \n",
      "   Hello\n",
      " Hello  \n",
      "3.14\n"
     ]
    }
   ],
   "source": [
    "print(f\"{'Hello':8}\")\n",
    "print(f\"{'Hello':<8}\")\n",
    "print(f\"{'Hello':>8}\")\n",
    "print(f\"{'Hello':^8}\")\n",
    "print(f\"{3.141592653857:0.2f}\")"
   ]
  },
  {
   "cell_type": "markdown",
   "metadata": {},
   "source": [
    "## Lab 타자게임"
   ]
  },
  {
   "cell_type": "code",
   "execution_count": 13,
   "metadata": {},
   "outputs": [
    {
     "name": "stdout",
     "output_type": "stream",
     "text": [
      "[타자게임] 준비되면 엔터를 누르세요.\n",
      "\n",
      "** 문제 1번 **\n",
      "mouse\n",
      "mouse\n",
      "통과\n",
      "** 문제 2번 **\n",
      "panda\n",
      "panda\n",
      "통과\n",
      "** 문제 3번 **\n",
      "fox\n",
      "fox\n",
      "통과\n",
      "** 문제 4번 **\n",
      "snake\n",
      "snake\n",
      "통과\n",
      "** 문제 5번 **\n",
      "horse\n",
      "horse\n",
      "통과\n",
      "타자시간 : 10.81초\n"
     ]
    }
   ],
   "source": [
    "import random\n",
    "import time\n",
    "\n",
    "# 단어 리스트 w\n",
    "w = ['cat','bird','dog','fox','lion','tiger','mouse','panda','frog','snake','wolf','horse']\n",
    "\n",
    "# 문제 번호 n\n",
    "n = 1\n",
    "\n",
    "print(\"[타자게임] 준비되면 엔터를 누르세요.\")\n",
    "input()\n",
    "\n",
    "start = time.time() # 현재 시간을 start:게임 시작 시간에 대입\n",
    "\n",
    "q = random.choice(w) # 단어 리스트 w에서 임의의 값 하나 선택\n",
    "\n",
    "while(n <= 5):\n",
    "    print(f\"** 문제 {n}번 **\")\n",
    "    print(q)\n",
    "    x = input()\n",
    "    \n",
    "    if(q == x):\n",
    "        print(\"통과\")\n",
    "        n = n + 1\n",
    "        q = random.choice(w)\n",
    "    else:\n",
    "        print(\"오타~ 다시 도전!\")\n",
    "        \n",
    "end = time.time() # 현재 시간을  end: 게임 종료 시간에 대입\n",
    "\n",
    "et = end - start\n",
    "\n",
    "print(f\"타자시간 : {et:0.2f}초\")\n"
   ]
  }
 ],
 "metadata": {
  "colab": {
   "collapsed_sections": [],
   "name": "_03 문자열.ipynb",
   "provenance": [],
   "toc_visible": true
  },
  "kernelspec": {
   "display_name": "Python 3",
   "language": "python",
   "name": "python3"
  },
  "language_info": {
   "codemirror_mode": {
    "name": "ipython",
    "version": 3
   },
   "file_extension": ".py",
   "mimetype": "text/x-python",
   "name": "python",
   "nbconvert_exporter": "python",
   "pygments_lexer": "ipython3",
   "version": "3.8.8"
  }
 },
 "nbformat": 4,
 "nbformat_minor": 1
}
