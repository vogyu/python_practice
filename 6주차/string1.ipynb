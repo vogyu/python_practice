{
 "cells": [
  {
   "cell_type": "code",
   "execution_count": 3,
   "id": "90c9d523",
   "metadata": {},
   "outputs": [
    {
     "name": "stdout",
     "output_type": "stream",
     "text": [
      "Number of Word 'Yesterday' 9\n"
     ]
    }
   ],
   "source": [
    "# 6-1\n",
    "f = open(\"yesterday.txt\")\n",
    "yesterday_lyrics = f.readlines()\n",
    "f.close\n",
    "\n",
    "#print(yesterday_lyrics)\n",
    "contents = \"\"\n",
    "for line in yesterday_lyrics:\n",
    "    contents = contents + line.strip() + \"\\n\"\n",
    "    \n",
    "n_of_yesterday = contents.upper().count(\"YESTERDAY\")\n",
    "print(\"Number of Word 'Yesterday'\", n_of_yesterday)"
   ]
  },
  {
   "cell_type": "code",
   "execution_count": 5,
   "id": "e04bd67d",
   "metadata": {},
   "outputs": [
    {
     "name": "stdout",
     "output_type": "stream",
     "text": [
      "1 2 3\n",
      "a b c\n",
      "1 2 3\n",
      "a b c\n"
     ]
    }
   ],
   "source": [
    "# 6-2 formatting1\n",
    "print(1,2,3)\n",
    "print(\"a\"+ \" \" + \"b\" + \" \" + \"c\")\n",
    "print(\"%d %d %d\" %(1,2,3))\n",
    "print(\"{} {} {}\".format(\"a\", \"b\", \"c\"))"
   ]
  },
  {
   "cell_type": "code",
   "execution_count": 6,
   "id": "336ed4dd",
   "metadata": {},
   "outputs": [
    {
     "name": "stdout",
     "output_type": "stream",
     "text": [
      "one two\n",
      "1 2\n"
     ]
    }
   ],
   "source": [
    "# 6-3 formatting2\n",
    "print('%s %s' % ('one', 'two'))\n",
    "print('%d %d' % (1,2))"
   ]
  },
  {
   "cell_type": "code",
   "execution_count": 7,
   "id": "be02bb64",
   "metadata": {},
   "outputs": [
    {
     "name": "stdout",
     "output_type": "stream",
     "text": [
      "I eat 3 apples.\n",
      "I eat five apples.\n"
     ]
    }
   ],
   "source": [
    "# 6-4 formatting3\n",
    "print(\"I eat %d apples.\" % 3)\n",
    "print(\"I eat %s apples.\" %\"five\")"
   ]
  },
  {
   "cell_type": "code",
   "execution_count": 8,
   "id": "39f33021",
   "metadata": {},
   "outputs": [
    {
     "name": "stdout",
     "output_type": "stream",
     "text": [
      "I ate 3 apples. I was sick for three days\n"
     ]
    }
   ],
   "source": [
    "# 6-5 formatting4\n",
    "number = 3\n",
    "day = \"three\"\n",
    "print(\"I ate %d apples. I was sick for %s days\" % (number, day))"
   ]
  },
  {
   "cell_type": "code",
   "execution_count": 9,
   "id": "a27996b4",
   "metadata": {},
   "outputs": [
    {
     "name": "stdout",
     "output_type": "stream",
     "text": [
      "Im 40 years old.\n",
      "My name is Sungchul Choi and 40 years old.\n",
      "Product: Apple, Price per unit: 5.24\n"
     ]
    }
   ],
   "source": [
    "# 6-6 formatting 5\n",
    "age =40\n",
    "name = 'Sungchul Choi'\n",
    "print(\"Im {0} years old.\".format(age))\n",
    "print(\"My name is {0} and {1} years old.\".format(name, age))\n",
    "print(\"Product: {0}, Price per unit: {1:.2f}\".format(\"Apple\",5.243))"
   ]
  },
  {
   "cell_type": "code",
   "execution_count": null,
   "id": "7f0c8867",
   "metadata": {},
   "outputs": [],
   "source": []
  }
 ],
 "metadata": {
  "kernelspec": {
   "display_name": "Python 3",
   "language": "python",
   "name": "python3"
  },
  "language_info": {
   "codemirror_mode": {
    "name": "ipython",
    "version": 3
   },
   "file_extension": ".py",
   "mimetype": "text/x-python",
   "name": "python",
   "nbconvert_exporter": "python",
   "pygments_lexer": "ipython3",
   "version": "3.8.8"
  }
 },
 "nbformat": 4,
 "nbformat_minor": 5
}
