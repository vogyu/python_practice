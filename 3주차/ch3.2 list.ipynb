{
 "cells": [
  {
   "cell_type": "markdown",
   "id": "882c883c",
   "metadata": {},
   "source": [
    "# 리스트 생성, 인덱싱, 슬라이싱"
   ]
  },
  {
   "cell_type": "code",
   "execution_count": 1,
   "id": "9b2d39a9",
   "metadata": {
    "scrolled": true
   },
   "outputs": [
    {
     "name": "stdout",
     "output_type": "stream",
     "text": [
      "red\n",
      "green\n",
      "3\n"
     ]
    }
   ],
   "source": [
    "# 3.4 indexing\n",
    "\n",
    "colors = ['red','blue','green']\n",
    "print(colors[0])\n",
    "print(colors[2])\n",
    "print(len(colors))"
   ]
  },
  {
   "cell_type": "code",
   "execution_count": 2,
   "id": "97eff4d7",
   "metadata": {},
   "outputs": [
    {
     "data": {
      "text/plain": [
       "['서울', '부산', '인천', '대구', '대전', '광주']"
      ]
     },
     "execution_count": 2,
     "metadata": {},
     "output_type": "execute_result"
    }
   ],
   "source": [
    "# slicing\n",
    "\n",
    "cities = ['서울','부산','인천','대구','대전','광주','울산','수원']\n",
    "cities[0:6]"
   ]
  },
  {
   "cell_type": "code",
   "execution_count": 3,
   "id": "d0a81f7a",
   "metadata": {},
   "outputs": [
    {
     "data": {
      "text/plain": [
       "['인천', '대구', '대전', '광주', '울산', '수원']"
      ]
     },
     "execution_count": 3,
     "metadata": {},
     "output_type": "execute_result"
    }
   ],
   "source": [
    "cities[2:]"
   ]
  },
  {
   "cell_type": "code",
   "execution_count": 4,
   "id": "e0ed9612",
   "metadata": {},
   "outputs": [
    {
     "data": {
      "text/plain": [
       "'서울'"
      ]
     },
     "execution_count": 4,
     "metadata": {},
     "output_type": "execute_result"
    }
   ],
   "source": [
    "cities[-8]"
   ]
  },
  {
   "cell_type": "code",
   "execution_count": 5,
   "id": "81f45e48",
   "metadata": {},
   "outputs": [
    {
     "data": {
      "text/plain": [
       "['부산', '인천', '대구', '대전']"
      ]
     },
     "execution_count": 5,
     "metadata": {},
     "output_type": "execute_result"
    }
   ],
   "source": [
    "cities[-7:-3]"
   ]
  },
  {
   "cell_type": "code",
   "execution_count": 7,
   "id": "755e17e2",
   "metadata": {},
   "outputs": [
    {
     "data": {
      "text/plain": [
       "['서울', '부산', '인천', '대구', '대전', '광주', '울산', '수원']"
      ]
     },
     "execution_count": 7,
     "metadata": {},
     "output_type": "execute_result"
    }
   ],
   "source": [
    "cities[-50:50]"
   ]
  },
  {
   "cell_type": "code",
   "execution_count": 8,
   "id": "a178a679",
   "metadata": {},
   "outputs": [
    {
     "data": {
      "text/plain": [
       "['서울', '인천', '대전', '울산']"
      ]
     },
     "execution_count": 8,
     "metadata": {},
     "output_type": "execute_result"
    }
   ],
   "source": [
    "cities[::2] #증가값"
   ]
  },
  {
   "cell_type": "code",
   "execution_count": 9,
   "id": "5529318a",
   "metadata": {},
   "outputs": [
    {
     "data": {
      "text/plain": [
       "['수원', '울산', '광주', '대전', '대구', '인천', '부산', '서울']"
      ]
     },
     "execution_count": 9,
     "metadata": {},
     "output_type": "execute_result"
    }
   ],
   "source": [
    "cities[::-1] # 역순"
   ]
  },
  {
   "cell_type": "markdown",
   "id": "608aba6e",
   "metadata": {},
   "source": [
    "# 리스트 연산"
   ]
  },
  {
   "cell_type": "code",
   "execution_count": 10,
   "id": "90fd37e5",
   "metadata": {},
   "outputs": [
    {
     "name": "stdout",
     "output_type": "stream",
     "text": [
      "['red', 'blue', 'green', 'orange', 'black', 'white']\n"
     ]
    }
   ],
   "source": [
    "color1 = ['red','blue', 'green']\n",
    "color2 = ['orange','black','white']\n",
    "print(color1 + color2)"
   ]
  },
  {
   "cell_type": "code",
   "execution_count": 11,
   "id": "8b71d88e",
   "metadata": {},
   "outputs": [
    {
     "data": {
      "text/plain": [
       "3"
      ]
     },
     "execution_count": 11,
     "metadata": {},
     "output_type": "execute_result"
    }
   ],
   "source": [
    "len(color1)"
   ]
  },
  {
   "cell_type": "code",
   "execution_count": 12,
   "id": "53c7fa34",
   "metadata": {},
   "outputs": [
    {
     "data": {
      "text/plain": [
       "['red', 'blue', 'green', 'orange', 'black', 'white']"
      ]
     },
     "execution_count": 12,
     "metadata": {},
     "output_type": "execute_result"
    }
   ],
   "source": [
    "total_color = color1 + color2\n",
    "total_color"
   ]
  },
  {
   "cell_type": "code",
   "execution_count": 13,
   "id": "4f4e60fa",
   "metadata": {},
   "outputs": [
    {
     "data": {
      "text/plain": [
       "['red', 'blue', 'green', 'red', 'blue', 'green']"
      ]
     },
     "execution_count": 13,
     "metadata": {},
     "output_type": "execute_result"
    }
   ],
   "source": [
    "color1 * 2"
   ]
  },
  {
   "cell_type": "code",
   "execution_count": 14,
   "id": "8f16ed7a",
   "metadata": {},
   "outputs": [
    {
     "data": {
      "text/plain": [
       "False"
      ]
     },
     "execution_count": 14,
     "metadata": {},
     "output_type": "execute_result"
    }
   ],
   "source": [
    "'blue' in color2"
   ]
  },
  {
   "cell_type": "code",
   "execution_count": 15,
   "id": "55f7319c",
   "metadata": {},
   "outputs": [
    {
     "data": {
      "text/plain": [
       "True"
      ]
     },
     "execution_count": 15,
     "metadata": {},
     "output_type": "execute_result"
    }
   ],
   "source": [
    "'blue' in color1"
   ]
  },
  {
   "cell_type": "markdown",
   "id": "0b11fd1c",
   "metadata": {},
   "source": [
    "# 리스트 메소드"
   ]
  },
  {
   "cell_type": "code",
   "execution_count": 16,
   "id": "dd70057a",
   "metadata": {},
   "outputs": [
    {
     "data": {
      "text/plain": [
       "['red', 'blue', 'green', 'white']"
      ]
     },
     "execution_count": 16,
     "metadata": {},
     "output_type": "execute_result"
    }
   ],
   "source": [
    "# append : 리스트에 항목 추가\n",
    "color = ['red', 'blue', 'green']\n",
    "color.append('white')\n",
    "color"
   ]
  },
  {
   "cell_type": "code",
   "execution_count": 17,
   "id": "3384c3c2",
   "metadata": {},
   "outputs": [
    {
     "data": {
      "text/plain": [
       "['red', 'blue', 'green', 'black', 'purple']"
      ]
     },
     "execution_count": 17,
     "metadata": {},
     "output_type": "execute_result"
    }
   ],
   "source": [
    "# extend : 리스트에 리스트 추가\n",
    "color = ['red', 'blue', 'green']\n",
    "\n",
    "color.extend(['black','purple'])\n",
    "color"
   ]
  },
  {
   "cell_type": "code",
   "execution_count": 19,
   "id": "002d86a3",
   "metadata": {},
   "outputs": [
    {
     "data": {
      "text/plain": [
       "['orange', 'red', 'blue', 'green']"
      ]
     },
     "execution_count": 19,
     "metadata": {},
     "output_type": "execute_result"
    }
   ],
   "source": [
    "# insert : 특정 위치에 항목 추가\n",
    "color = ['red', 'blue', 'green']\n",
    "\n",
    "color.insert(0,'orange')\n",
    "color"
   ]
  },
  {
   "cell_type": "code",
   "execution_count": 21,
   "id": "4bf2262a",
   "metadata": {},
   "outputs": [
    {
     "data": {
      "text/plain": [
       "['blue', 'green']"
      ]
     },
     "execution_count": 21,
     "metadata": {},
     "output_type": "execute_result"
    }
   ],
   "source": [
    "# remove : 특정 항목 삭제\n",
    "color = ['red', 'blue', 'green']\n",
    "\n",
    "color.remove('red')\n",
    "color"
   ]
  },
  {
   "cell_type": "code",
   "execution_count": 22,
   "id": "c2e9aa1f",
   "metadata": {},
   "outputs": [
    {
     "data": {
      "text/plain": [
       "['orange', 'blue', 'green']"
      ]
     },
     "execution_count": 22,
     "metadata": {},
     "output_type": "execute_result"
    }
   ],
   "source": [
    "# modify : 특정 위치의 값변경/재할당\n",
    "color = ['red', 'blue', 'green']\n",
    "\n",
    "color[0] = 'orange'\n",
    "color"
   ]
  },
  {
   "cell_type": "code",
   "execution_count": 23,
   "id": "661cd29d",
   "metadata": {},
   "outputs": [
    {
     "data": {
      "text/plain": [
       "['blue', 'green']"
      ]
     },
     "execution_count": 23,
     "metadata": {},
     "output_type": "execute_result"
    }
   ],
   "source": [
    "# del : 특정 인덱스값 삭제\n",
    "del color[0]\n",
    "color"
   ]
  },
  {
   "cell_type": "code",
   "execution_count": 24,
   "id": "e487b17f",
   "metadata": {},
   "outputs": [
    {
     "name": "stdout",
     "output_type": "stream",
     "text": [
      "[10, 20, 30, 40]\n",
      "[10, 20, 30, 40]\n"
     ]
    }
   ],
   "source": [
    "# sort : 리스트 정렬\n",
    "lst = [10,20,30,40]\n",
    "print(lst)\n",
    "\n",
    "lst.sort()\n",
    "print(lst)"
   ]
  },
  {
   "cell_type": "code",
   "execution_count": 25,
   "id": "0f32f7c9",
   "metadata": {},
   "outputs": [
    {
     "name": "stdout",
     "output_type": "stream",
     "text": [
      "['banana', 'apple', 'strawberry', 'orange']\n",
      "['apple', 'banana', 'orange', 'strawberry']\n"
     ]
    }
   ],
   "source": [
    "lst = ['banana','apple','strawberry','orange']\n",
    "print(lst)\n",
    "\n",
    "lst.sort()\n",
    "print(lst)"
   ]
  },
  {
   "cell_type": "code",
   "execution_count": 26,
   "id": "4d686790",
   "metadata": {},
   "outputs": [
    {
     "name": "stdout",
     "output_type": "stream",
     "text": [
      "['banana', 'apple', 'strawberry', 'orange']\n",
      "['orange', 'strawberry', 'apple', 'banana']\n"
     ]
    }
   ],
   "source": [
    "# revere : 리스트 항목 반전\n",
    "lst = ['banana','apple','strawberry','orange']\n",
    "print(lst)\n",
    "\n",
    "lst.reverse()\n",
    "print(lst)"
   ]
  },
  {
   "cell_type": "code",
   "execution_count": 27,
   "id": "2277f726",
   "metadata": {},
   "outputs": [
    {
     "name": "stdout",
     "output_type": "stream",
     "text": [
      "[10, 40, 20, 30]\n",
      "0\n",
      "2\n"
     ]
    }
   ],
   "source": [
    "# index : 리스트 요소 값에 대한 인덱스를 반환\n",
    "lst = [10,40,20,30]\n",
    "print(lst)\n",
    "print(lst.index(10))\n",
    "print(lst.index(20))"
   ]
  },
  {
   "cell_type": "code",
   "execution_count": 28,
   "id": "876d9ea6",
   "metadata": {},
   "outputs": [
    {
     "name": "stdout",
     "output_type": "stream",
     "text": [
      "[10, 40, 20, 30]\n",
      "[10, 40, 20]\n",
      "[40, 20]\n"
     ]
    }
   ],
   "source": [
    "# pop : 리스트 요소를 방출\n",
    "lst = [10,40,20,30]\n",
    "print(lst)\n",
    "\n",
    "lst.pop()\n",
    "print(lst)\n",
    "\n",
    "lst.pop(0)\n",
    "print(lst)"
   ]
  },
  {
   "cell_type": "code",
   "execution_count": 29,
   "id": "241c87be",
   "metadata": {
    "scrolled": true
   },
   "outputs": [
    {
     "name": "stdout",
     "output_type": "stream",
     "text": [
      "[10, 20, 20, 30, 30, 30]\n",
      "2\n",
      "3\n"
     ]
    }
   ],
   "source": [
    "#  count : 리스트 요소의 갯수 계산\n",
    "lst = [10,20,20,30,30,30]\n",
    "print(lst)\n",
    "print(lst.count(20))\n",
    "print(lst.count(30))"
   ]
  },
  {
   "cell_type": "markdown",
   "id": "acb00fe0",
   "metadata": {},
   "source": [
    "# 패킹과 언패킹"
   ]
  },
  {
   "cell_type": "code",
   "execution_count": 30,
   "id": "efa19982",
   "metadata": {},
   "outputs": [
    {
     "name": "stdout",
     "output_type": "stream",
     "text": [
      "[1, 2, 3] 1 2 3\n"
     ]
    }
   ],
   "source": [
    "t = [1,2,3] # 패킹 : 1,2,3을 리스트로 변수 t에 패킹 = 할당\n",
    "a,b,c = t # t에 있는 값들을 각 변수로 언패킹 = 반환\n",
    "print(t,a,b,c)"
   ]
  },
  {
   "cell_type": "code",
   "execution_count": 31,
   "id": "959cedda",
   "metadata": {},
   "outputs": [
    {
     "ename": "ValueError",
     "evalue": "not enough values to unpack (expected 5, got 3)",
     "output_type": "error",
     "traceback": [
      "\u001b[1;31m---------------------------------------------------------------------------\u001b[0m",
      "\u001b[1;31mValueError\u001b[0m                                Traceback (most recent call last)",
      "\u001b[1;32m<ipython-input-31-ae2b95d604ec>\u001b[0m in \u001b[0;36m<module>\u001b[1;34m\u001b[0m\n\u001b[1;32m----> 1\u001b[1;33m \u001b[0ma\u001b[0m\u001b[1;33m,\u001b[0m\u001b[0mb\u001b[0m\u001b[1;33m,\u001b[0m\u001b[0mc\u001b[0m\u001b[1;33m,\u001b[0m\u001b[0md\u001b[0m\u001b[1;33m,\u001b[0m\u001b[0me\u001b[0m \u001b[1;33m=\u001b[0m\u001b[0mt\u001b[0m\u001b[1;33m\u001b[0m\u001b[1;33m\u001b[0m\u001b[0m\n\u001b[0m",
      "\u001b[1;31mValueError\u001b[0m: not enough values to unpack (expected 5, got 3)"
     ]
    }
   ],
   "source": [
    "a,b,c,d,e =t"
   ]
  },
  {
   "cell_type": "code",
   "execution_count": 32,
   "id": "a9a04364",
   "metadata": {},
   "outputs": [
    {
     "ename": "ValueError",
     "evalue": "too many values to unpack (expected 2)",
     "output_type": "error",
     "traceback": [
      "\u001b[1;31m---------------------------------------------------------------------------\u001b[0m",
      "\u001b[1;31mValueError\u001b[0m                                Traceback (most recent call last)",
      "\u001b[1;32m<ipython-input-32-6dea088b3264>\u001b[0m in \u001b[0;36m<module>\u001b[1;34m\u001b[0m\n\u001b[1;32m----> 1\u001b[1;33m \u001b[0ma\u001b[0m\u001b[1;33m,\u001b[0m \u001b[0mb\u001b[0m \u001b[1;33m=\u001b[0m\u001b[0mt\u001b[0m\u001b[1;33m\u001b[0m\u001b[1;33m\u001b[0m\u001b[0m\n\u001b[0m",
      "\u001b[1;31mValueError\u001b[0m: too many values to unpack (expected 2)"
     ]
    }
   ],
   "source": [
    "a, b =t"
   ]
  },
  {
   "cell_type": "markdown",
   "id": "0abe445d",
   "metadata": {},
   "source": [
    "# 이차원 리스트"
   ]
  },
  {
   "cell_type": "code",
   "execution_count": 33,
   "id": "7f9fd297",
   "metadata": {},
   "outputs": [
    {
     "data": {
      "text/plain": [
       "[[49, 79, 20, 100, 80], [43, 59, 85, 30, 90], [49, 79, 49, 60, 100]]"
      ]
     },
     "execution_count": 33,
     "metadata": {},
     "output_type": "execute_result"
    }
   ],
   "source": [
    "kor_score = [49,79,20,100,80]\n",
    "math_score = [43,59,85,30,90]\n",
    "eng_score = [49,79,49,60,100]\n",
    "midterm_score = [kor_score, math_score, eng_score]\n",
    "midterm_score"
   ]
  },
  {
   "cell_type": "code",
   "execution_count": 34,
   "id": "af290a7f",
   "metadata": {},
   "outputs": [
    {
     "data": {
      "text/plain": [
       "20"
      ]
     },
     "execution_count": 34,
     "metadata": {},
     "output_type": "execute_result"
    }
   ],
   "source": [
    "midterm_score[0][2]"
   ]
  },
  {
   "cell_type": "markdown",
   "id": "5ab77bc4",
   "metadata": {},
   "source": [
    "# 중첩 리스트 (Nested List)"
   ]
  },
  {
   "cell_type": "code",
   "execution_count": 35,
   "id": "485828ae",
   "metadata": {},
   "outputs": [
    {
     "name": "stdout",
     "output_type": "stream",
     "text": [
      "[1, 2, 3, ['one', 'two', 'three']]\n"
     ]
    }
   ],
   "source": [
    "lst = [1,2,3 ,['one','two','three']]\n",
    "print(lst)"
   ]
  },
  {
   "cell_type": "code",
   "execution_count": 36,
   "id": "90c17a4e",
   "metadata": {},
   "outputs": [
    {
     "name": "stdout",
     "output_type": "stream",
     "text": [
      "['one', 'two', 'three']\n"
     ]
    }
   ],
   "source": [
    "print(lst[3])"
   ]
  },
  {
   "cell_type": "code",
   "execution_count": 37,
   "id": "70df64e9",
   "metadata": {},
   "outputs": [
    {
     "name": "stdout",
     "output_type": "stream",
     "text": [
      "one\n",
      "two\n",
      "three\n"
     ]
    }
   ],
   "source": [
    "print(lst[3][0])\n",
    "print(lst[3][1])\n",
    "print(lst[3][2])"
   ]
  },
  {
   "cell_type": "markdown",
   "id": "8a611d25",
   "metadata": {},
   "source": [
    "# 리스트의 메모리 관리 이해"
   ]
  },
  {
   "cell_type": "code",
   "execution_count": 38,
   "id": "14c6fb4c",
   "metadata": {},
   "outputs": [
    {
     "data": {
      "text/plain": [
       "[[49, 79, 20, 100, 80], [43, 59, 85, 30, 90], [49, 79, 49, 60, 100]]"
      ]
     },
     "execution_count": 38,
     "metadata": {},
     "output_type": "execute_result"
    }
   ],
   "source": [
    "midterm_score"
   ]
  },
  {
   "cell_type": "code",
   "execution_count": 39,
   "id": "4e717988",
   "metadata": {},
   "outputs": [
    {
     "data": {
      "text/plain": [
       "[43, 59, 85, 30, 90]"
      ]
     },
     "execution_count": 39,
     "metadata": {},
     "output_type": "execute_result"
    }
   ],
   "source": [
    "math_score"
   ]
  },
  {
   "cell_type": "code",
   "execution_count": 40,
   "id": "1888c4c2",
   "metadata": {},
   "outputs": [
    {
     "data": {
      "text/plain": [
       "[[49, 79, 20, 100, 80], [1000, 59, 85, 30, 90], [49, 79, 49, 60, 100]]"
      ]
     },
     "execution_count": 40,
     "metadata": {},
     "output_type": "execute_result"
    }
   ],
   "source": [
    "math_score[0] = 1000\n",
    "math_score\n",
    "midterm_score"
   ]
  },
  {
   "cell_type": "code",
   "execution_count": 41,
   "id": "60ac482b",
   "metadata": {},
   "outputs": [
    {
     "data": {
      "text/plain": [
       "False"
      ]
     },
     "execution_count": 41,
     "metadata": {},
     "output_type": "execute_result"
    }
   ],
   "source": [
    "a = 300\n",
    "b = 300\n",
    "a is b"
   ]
  },
  {
   "cell_type": "code",
   "execution_count": 42,
   "id": "73138a9a",
   "metadata": {},
   "outputs": [
    {
     "data": {
      "text/plain": [
       "True"
      ]
     },
     "execution_count": 42,
     "metadata": {},
     "output_type": "execute_result"
    }
   ],
   "source": [
    "a == b"
   ]
  },
  {
   "cell_type": "code",
   "execution_count": 43,
   "id": "8a9ab5bf",
   "metadata": {},
   "outputs": [
    {
     "data": {
      "text/plain": [
       "True"
      ]
     },
     "execution_count": 43,
     "metadata": {},
     "output_type": "execute_result"
    }
   ],
   "source": [
    "a = 1\n",
    "b = 1\n",
    "a is b"
   ]
  },
  {
   "cell_type": "code",
   "execution_count": 44,
   "id": "8a22131b",
   "metadata": {},
   "outputs": [
    {
     "data": {
      "text/plain": [
       "True"
      ]
     },
     "execution_count": 44,
     "metadata": {},
     "output_type": "execute_result"
    }
   ],
   "source": [
    "a == b"
   ]
  },
  {
   "cell_type": "code",
   "execution_count": 45,
   "id": "bc800dba",
   "metadata": {},
   "outputs": [
    {
     "name": "stdout",
     "output_type": "stream",
     "text": [
      "['color', 1, 0, 2]\n",
      "['yello', 'blue', 'green', 'black', 'purple']\n"
     ]
    }
   ],
   "source": [
    "a = ['color', 1, 0,2]\n",
    "color = ['yello','blue','green','black','purple']\n",
    "print(a)\n",
    "print(color)"
   ]
  },
  {
   "cell_type": "code",
   "execution_count": 46,
   "id": "426103a2",
   "metadata": {},
   "outputs": [
    {
     "name": "stdout",
     "output_type": "stream",
     "text": [
      "[['yello', 'blue', 'green', 'black', 'purple'], 1, 0, 2]\n"
     ]
    }
   ],
   "source": [
    "a[0] = color\n",
    "print(a)"
   ]
  },
  {
   "cell_type": "code",
   "execution_count": 47,
   "id": "ca5a3206",
   "metadata": {},
   "outputs": [
    {
     "name": "stdout",
     "output_type": "stream",
     "text": [
      "[5, 4, 3, 2, 1]\n"
     ]
    }
   ],
   "source": [
    "a = [5,4,3,2,1]\n",
    "b = [1,2,3,4,5]\n",
    "b = a\n",
    "print(b)"
   ]
  },
  {
   "cell_type": "code",
   "execution_count": 49,
   "id": "7fc6531a",
   "metadata": {},
   "outputs": [
    {
     "name": "stdout",
     "output_type": "stream",
     "text": [
      "[1, 2, 3, 4, 5]\n"
     ]
    }
   ],
   "source": [
    "a.sort()\n",
    "print(b)"
   ]
  },
  {
   "cell_type": "code",
   "execution_count": 50,
   "id": "d0431a7f",
   "metadata": {},
   "outputs": [
    {
     "name": "stdout",
     "output_type": "stream",
     "text": [
      "[1, 2, 3, 4, 5] [6, 7, 8, 9, 10]\n"
     ]
    }
   ],
   "source": [
    "b = [6,7,8,9,10]\n",
    "print(a,b)"
   ]
  },
  {
   "cell_type": "code",
   "execution_count": null,
   "id": "61eaf25c",
   "metadata": {},
   "outputs": [],
   "source": []
  }
 ],
 "metadata": {
  "kernelspec": {
   "display_name": "Python 3",
   "language": "python",
   "name": "python3"
  },
  "language_info": {
   "codemirror_mode": {
    "name": "ipython",
    "version": 3
   },
   "file_extension": ".py",
   "mimetype": "text/x-python",
   "name": "python",
   "nbconvert_exporter": "python",
   "pygments_lexer": "ipython3",
   "version": "3.8.8"
  }
 },
 "nbformat": 4,
 "nbformat_minor": 5
}
