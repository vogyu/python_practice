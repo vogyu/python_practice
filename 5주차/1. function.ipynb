{
 "cells": [
  {
   "cell_type": "markdown",
   "id": "f4dd7dbd",
   "metadata": {},
   "source": [
    "# 함수 기초"
   ]
  },
  {
   "cell_type": "code",
   "execution_count": 3,
   "id": "57d2548b",
   "metadata": {},
   "outputs": [
    {
     "name": "stdout",
     "output_type": "stream",
     "text": [
      "사각형 x의 길이 10\n",
      "사각형 y의 길이 20\n",
      "사각형의 넓이: 200\n"
     ]
    }
   ],
   "source": [
    "# 5-1 rectangle_area\n",
    "def calculate_rectangle_area(x,y):\n",
    "    return x * y\n",
    "\n",
    "rectangle_x = 10\n",
    "rectangle_y = 20\n",
    "print(\"사각형 x의 길이\", rectangle_x)\n",
    "print(\"사각형 y의 길이\", rectangle_y)\n",
    "\n",
    "# 넓이를 구하는 함수 호출\n",
    "print(\"사각형의 넓이:\", calculate_rectangle_area(rectangle_x, rectangle_y))"
   ]
  },
  {
   "cell_type": "code",
   "execution_count": 6,
   "id": "a74aa2a2",
   "metadata": {},
   "outputs": [
    {
     "name": "stdout",
     "output_type": "stream",
     "text": [
      "151\n"
     ]
    }
   ],
   "source": [
    "# 5-2 function\n",
    "def f(x):\n",
    "    return 2 * x + 7\n",
    "def g(x):\n",
    "    return x ** 2\n",
    "\n",
    "x=2\n",
    "print(f(x) + g(x) + f(g(x)) + g(f(x)))"
   ]
  },
  {
   "cell_type": "code",
   "execution_count": 7,
   "id": "e0735336",
   "metadata": {},
   "outputs": [
    {
     "name": "stdout",
     "output_type": "stream",
     "text": [
      "11\n"
     ]
    }
   ],
   "source": [
    "# 5-3 parameter\n",
    "def f(x):\n",
    "    return 2 * x + 7\n",
    "\n",
    "print(f(2))"
   ]
  },
  {
   "cell_type": "code",
   "execution_count": 9,
   "id": "2229b35e",
   "metadata": {},
   "outputs": [
    {
     "name": "stdout",
     "output_type": "stream",
     "text": [
      "35\n",
      "35\n",
      "35\n",
      "35\n"
     ]
    }
   ],
   "source": [
    "# 5-4 function_type\n",
    "def a_rectangle_area():\n",
    "    print(5 * 7)\n",
    "def b_rectangle_area(x,y):\n",
    "    print(x * y)\n",
    "def c_rectangle_area():\n",
    "    return(5 * 7)\n",
    "def d_rectangle_area(x, y):\n",
    "    return(x * y)\n",
    "\n",
    "a_rectangle_area()\n",
    "b_rectangle_area(5, 7)\n",
    "print(c_rectangle_area())\n",
    "print(d_rectangle_area(5, 7))"
   ]
  },
  {
   "cell_type": "markdown",
   "id": "e9e14e04",
   "metadata": {},
   "source": [
    "# [Lab] 계산기 함수\n",
    "* 연산자, 두 수를 받아서 덧셈, 뺄셈, 곱셈, 나눗셈을 수행하는 함수"
   ]
  },
  {
   "cell_type": "code",
   "execution_count": 13,
   "id": "0bb36463",
   "metadata": {},
   "outputs": [
    {
     "name": "stdout",
     "output_type": "stream",
     "text": [
      "13\n",
      "3\n",
      "40\n",
      "1.6\n"
     ]
    }
   ],
   "source": [
    "def calc(op, n1, n2):\n",
    "    result = 0\n",
    "    if op == '+':\n",
    "        result = n1 + n2\n",
    "    elif op == '-':\n",
    "        result = n1 - n2\n",
    "    elif op == '*':\n",
    "        result = n1 * n2\n",
    "    elif op == '/':\n",
    "        result = n1 / n2\n",
    "    return result\n",
    "\n",
    "print(calc('+', 8, 5))\n",
    "print(calc('-', 8, 5))\n",
    "print(calc('*', 8, 5))\n",
    "print(calc('/', 8, 5))"
   ]
  },
  {
   "cell_type": "markdown",
   "id": "21d30b8c",
   "metadata": {},
   "source": [
    "# 함수 심화"
   ]
  },
  {
   "cell_type": "code",
   "execution_count": 14,
   "id": "2ef373b6",
   "metadata": {},
   "outputs": [
    {
     "name": "stdout",
     "output_type": "stream",
     "text": [
      "9\n",
      "3\n"
     ]
    }
   ],
   "source": [
    "# 5-5 call1\n",
    "def f(x):\n",
    "    y = x\n",
    "    x = 5\n",
    "    return y * y\n",
    "\n",
    "x = 3\n",
    "print(f(x))\n",
    "print(x)"
   ]
  },
  {
   "cell_type": "code",
   "execution_count": 15,
   "id": "943af477",
   "metadata": {},
   "outputs": [
    {
     "name": "stdout",
     "output_type": "stream",
     "text": [
      "[0, 1]\n"
     ]
    }
   ],
   "source": [
    "# 5-6\n",
    "def spam(eggs):\n",
    "    eggs.append(1)\n",
    "    eggs = [2, 3]\n",
    "    \n",
    "ham = [0]\n",
    "spam(ham)\n",
    "print(ham)"
   ]
  },
  {
   "cell_type": "code",
   "execution_count": 2,
   "id": "34a220cf",
   "metadata": {},
   "outputs": [
    {
     "name": "stdout",
     "output_type": "stream",
     "text": [
      "10\n",
      "In Function: 20\n",
      "In Main: 10\n"
     ]
    }
   ],
   "source": [
    "# 5 - 7 scoping_rule (오류)\n",
    "def text(t):\n",
    "    print(x)\n",
    "    t = 20\n",
    "    print(\"In Function:\", t)\n",
    "\n",
    "x = 10\n",
    "text(10)\n",
    "print(\"In Main:\", x)\n",
    "#print(\"In Main:\", t)"
   ]
  },
  {
   "cell_type": "code",
   "execution_count": 17,
   "id": "cd987693",
   "metadata": {},
   "outputs": [
    {
     "name": "stdout",
     "output_type": "stream",
     "text": [
      "I love London!\n",
      "I love Paris\n"
     ]
    }
   ],
   "source": [
    "# 5-8 Local variable\n",
    "def f():\n",
    "    s = \"I love London!\"\n",
    "    print(s)\n",
    "s = \"I love Paris\"\n",
    "f()\n",
    "print(s)"
   ]
  },
  {
   "cell_type": "code",
   "execution_count": 18,
   "id": "86ecf6e8",
   "metadata": {
    "scrolled": true
   },
   "outputs": [
    {
     "name": "stdout",
     "output_type": "stream",
     "text": [
      "In Program = 1\n",
      "a: 5 b: 7 a + b: 12\n",
      "In Function\n",
      "a: 5 b: 7 a + b: 12\n",
      "After Calculation\n",
      "Total: 0  Sum: 12\n"
     ]
    }
   ],
   "source": [
    "# 5-10 scopring_rule_final\n",
    "def calculate(x,y):\n",
    "    total = x + y\n",
    "    print(\"In Function\")\n",
    "    print(\"a:\", str(a), \"b:\", str(b), \"a + b:\", str(a + b))\n",
    "    return total\n",
    "\n",
    "a = 5\n",
    "b = 7\n",
    "total = 0\n",
    "print(\"In Program = 1\")\n",
    "print(\"a:\", str(a), \"b:\", str(b), \"a + b:\", str(a + b))\n",
    "\n",
    "sum = calculate(a,b)\n",
    "print(\"After Calculation\")\n",
    "print(\"Total:\", str(total), \" Sum:\", str(sum))"
   ]
  },
  {
   "cell_type": "code",
   "execution_count": 20,
   "id": "7461ae6e",
   "metadata": {},
   "outputs": [
    {
     "name": "stdout",
     "output_type": "stream",
     "text": [
      "Input Number for Factorial Calculation : 5\n",
      "120\n"
     ]
    }
   ],
   "source": [
    "# 5-11 factorial\n",
    "def factorial(n):\n",
    "    if n == 1:\n",
    "        return 1\n",
    "    else:\n",
    "        return n * factorial(n-1)\n",
    "    \n",
    "print(factorial(int(input(\"Input Number for Factorial Calculation : \"))))"
   ]
  },
  {
   "cell_type": "markdown",
   "id": "8dfd31d8",
   "metadata": {},
   "source": [
    "# 함수의 인수"
   ]
  },
  {
   "cell_type": "code",
   "execution_count": 21,
   "id": "bb354b01",
   "metadata": {},
   "outputs": [
    {
     "name": "stdout",
     "output_type": "stream",
     "text": [
      "Hello Andy, My anme is Sun\n",
      "Hello TEAMLAB, My anme is Sungchul\n"
     ]
    }
   ],
   "source": [
    "# 5-12 keyword\n",
    "def print_something(my_name,your_name):\n",
    "    print(\"Hello {0}, My anme is {1}\".format(your_name, my_name))\n",
    "    \n",
    "print_something(\"Sun\", \"Andy\")\n",
    "print_something(your_name = \"TEAMLAB\", my_name = \"Sungchul\")"
   ]
  },
  {
   "cell_type": "code",
   "execution_count": 23,
   "id": "d8d63e33",
   "metadata": {},
   "outputs": [
    {
     "name": "stdout",
     "output_type": "stream",
     "text": [
      "Hello Sun, My name is Sungchul\n",
      "Hello TEAMLAB, My name is Sungchul\n"
     ]
    }
   ],
   "source": [
    "# 5-13 default\n",
    "def print_something_2(my_name, your_name = \"TEAMLAB\"):\n",
    "    print(\"Hello {0}, My name is {1}\".format(your_name, my_name))\n",
    "    \n",
    "print_something_2(\"Sungchul\", \"Sun\")\n",
    "print_something_2(\"Sungchul\")"
   ]
  },
  {
   "cell_type": "code",
   "execution_count": 26,
   "id": "1f127c0b",
   "metadata": {},
   "outputs": [
    {
     "name": "stdout",
     "output_type": "stream",
     "text": [
      "15\n"
     ]
    }
   ],
   "source": [
    "# 5-14 asterisk1\n",
    "#del sum\n",
    "def asterisk_test(a, b, *args):\n",
    "    return a + b + sum(args)\n",
    "\n",
    "print(asterisk_test(1,2,3,4,5))"
   ]
  },
  {
   "cell_type": "code",
   "execution_count": 3,
   "id": "14747469",
   "metadata": {},
   "outputs": [
    {
     "name": "stdout",
     "output_type": "stream",
     "text": [
      "(3, 4, 5)\n"
     ]
    }
   ],
   "source": [
    "# 5-15 asterisk2\n",
    "def asterisk_test(a,b,*args):\n",
    "    print(args)\n",
    "\n",
    "asterisk_test(1,2,3,4,5)"
   ]
  },
  {
   "cell_type": "code",
   "execution_count": 31,
   "id": "adad555a",
   "metadata": {},
   "outputs": [
    {
     "name": "stdout",
     "output_type": "stream",
     "text": [
      "(3, 4, [5])\n"
     ]
    }
   ],
   "source": [
    "# 5-16 asterisk3\n",
    "def asterisk_test_2(*args):\n",
    "    x,y, *z = args\n",
    "    return x, y, z\n",
    "print(asterisk_test_2(3,4,5))"
   ]
  },
  {
   "cell_type": "code",
   "execution_count": 32,
   "id": "ee801385",
   "metadata": {},
   "outputs": [
    {
     "name": "stdout",
     "output_type": "stream",
     "text": [
      "(3, 4, [5, 10, 20])\n"
     ]
    }
   ],
   "source": [
    "# 5-17 asterisk4\n",
    "print(asterisk_test_2(3,4,5,10,20))"
   ]
  },
  {
   "cell_type": "code",
   "execution_count": 34,
   "id": "b3376e56",
   "metadata": {},
   "outputs": [
    {
     "name": "stdout",
     "output_type": "stream",
     "text": [
      "{'first': 3, 'second': 4, 'third': 5} <class 'dict'>\n",
      "First value is 3\n",
      "Second value is 4\n",
      "Third value is 5\n"
     ]
    }
   ],
   "source": [
    "# 5-18 kwargs\n",
    "def kwargs_test(**kwargs):\n",
    "    print(kwargs, type(kwargs))\n",
    "    print(\"First value is {first}\".format(**kwargs))\n",
    "    print(\"Second value is {second}\".format(**kwargs))\n",
    "    print(\"Third value is {third}\".format(**kwargs))\n",
    "    \n",
    "kwargs_test(first = 3, second = 4, third = 5)"
   ]
  },
  {
   "cell_type": "markdown",
   "id": "6b7cf9c6",
   "metadata": {},
   "source": [
    "## 반환값이 여러개 있는 함수\n",
    "* 여러 반환값을 사용할 경우 튜블 형태로 변환"
   ]
  },
  {
   "cell_type": "code",
   "execution_count": 35,
   "id": "94653570",
   "metadata": {},
   "outputs": [
    {
     "name": "stdout",
     "output_type": "stream",
     "text": [
      "(13, 3)\n"
     ]
    }
   ],
   "source": [
    "def plus_and_minus(n1,n2):\n",
    "    return n1 + n2, n1 - n2\n",
    "\n",
    "result = plus_and_minus(8,5)\n",
    "print(result)"
   ]
  },
  {
   "cell_type": "code",
   "execution_count": 37,
   "id": "42b58a3c",
   "metadata": {},
   "outputs": [
    {
     "name": "stdout",
     "output_type": "stream",
     "text": [
      "plus: 13, minus: 3\n"
     ]
    }
   ],
   "source": [
    "plus, minus = plus_and_minus(8,5)\n",
    "print(\"plus: {0}, minus: {1}\".format(plus, minus))"
   ]
  },
  {
   "cell_type": "markdown",
   "id": "16b6f7b8",
   "metadata": {},
   "source": [
    "## [Lab] 가변 인수의 평균값 계산\n",
    "* 가변 매개변수로 들어오는 모든수의 평균값 계산"
   ]
  },
  {
   "cell_type": "code",
   "execution_count": 39,
   "id": "9af0fae0",
   "metadata": {},
   "outputs": [
    {
     "name": "stdout",
     "output_type": "stream",
     "text": [
      "3.0\n"
     ]
    }
   ],
   "source": [
    "def avg(*args):\n",
    "    sum = 0\n",
    "    for i in args:\n",
    "        sum += i\n",
    "    return (sum / len(args))\n",
    "\n",
    "print(avg(1,2,3,4,5))"
   ]
  },
  {
   "cell_type": "code",
   "execution_count": 41,
   "id": "342af810",
   "metadata": {},
   "outputs": [
    {
     "name": "stdout",
     "output_type": "stream",
     "text": [
      "['Korea', 'Japan', 'China']\n"
     ]
    }
   ],
   "source": [
    "# 연습문제 16\n",
    "country = [\"Korea\", \"Japan\",\"China\"]\n",
    "country.append(\"Remove\")\n",
    "country.remove(\"Remove\")\n",
    "print(country)"
   ]
  }
 ],
 "metadata": {
  "kernelspec": {
   "display_name": "Python 3",
   "language": "python",
   "name": "python3"
  },
  "language_info": {
   "codemirror_mode": {
    "name": "ipython",
    "version": 3
   },
   "file_extension": ".py",
   "mimetype": "text/x-python",
   "name": "python",
   "nbconvert_exporter": "python",
   "pygments_lexer": "ipython3",
   "version": "3.8.8"
  }
 },
 "nbformat": 4,
 "nbformat_minor": 5
}
