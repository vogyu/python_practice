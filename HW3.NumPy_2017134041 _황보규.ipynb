{
 "cells": [
  {
   "cell_type": "markdown",
   "metadata": {},
   "source": [
    "# 2017134041 황보규"
   ]
  },
  {
   "cell_type": "code",
   "execution_count": 19,
   "metadata": {},
   "outputs": [
    {
     "data": {
      "text/plain": [
       "'1.20.1'"
      ]
     },
     "execution_count": 19,
     "metadata": {},
     "output_type": "execute_result"
    }
   ],
   "source": [
    "import numpy as np\n",
    "np.__version__"
   ]
  },
  {
   "cell_type": "markdown",
   "metadata": {
    "id": "4l4E56ptamoJ"
   },
   "source": [
    "# Q1. 배열 생성\n",
    "1. 모두 0으로 채운 3 x 3 배열 a 생성 \n",
    "2. 모두 1로 채운 2 x 3 배열 b 생성\n",
    "3. 5로 채운 2 x 3 x 3 배열 c 생성\n",
    "4. 5 x 5 단위 행렬 d 생성"
   ]
  },
  {
   "cell_type": "code",
   "execution_count": 20,
   "metadata": {},
   "outputs": [
    {
     "name": "stdout",
     "output_type": "stream",
     "text": [
      "[[0 0 0]\n",
      " [0 0 0]\n",
      " [0 0 0]]\n",
      "[[1 1 1]\n",
      " [1 1 1]]\n",
      "[[[5 5 5]\n",
      "  [5 5 5]\n",
      "  [5 5 5]]\n",
      "\n",
      " [[5 5 5]\n",
      "  [5 5 5]\n",
      "  [5 5 5]]]\n",
      "[[1. 0. 0. 0. 0.]\n",
      " [0. 1. 0. 0. 0.]\n",
      " [0. 0. 1. 0. 0.]\n",
      " [0. 0. 0. 1. 0.]\n",
      " [0. 0. 0. 0. 1.]]\n"
     ]
    }
   ],
   "source": [
    "a = np.full((3,3),0)\n",
    "print(a)\n",
    "b = np.full((2,3),1)\n",
    "print(b)\n",
    "c = np.full((2,3,3),5)\n",
    "print(c)\n",
    "d = np.eye(5)\n",
    "print(d)"
   ]
  },
  {
   "cell_type": "markdown",
   "metadata": {
    "id": "JkG3QD3SamoX"
   },
   "source": [
    "# Q2. range, reshape 함수를 사용하여 1~25 의 정수로 5 x 5 배열 arr 생성\n",
    "\n"
   ]
  },
  {
   "cell_type": "code",
   "execution_count": 21,
   "metadata": {},
   "outputs": [
    {
     "name": "stdout",
     "output_type": "stream",
     "text": [
      "[[ 1  2  3  4  5]\n",
      " [ 6  7  8  9 10]\n",
      " [11 12 13 14 15]\n",
      " [16 17 18 19 20]\n",
      " [21 22 23 24 25]]\n"
     ]
    }
   ],
   "source": [
    "arr = np.array(range(1,26)).reshape(5,5)\n",
    "print(arr)"
   ]
  },
  {
   "cell_type": "markdown",
   "metadata": {
    "id": "aJF1k4pFamoj"
   },
   "source": [
    "# Q3. 불린 인덱스를 이용하여 arr 배열의 대각선 ''\\\\'' 상의 요소 선택\n"
   ]
  },
  {
   "cell_type": "code",
   "execution_count": 22,
   "metadata": {},
   "outputs": [
    {
     "name": "stdout",
     "output_type": "stream",
     "text": [
      "[ 1  7 13 19 25]\n"
     ]
    }
   ],
   "source": [
    "a = np.array(arr)\n",
    "\n",
    "bool_indexing_array = np.array([[True, False, False, False, False],\n",
    "                               [False, True, False, False, False],\n",
    "                               [False, False, True, False, False],\n",
    "                               [False, False, False, True, False],\n",
    "                               [False, False, False, False, True]])\n",
    "\n",
    "n = a[bool_indexing_array]\n",
    "print(n)"
   ]
  },
  {
   "cell_type": "markdown",
   "metadata": {
    "id": "xUUWXjVJamon"
   },
   "source": [
    "# Q4.  arr 배열의 인덱스가 짝수인 요소만 조회 (불린 인덱스와 조건식을 조합)\n"
   ]
  },
  {
   "cell_type": "code",
   "execution_count": 23,
   "metadata": {},
   "outputs": [
    {
     "name": "stdout",
     "output_type": "stream",
     "text": [
      "[[False  True False  True False]\n",
      " [ True False  True False  True]\n",
      " [False  True False  True False]\n",
      " [ True False  True False  True]\n",
      " [False  True False  True False]]\n",
      "[ 2  4  6  8 10 12 14 16 18 20 22 24]\n"
     ]
    }
   ],
   "source": [
    "bool_index = (a % 2 == 0)\n",
    "\n",
    "print(bool_index)\n",
    "\n",
    "print(a[bool_index])"
   ]
  },
  {
   "cell_type": "markdown",
   "metadata": {
    "id": "a4GOfQ9_amot"
   },
   "source": [
    "# Q5. 배열 간 연산"
   ]
  },
  {
   "cell_type": "code",
   "execution_count": 24,
   "metadata": {
    "id": "y1oA3fGCamou"
   },
   "outputs": [
    {
     "name": "stdout",
     "output_type": "stream",
     "text": [
      "[[ 6  8]\n",
      " [10 12]]\n",
      "[[-4 -4]\n",
      " [-4 -4]]\n",
      "[[ 5 12]\n",
      " [21 32]]\n",
      "[[19 22]\n",
      " [43 50]]\n",
      "[55 60 65 70 75]\n",
      "[ 3.  8. 13. 18. 23.]\n"
     ]
    }
   ],
   "source": [
    "# 1번문제\n",
    "m1 = np.array([\n",
    "    [1,2],\n",
    "    [3,4]\n",
    "])\n",
    "m2 = np.array([\n",
    "    [5,6],\n",
    "    [7,8]\n",
    "])\n",
    "\n",
    "c = m1 + m2\n",
    "print(c)\n",
    "c = m1 - m2\n",
    "print(c)\n",
    "c = m1 * m2\n",
    "print(c)\n",
    "print(np.matmul(m1,m2))\n",
    "\n",
    "# 2번문제\n",
    "s = np.sum(arr, axis=0)\n",
    "print(s)\n",
    "\n",
    "v = np.mean(arr, axis=1)\n",
    "print(v)"
   ]
  },
  {
   "cell_type": "markdown",
   "metadata": {},
   "source": [
    "1. m1, m2 배열의 각 요소 간 합, 차, 곱, 행렬곱\n",
    "2. arr 배열의 컬럼(열)별 합계\n",
    "3. arr 배열의 행별 평균"
   ]
  },
  {
   "cell_type": "markdown",
   "metadata": {},
   "source": [
    "# Q6. car.csv 파일 불러 오기"
   ]
  },
  {
   "cell_type": "markdown",
   "metadata": {
    "id": "oDVL5-Koq0j4"
   },
   "source": [
    "1. 데이터에서 첫번째열은 speed, 두번째열은 dist입니다. speed 데이터만 추출하여 speed 변수에 저장하세요.\n",
    "2. speed 의 평균, 분산을 구하세요."
   ]
  },
  {
   "cell_type": "code",
   "execution_count": 34,
   "metadata": {},
   "outputs": [
    {
     "name": "stdout",
     "output_type": "stream",
     "text": [
      "[[  4.   2.]\n",
      " [  4.  10.]\n",
      " [  7.   4.]\n",
      " [  7.  22.]\n",
      " [  8.  16.]\n",
      " [  9.  10.]\n",
      " [ 10.  18.]\n",
      " [ 10.  26.]\n",
      " [ 10.  34.]\n",
      " [ 11.  17.]\n",
      " [ 11.  28.]\n",
      " [ 12.  14.]\n",
      " [ 12.  20.]\n",
      " [ 12.  24.]\n",
      " [ 12.  28.]\n",
      " [ 13.  26.]\n",
      " [ 13.  34.]\n",
      " [ 13.  34.]\n",
      " [ 13.  46.]\n",
      " [ 14.  26.]\n",
      " [ 14.  36.]\n",
      " [ 14.  60.]\n",
      " [ 14.  80.]\n",
      " [ 15.  20.]\n",
      " [ 15.  26.]\n",
      " [ 15.  54.]\n",
      " [ 16.  32.]\n",
      " [ 16.  40.]\n",
      " [ 17.  32.]\n",
      " [ 17.  40.]\n",
      " [ 17.  50.]\n",
      " [ 18.  42.]\n",
      " [ 18.  56.]\n",
      " [ 18.  76.]\n",
      " [ 18.  84.]\n",
      " [ 19.  36.]\n",
      " [ 19.  46.]\n",
      " [ 19.  68.]\n",
      " [ 20.  32.]\n",
      " [ 20.  48.]\n",
      " [ 20.  52.]\n",
      " [ 20.  56.]\n",
      " [ 20.  64.]\n",
      " [ 22.  66.]\n",
      " [ 23.  54.]\n",
      " [ 24.  70.]\n",
      " [ 24.  92.]\n",
      " [ 24.  93.]\n",
      " [ 24. 120.]\n",
      " [ 25.  85.]]\n",
      "[ 4.  4.  7.  7.  8.  9. 10. 10. 10. 11. 11. 12. 12. 12. 12. 13. 13. 13.\n",
      " 13. 14. 14. 14. 14. 15. 15. 15. 16. 16. 17. 17. 17. 18. 18. 18. 18. 19.\n",
      " 19. 19. 20. 20. 20. 20. 20. 22. 23. 24. 24. 24. 24. 25.]\n",
      "15.4\n",
      "27.4\n"
     ]
    }
   ],
   "source": [
    "data = np.loadtxt(\"car.csv\", delimiter=',')\n",
    "\n",
    "print(data)\n",
    "\n",
    "speed = data[:,0]\n",
    "print(speed)\n",
    "\n",
    "m = np.mean(speed)\n",
    "print(m)\n",
    "\n",
    "v = np.var(speed)\n",
    "print(v)"
   ]
  }
 ],
 "metadata": {
  "colab": {
   "collapsed_sections": [],
   "name": "[Template] [과제] NumPy.ipynb",
   "provenance": []
  },
  "kernelspec": {
   "display_name": "Python 3",
   "language": "python",
   "name": "python3"
  },
  "language_info": {
   "codemirror_mode": {
    "name": "ipython",
    "version": 3
   },
   "file_extension": ".py",
   "mimetype": "text/x-python",
   "name": "python",
   "nbconvert_exporter": "python",
   "pygments_lexer": "ipython3",
   "version": "3.8.8"
  }
 },
 "nbformat": 4,
 "nbformat_minor": 1
}
